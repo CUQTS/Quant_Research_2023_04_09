{
 "cells": [
  {
   "cell_type": "code",
   "execution_count": 1,
   "id": "e3609efd",
   "metadata": {
    "id": "e3609efd",
    "outputId": "64ed664b-e57f-4b18-8e81-61910870ac48"
   },
   "outputs": [
    {
     "name": "stdout",
     "output_type": "stream",
     "text": [
      "Requirement already satisfied: xgboost in c:\\users\\anson\\anaconda3\\lib\\site-packages (1.7.4)\n",
      "Requirement already satisfied: numpy in c:\\users\\anson\\anaconda3\\lib\\site-packages (from xgboost) (1.21.5)\n",
      "Requirement already satisfied: scipy in c:\\users\\anson\\anaconda3\\lib\\site-packages (from xgboost) (1.9.1)\n",
      "Requirement already satisfied: colorama==0.4.4 in c:\\users\\anson\\anaconda3\\lib\\site-packages (0.4.4)\n",
      "Requirement already satisfied: bayesian-optimization==1.4.0 in c:\\users\\anson\\anaconda3\\lib\\site-packages (1.4.0)\n",
      "Requirement already satisfied: scikit-learn>=0.18.0 in c:\\users\\anson\\anaconda3\\lib\\site-packages (from bayesian-optimization==1.4.0) (1.0.2)\n",
      "Requirement already satisfied: scipy>=1.0.0 in c:\\users\\anson\\anaconda3\\lib\\site-packages (from bayesian-optimization==1.4.0) (1.9.1)\n",
      "Requirement already satisfied: numpy>=1.9.0 in c:\\users\\anson\\anaconda3\\lib\\site-packages (from bayesian-optimization==1.4.0) (1.21.5)\n",
      "Requirement already satisfied: threadpoolctl>=2.0.0 in c:\\users\\anson\\anaconda3\\lib\\site-packages (from scikit-learn>=0.18.0->bayesian-optimization==1.4.0) (2.2.0)\n",
      "Requirement already satisfied: joblib>=0.11 in c:\\users\\anson\\anaconda3\\lib\\site-packages (from scikit-learn>=0.18.0->bayesian-optimization==1.4.0) (1.1.0)\n"
     ]
    }
   ],
   "source": [
    "!pip install xgboost\n",
    "!pip install colorama==0.4.4\n",
    "!pip install bayesian-optimization==1.4.0\n",
    "import os\n",
    "import pandas as pd\n",
    "import numpy as np\n",
    "import xgboost as xgb\n",
    "import seaborn as sns\n",
    "from bayes_opt import BayesianOptimization\n",
    "from sklearn.datasets import load_boston\n",
    "from sklearn.model_selection import train_test_split\n",
    "from sklearn.metrics import mean_squared_error, accuracy_score, f1_score, roc_auc_score"
   ]
  },
  {
   "cell_type": "markdown",
   "id": "0a6a3488",
   "metadata": {
    "id": "0a6a3488"
   },
   "source": [
    "# Configuration"
   ]
  },
  {
   "cell_type": "code",
   "execution_count": 34,
   "id": "e7b6d09c",
   "metadata": {
    "id": "e7b6d09c"
   },
   "outputs": [],
   "source": [
    "# Config for the XG Boost Testing\n",
    "\n",
    "# Where You Store the folder\n",
    "Folder_Path = \"C:\\\\Users\\\\anson\\\\OneDrive\\\\桌面\\\\CUQTS\\\\2023_03_08_FX_Parity\\\\CUQTS-FX-Parity-Research-Source-Code\\\\CUQTS_FXParity-main\\\\Result\"\n",
    "\n",
    "# TimeFrame List & Included Test Currencies\n",
    "tf_list = [\"1M\", \"3M\"]\n",
    "curr_list = [\"USD\", \"JPY\", \"GBP\", \"CHF\",\"AUD\", \"CAD\", \"NZD\", \"NOK\", \"SEK\", \"EUR\"]\n",
    "exp_return_threshold = 0 # When exp.return > threshold -> Classified as 1\n",
    "\n",
    "# ML Metrics - Use as a *kwargs to initialize ML Variable in XGBoost Classifier\n",
    "model_training_parameters = {\n",
    "    'learning_rate': 0.2, \n",
    "    'gamma': 0.2, \n",
    "    'reg_alpha': 0.1,\n",
    "    'objective': 'binary:logistic',\n",
    "    'random_state': 4010,\n",
    "}\n",
    "\n",
    "# Additional Choices\n",
    "default_threshold = 0\n",
    "activate_search_threshold = False\n",
    "predict_direction = \"IRP\" # PPP/IRP\n",
    "drop_fe_list = [\"start_date\", \"end_date\", \"realized_spot\",\"initial_spot\", \"expected_spot\", \"expected_ret\", \"spot_error_pct\"] # Initial Spots, Realized Spots, You may drop as many as you like (Sample Columns is as below)\n",
    "time_lag = 2 # Will loop through shift 1, 2, ....(time_lag) as user inputs\n",
    "time_lag_dict = {\"1M\":5, \"3M\":1}\n",
    "predict_period_after = 1 # Use latest data to predict whether label after kth period will rise."
   ]
  },
  {
   "cell_type": "code",
   "execution_count": 35,
   "id": "21da3766",
   "metadata": {
    "id": "21da3766"
   },
   "outputs": [],
   "source": [
    "# Variable Adjustment\n",
    "\n",
    "# Generated cross product of currency list\n",
    "curr_pair_1 = curr_list\n",
    "curr_pair_2 = curr_list\n",
    "gen = ((x, y) for x in curr_pair_1 for y in curr_pair_2 if x != y)\n",
    "\n",
    "# predict_direction - Later Implementation\n",
    "# dir_from = predict_direction.split('-')[0]\n",
    "# dir_to = predict_direction.split('-')[1]"
   ]
  },
  {
   "cell_type": "code",
   "execution_count": 36,
   "id": "97921327",
   "metadata": {},
   "outputs": [],
   "source": [
    "#reading treasury rate\n",
    "\n",
    "treasury_dict = {}\n",
    "G_10 = curr_list\n",
    "Maturity = tf_list\n",
    "\n",
    "for currency in G_10:\n",
    "    for maturity in Maturity:\n",
    "        \n",
    "        if currency == 'USD':\n",
    "            ticker = 'USGG' + maturity + ' Index'\n",
    "        else:\n",
    "            ticker = 'GT'+ currency + maturity + ' Govt'\n",
    "        try:\n",
    "            treasury_data_df = pd.read_csv('C:\\\\Users\\\\anson\\\\OneDrive\\\\桌面\\\\CUQTS\\\\2023_03_08_FX_Parity\\\\CUQTS-FX-Parity-Research-Source-Code\\\\CUQTS_FXParity-main\\\\Treasury Rate\\\\' \n",
    "                                        + ticker + '.csv', header = 1, index_col = 0)\n",
    "            treasury_dict[currency+'_'+maturity] = treasury_data_df\n",
    "        except:\n",
    "            treasury_dict[currency+'_'+maturity] = None\n"
   ]
  },
  {
   "cell_type": "markdown",
   "id": "5358f36f",
   "metadata": {
    "id": "5358f36f"
   },
   "source": [
    "# Predefined function for later step"
   ]
  },
  {
   "cell_type": "code",
   "execution_count": 37,
   "id": "7a4906e8",
   "metadata": {
    "id": "7a4906e8"
   },
   "outputs": [],
   "source": [
    "def feature_engine(result_df, time_lag):\n",
    "    req_col = result_df.columns\n",
    "    for col in req_col:\n",
    "        if col == \"label\":\n",
    "            continue\n",
    "        for i in range(1, time_lag + 1):\n",
    "            result_df[f\"{col}_shift{i}\"] = result_df[col].shift(i)\n",
    "    return result_df\n",
    "\n",
    "def label_result(result_df, threshold = default_threshold):\n",
    "    # Here you can add any label as you want...\n",
    "    result_df[\"label\"] = np.where(result_df[\"realized_ret\"] > threshold, 1, 0)\n",
    "    result_df[\"label\"] = result_df[\"label\"].shift(-predict_period_after)\n",
    "    \n",
    "    return result_df\n",
    "\n",
    "def get_best_params(result_df):\n",
    "    result_df = result_df.dropna()\n",
    "    # set training parameters and label & split the testing set.\n",
    "    X = result_df.drop(columns = [\"label\"])\n",
    "    Y = result_df[\"label\"]\n",
    "    X_train, X_test, y_train, y_test = train_test_split(X, Y)\n",
    "    # Optimize the machine learning parameter\n",
    "    # print(X_train, y_train)\n",
    "    def xgb_cv(learning_rate, max_depth):\n",
    "        params = {'learning_rate': learning_rate, 'max_depth': int(max_depth), 'objective': 'binary:logistic'}\n",
    "        cv_result = xgb.XGBClassifier(**params).fit(X_train, y_train).predict_proba(X_test)[:,1]\n",
    "        return f1_score(y_test, (cv_result > 0.5).astype(int))\n",
    "    # Set up the Bayesian optimizer\n",
    "    pbounds = {'learning_rate': (0.01, 1.0), 'max_depth': (1, 10)}\n",
    "    optimizer = BayesianOptimization(f=xgb_cv, pbounds=pbounds, random_state=42)\n",
    "\n",
    "    # Run the optimization loop\n",
    "    optimizer.maximize(init_points=5, n_iter=10)\n",
    "    best_params = optimizer.max['params']\n",
    "    best_params[\"max_depth\"] = int(best_params[\"max_depth\"])\n",
    "    return best_params\n",
    "\n",
    "def get_best_classification(result_df):\n",
    "    result_df = result_df.dropna()\n",
    "    \n",
    "    X = result_df\n",
    "    Y = np.where(result_df[\"realized_ret\"] > default_threshold, 1, 0)\n",
    "    X_train, X_test, y_train, y_test = train_test_split(X, Y)\n",
    "\n",
    "    def optimize_cf(threshold):\n",
    "        param = {'threshold': threshold}\n",
    "        return f1_score(y_train, (X_train[\"realized_ret\"] > threshold).astype(int))\n",
    "    pbounds = {'threshold': (-0.005, 0.005)}\n",
    "    \n",
    "    optimizer = BayesianOptimization(f=optimize_cf, pbounds=pbounds, random_state=42)\n",
    "    optimizer.maximize(init_points=5, n_iter=10)\n",
    "    \n",
    "    results = optimizer.res\n",
    "    filtered_results = [result for result in results if result['target'] != 1.0]\n",
    "    best_params = max(filtered_results, key=lambda x: x['target'])['params'][\"threshold\"]\n",
    "    # best_params = optimizer.max['params']\n",
    "    return best_params\n",
    "\n",
    "def trainXGModel(result_df, best_params):\n",
    "    result_df = result_df.dropna()\n",
    "    # set training parameters and label & split the testing set.\n",
    "    X = result_df.drop(columns = [\"label\"])\n",
    "    Y = result_df[\"label\"]\n",
    "    X_train, X_test, y_train, y_test = train_test_split(X, Y, test_size=0.2, shuffle = False)\n",
    "    \n",
    "    # Fit the model\n",
    "    model = xgb.XGBClassifier(**model_training_parameters)\n",
    "    # model = xgb.XGBClassifier(**best_params)\n",
    "    model.fit(X_train, y_train)\n",
    "    \n",
    "    # Get the feature importance object\n",
    "    tmp_df = pd.DataFrame(model.feature_importances_.reshape(1, -1), columns=X.columns)\n",
    "    obj = tmp_df.to_dict(orient='records')[0]\n",
    "    \n",
    "    # Predict the model \n",
    "    y_pred = pd.DataFrame(model.predict(X_test), index=y_test.index)\n",
    "    accuracy = accuracy_score(y_test, y_pred)\n",
    "    \n",
    "    return (accuracy, obj, y_pred)"
   ]
  },
  {
   "cell_type": "markdown",
   "id": "860fb8c9",
   "metadata": {
    "id": "860fb8c9"
   },
   "source": [
    "# Main Logic "
   ]
  },
  {
   "cell_type": "code",
   "execution_count": 38,
   "id": "f5ed1d25",
   "metadata": {},
   "outputs": [],
   "source": [
    "#Econ_Accuracy_Study\n",
    "econ_accuracy_1M_df = pd.DataFrame()\n",
    "econ_accuracy_3M_df = pd.DataFrame()\n",
    "econ_accuracy_1M_df.index = accuracy_df.columns\n",
    "econ_accuracy_3M_df.index = accuracy_df.columns"
   ]
  },
  {
   "cell_type": "code",
   "execution_count": 49,
   "id": "7035ab51",
   "metadata": {},
   "outputs": [],
   "source": [
    "#Flag to control which case to fit in\n",
    "with_realized_ret = True\n",
    "with_econ_data = True"
   ]
  },
  {
   "cell_type": "code",
   "execution_count": 50,
   "id": "a5bb8054",
   "metadata": {},
   "outputs": [],
   "source": [
    "if with_econ_data:\n",
    "    drop_fe_list = [\"start_date\", \"end_date\", \"realized_spot\",\"initial_spot\", \"expected_spot\", \"expected_ret\", \"spot_error_pct\"]\n",
    "else:\n",
    "    drop_fe_list = [\"start_date\", \"end_date\", \"realized_spot\",\"initial_spot\", \"expected_spot\", \"expected_ret\", \"spot_error_pct\",\"spread\", \"base_econ\", \"pricing_econ\"]"
   ]
  },
  {
   "cell_type": "code",
   "execution_count": 51,
   "id": "48166fff",
   "metadata": {
    "id": "48166fff",
    "outputId": "ce84a4d2-0e3d-49c2-a7e8-849613b65266"
   },
   "outputs": [
    {
     "name": "stdout",
     "output_type": "stream",
     "text": [
      "USD JPY\n",
      "|   iter    |  target   | learni... | max_depth |\n",
      "-------------------------------------------------\n",
      "| \u001b[0m1        \u001b[0m | \u001b[0m0.7273   \u001b[0m | \u001b[0m0.3808   \u001b[0m | \u001b[0m9.556    \u001b[0m |\n",
      "| \u001b[0m2        \u001b[0m | \u001b[0m0.5      \u001b[0m | \u001b[0m0.7347   \u001b[0m | \u001b[0m6.388    \u001b[0m |\n",
      "| \u001b[0m3        \u001b[0m | \u001b[0m0.7273   \u001b[0m | \u001b[0m0.1645   \u001b[0m | \u001b[0m2.404    \u001b[0m |\n",
      "| \u001b[0m4        \u001b[0m | \u001b[0m0.6667   \u001b[0m | \u001b[0m0.0675   \u001b[0m | \u001b[0m8.796    \u001b[0m |\n",
      "| \u001b[0m5        \u001b[0m | \u001b[0m0.6667   \u001b[0m | \u001b[0m0.6051   \u001b[0m | \u001b[0m7.373    \u001b[0m |\n",
      "| \u001b[0m6        \u001b[0m | \u001b[0m0.7273   \u001b[0m | \u001b[0m0.2307   \u001b[0m | \u001b[0m9.515    \u001b[0m |\n",
      "| \u001b[0m7        \u001b[0m | \u001b[0m0.7143   \u001b[0m | \u001b[0m0.02596  \u001b[0m | \u001b[0m1.253    \u001b[0m |\n",
      "| \u001b[0m8        \u001b[0m | \u001b[0m0.5714   \u001b[0m | \u001b[0m0.9997   \u001b[0m | \u001b[0m1.683    \u001b[0m |\n",
      "| \u001b[0m9        \u001b[0m | \u001b[0m0.0      \u001b[0m | \u001b[0m0.01     \u001b[0m | \u001b[0m3.197    \u001b[0m |\n",
      "| \u001b[0m10       \u001b[0m | \u001b[0m0.5714   \u001b[0m | \u001b[0m0.01     \u001b[0m | \u001b[0m1.88     \u001b[0m |\n",
      "| \u001b[0m11       \u001b[0m | \u001b[0m0.5455   \u001b[0m | \u001b[0m0.6787   \u001b[0m | \u001b[0m9.063    \u001b[0m |\n",
      "| \u001b[0m12       \u001b[0m | \u001b[0m0.7273   \u001b[0m | \u001b[0m0.1715   \u001b[0m | \u001b[0m10.0     \u001b[0m |\n",
      "| \u001b[0m13       \u001b[0m | \u001b[0m0.6154   \u001b[0m | \u001b[0m0.8428   \u001b[0m | \u001b[0m10.0     \u001b[0m |\n",
      "| \u001b[0m14       \u001b[0m | \u001b[0m0.7273   \u001b[0m | \u001b[0m0.1679   \u001b[0m | \u001b[0m2.417    \u001b[0m |\n",
      "| \u001b[0m15       \u001b[0m | \u001b[0m0.1818   \u001b[0m | \u001b[0m0.01332  \u001b[0m | \u001b[0m7.918    \u001b[0m |\n",
      "=================================================\n",
      "USD JPY\n",
      "|   iter    |  target   | learni... | max_depth |\n",
      "-------------------------------------------------\n",
      "| \u001b[0m1        \u001b[0m | \u001b[0m0.5455   \u001b[0m | \u001b[0m0.3808   \u001b[0m | \u001b[0m9.556    \u001b[0m |\n",
      "| \u001b[95m2        \u001b[0m | \u001b[95m0.6087   \u001b[0m | \u001b[95m0.7347   \u001b[0m | \u001b[95m6.388    \u001b[0m |\n",
      "| \u001b[0m3        \u001b[0m | \u001b[0m0.6087   \u001b[0m | \u001b[0m0.1645   \u001b[0m | \u001b[0m2.404    \u001b[0m |\n",
      "| \u001b[0m4        \u001b[0m | \u001b[0m0.6087   \u001b[0m | \u001b[0m0.0675   \u001b[0m | \u001b[0m8.796    \u001b[0m |\n",
      "| \u001b[0m5        \u001b[0m | \u001b[0m0.56     \u001b[0m | \u001b[0m0.6051   \u001b[0m | \u001b[0m7.373    \u001b[0m |\n",
      "| \u001b[0m6        \u001b[0m | \u001b[0m0.6087   \u001b[0m | \u001b[0m0.6762   \u001b[0m | \u001b[0m5.777    \u001b[0m |\n",
      "| \u001b[0m7        \u001b[0m | \u001b[0m0.5217   \u001b[0m | \u001b[0m0.6238   \u001b[0m | \u001b[0m6.375    \u001b[0m |\n",
      "| \u001b[95m8        \u001b[0m | \u001b[95m0.6667   \u001b[0m | \u001b[95m0.1103   \u001b[0m | \u001b[95m5.695    \u001b[0m |\n",
      "| \u001b[95m9        \u001b[0m | \u001b[95m0.6957   \u001b[0m | \u001b[95m0.01559  \u001b[0m | \u001b[95m5.174    \u001b[0m |\n",
      "| \u001b[0m10       \u001b[0m | \u001b[0m0.5833   \u001b[0m | \u001b[0m0.6709   \u001b[0m | \u001b[0m6.78     \u001b[0m |\n",
      "| \u001b[0m11       \u001b[0m | \u001b[0m0.5714   \u001b[0m | \u001b[0m0.04215  \u001b[0m | \u001b[0m2.937    \u001b[0m |\n",
      "| \u001b[0m12       \u001b[0m | \u001b[0m0.6087   \u001b[0m | \u001b[0m0.4474   \u001b[0m | \u001b[0m8.419    \u001b[0m |\n",
      "| \u001b[0m13       \u001b[0m | \u001b[0m0.64     \u001b[0m | \u001b[0m0.02843  \u001b[0m | \u001b[0m4.945    \u001b[0m |\n",
      "| \u001b[0m14       \u001b[0m | \u001b[0m0.5833   \u001b[0m | \u001b[0m0.4012   \u001b[0m | \u001b[0m5.386    \u001b[0m |\n",
      "| \u001b[0m15       \u001b[0m | \u001b[0m0.6364   \u001b[0m | \u001b[0m0.6933   \u001b[0m | \u001b[0m2.102    \u001b[0m |\n",
      "=================================================\n",
      "USD GBP\n",
      "|   iter    |  target   | learni... | max_depth |\n",
      "-------------------------------------------------\n",
      "| \u001b[0m1        \u001b[0m | \u001b[0m0.1538   \u001b[0m | \u001b[0m0.3808   \u001b[0m | \u001b[0m9.556    \u001b[0m |\n",
      "| \u001b[95m2        \u001b[0m | \u001b[95m0.3077   \u001b[0m | \u001b[95m0.7347   \u001b[0m | \u001b[95m6.388    \u001b[0m |\n",
      "| \u001b[0m3        \u001b[0m | \u001b[0m0.1538   \u001b[0m | \u001b[0m0.1645   \u001b[0m | \u001b[0m2.404    \u001b[0m |\n",
      "| \u001b[0m4        \u001b[0m | \u001b[0m0.2857   \u001b[0m | \u001b[0m0.0675   \u001b[0m | \u001b[0m8.796    \u001b[0m |\n",
      "| \u001b[0m5        \u001b[0m | \u001b[0m0.3077   \u001b[0m | \u001b[0m0.6051   \u001b[0m | \u001b[0m7.373    \u001b[0m |\n",
      "| \u001b[0m6        \u001b[0m | \u001b[0m0.3077   \u001b[0m | \u001b[0m0.6762   \u001b[0m | \u001b[0m5.777    \u001b[0m |\n",
      "| \u001b[95m7        \u001b[0m | \u001b[95m0.4      \u001b[0m | \u001b[95m0.01     \u001b[0m | \u001b[95m7.926    \u001b[0m |\n",
      "| \u001b[0m8        \u001b[0m | \u001b[0m0.4      \u001b[0m | \u001b[0m0.01     \u001b[0m | \u001b[0m7.004    \u001b[0m |\n",
      "| \u001b[0m9        \u001b[0m | \u001b[0m0.4      \u001b[0m | \u001b[0m0.01     \u001b[0m | \u001b[0m4.609    \u001b[0m |\n",
      "| \u001b[0m10       \u001b[0m | \u001b[0m0.2857   \u001b[0m | \u001b[0m1.0      \u001b[0m | \u001b[0m4.282    \u001b[0m |\n",
      "| \u001b[0m11       \u001b[0m | \u001b[0m0.4      \u001b[0m | \u001b[0m0.01     \u001b[0m | \u001b[0m5.354    \u001b[0m |\n",
      "| \u001b[0m12       \u001b[0m | \u001b[0m0.3077   \u001b[0m | \u001b[0m0.01833  \u001b[0m | \u001b[0m6.245    \u001b[0m |\n",
      "| \u001b[0m13       \u001b[0m | \u001b[0m0.3077   \u001b[0m | \u001b[0m1.0      \u001b[0m | \u001b[0m1.0      \u001b[0m |\n",
      "| \u001b[0m14       \u001b[0m | \u001b[0m0.1667   \u001b[0m | \u001b[0m0.3853   \u001b[0m | \u001b[0m4.975    \u001b[0m |\n",
      "| \u001b[0m15       \u001b[0m | \u001b[0m0.2857   \u001b[0m | \u001b[0m0.6933   \u001b[0m | \u001b[0m2.102    \u001b[0m |\n",
      "=================================================\n",
      "USD GBP\n",
      "|   iter    |  target   | learni... | max_depth |\n",
      "-------------------------------------------------\n",
      "| \u001b[0m1        \u001b[0m | \u001b[0m0.5      \u001b[0m | \u001b[0m0.3808   \u001b[0m | \u001b[0m9.556    \u001b[0m |\n",
      "| \u001b[0m2        \u001b[0m | \u001b[0m0.2      \u001b[0m | \u001b[0m0.7347   \u001b[0m | \u001b[0m6.388    \u001b[0m |\n",
      "| \u001b[0m3        \u001b[0m | \u001b[0m0.3636   \u001b[0m | \u001b[0m0.1645   \u001b[0m | \u001b[0m2.404    \u001b[0m |\n",
      "| \u001b[0m4        \u001b[0m | \u001b[0m0.3636   \u001b[0m | \u001b[0m0.0675   \u001b[0m | \u001b[0m8.796    \u001b[0m |\n",
      "| \u001b[0m5        \u001b[0m | \u001b[0m0.5      \u001b[0m | \u001b[0m0.6051   \u001b[0m | \u001b[0m7.373    \u001b[0m |\n",
      "| \u001b[0m6        \u001b[0m | \u001b[0m0.5      \u001b[0m | \u001b[0m0.3802   \u001b[0m | \u001b[0m9.558    \u001b[0m |\n",
      "| \u001b[0m7        \u001b[0m | \u001b[0m0.4615   \u001b[0m | \u001b[0m0.9924   \u001b[0m | \u001b[0m7.855    \u001b[0m |\n",
      "| \u001b[0m8        \u001b[0m | \u001b[0m0.4615   \u001b[0m | \u001b[0m1.0      \u001b[0m | \u001b[0m9.752    \u001b[0m |\n",
      "| \u001b[0m9        \u001b[0m | \u001b[0m0.4615   \u001b[0m | \u001b[0m0.01     \u001b[0m | \u001b[0m7.608    \u001b[0m |\n",
      "| \u001b[0m10       \u001b[0m | \u001b[0m0.4615   \u001b[0m | \u001b[0m1.0      \u001b[0m | \u001b[0m4.089    \u001b[0m |\n",
      "| \u001b[0m11       \u001b[0m | \u001b[0m0.3636   \u001b[0m | \u001b[0m0.03     \u001b[0m | \u001b[0m4.265    \u001b[0m |\n",
      "| \u001b[0m12       \u001b[0m | \u001b[0m0.5      \u001b[0m | \u001b[0m0.9968   \u001b[0m | \u001b[0m1.015    \u001b[0m |\n",
      "| \u001b[0m13       \u001b[0m | \u001b[0m0.5      \u001b[0m | \u001b[0m0.3267   \u001b[0m | \u001b[0m1.0      \u001b[0m |\n",
      "| \u001b[0m14       \u001b[0m | \u001b[0m0.5      \u001b[0m | \u001b[0m0.9865   \u001b[0m | \u001b[0m1.642    \u001b[0m |\n",
      "| \u001b[0m15       \u001b[0m | \u001b[0m0.4615   \u001b[0m | \u001b[0m1.0      \u001b[0m | \u001b[0m3.224    \u001b[0m |\n",
      "=================================================\n",
      "USD AUD\n",
      "|   iter    |  target   | learni... | max_depth |\n",
      "-------------------------------------------------\n",
      "| \u001b[0m1        \u001b[0m | \u001b[0m0.6667   \u001b[0m | \u001b[0m0.3808   \u001b[0m | \u001b[0m9.556    \u001b[0m |\n",
      "| \u001b[0m2        \u001b[0m | \u001b[0m0.6667   \u001b[0m | \u001b[0m0.7347   \u001b[0m | \u001b[0m6.388    \u001b[0m |\n",
      "| \u001b[0m3        \u001b[0m | \u001b[0m0.6667   \u001b[0m | \u001b[0m0.1645   \u001b[0m | \u001b[0m2.404    \u001b[0m |\n",
      "| \u001b[0m4        \u001b[0m | \u001b[0m0.6667   \u001b[0m | \u001b[0m0.0675   \u001b[0m | \u001b[0m8.796    \u001b[0m |\n",
      "| \u001b[0m5        \u001b[0m | \u001b[0m0.6667   \u001b[0m | \u001b[0m0.6051   \u001b[0m | \u001b[0m7.373    \u001b[0m |\n",
      "| \u001b[0m6        \u001b[0m | \u001b[0m0.6667   \u001b[0m | \u001b[0m0.9919   \u001b[0m | \u001b[0m1.008    \u001b[0m |\n",
      "| \u001b[0m7        \u001b[0m | \u001b[0m0.6667   \u001b[0m | \u001b[0m0.9984   \u001b[0m | \u001b[0m1.004    \u001b[0m |\n",
      "| \u001b[0m8        \u001b[0m | \u001b[0m0.6667   \u001b[0m | \u001b[0m0.08388  \u001b[0m | \u001b[0m10.0     \u001b[0m |\n",
      "| \u001b[0m9        \u001b[0m | \u001b[0m0.6667   \u001b[0m | \u001b[0m0.01119  \u001b[0m | \u001b[0m1.016    \u001b[0m |\n",
      "| \u001b[0m10       \u001b[0m | \u001b[0m0.6667   \u001b[0m | \u001b[0m0.9959   \u001b[0m | \u001b[0m9.999    \u001b[0m |\n",
      "| \u001b[0m11       \u001b[0m | \u001b[0m0.6667   \u001b[0m | \u001b[0m0.04215  \u001b[0m | \u001b[0m2.937    \u001b[0m |\n",
      "| \u001b[0m12       \u001b[0m | \u001b[0m0.6667   \u001b[0m | \u001b[0m0.4474   \u001b[0m | \u001b[0m8.419    \u001b[0m |\n",
      "| \u001b[0m13       \u001b[0m | \u001b[0m0.6667   \u001b[0m | \u001b[0m0.8813   \u001b[0m | \u001b[0m1.006    \u001b[0m |\n",
      "| \u001b[0m14       \u001b[0m | \u001b[0m0.6667   \u001b[0m | \u001b[0m0.0568   \u001b[0m | \u001b[0m9.995    \u001b[0m |\n",
      "| \u001b[0m15       \u001b[0m | \u001b[0m0.6667   \u001b[0m | \u001b[0m0.9775   \u001b[0m | \u001b[0m1.011    \u001b[0m |\n",
      "=================================================\n",
      "USD CAD\n",
      "|   iter    |  target   | learni... | max_depth |\n",
      "-------------------------------------------------\n",
      "| \u001b[0m1        \u001b[0m | \u001b[0m0.3846   \u001b[0m | \u001b[0m0.3808   \u001b[0m | \u001b[0m9.556    \u001b[0m |\n",
      "| \u001b[95m2        \u001b[0m | \u001b[95m0.4      \u001b[0m | \u001b[95m0.7347   \u001b[0m | \u001b[95m6.388    \u001b[0m |\n",
      "| \u001b[95m3        \u001b[0m | \u001b[95m0.4615   \u001b[0m | \u001b[95m0.1645   \u001b[0m | \u001b[95m2.404    \u001b[0m |\n",
      "| \u001b[0m4        \u001b[0m | \u001b[0m0.4444   \u001b[0m | \u001b[0m0.0675   \u001b[0m | \u001b[0m8.796    \u001b[0m |\n",
      "| \u001b[0m5        \u001b[0m | \u001b[0m0.4      \u001b[0m | \u001b[0m0.6051   \u001b[0m | \u001b[0m7.373    \u001b[0m |\n",
      "| \u001b[0m6        \u001b[0m | \u001b[0m0.4      \u001b[0m | \u001b[0m0.1816   \u001b[0m | \u001b[0m2.408    \u001b[0m |\n",
      "| \u001b[0m7        \u001b[0m | \u001b[0m0.32     \u001b[0m | \u001b[0m0.8302   \u001b[0m | \u001b[0m3.702    \u001b[0m |\n",
      "| \u001b[95m8        \u001b[0m | \u001b[95m0.5      \u001b[0m | \u001b[95m0.1103   \u001b[0m | \u001b[95m5.695    \u001b[0m |\n",
      "| \u001b[0m9        \u001b[0m | \u001b[0m0.4615   \u001b[0m | \u001b[0m0.01559  \u001b[0m | \u001b[0m5.174    \u001b[0m |\n",
      "| \u001b[0m10       \u001b[0m | \u001b[0m0.4      \u001b[0m | \u001b[0m0.6709   \u001b[0m | \u001b[0m6.78     \u001b[0m |\n",
      "| \u001b[0m11       \u001b[0m | \u001b[0m0.4615   \u001b[0m | \u001b[0m0.04215  \u001b[0m | \u001b[0m2.937    \u001b[0m |\n",
      "| \u001b[0m12       \u001b[0m | \u001b[0m0.3846   \u001b[0m | \u001b[0m0.4474   \u001b[0m | \u001b[0m8.419    \u001b[0m |\n",
      "| \u001b[95m13       \u001b[0m | \u001b[95m0.5185   \u001b[0m | \u001b[95m0.02843  \u001b[0m | \u001b[95m4.945    \u001b[0m |\n",
      "| \u001b[0m14       \u001b[0m | \u001b[0m0.3846   \u001b[0m | \u001b[0m0.4012   \u001b[0m | \u001b[0m5.386    \u001b[0m |\n"
     ]
    },
    {
     "name": "stdout",
     "output_type": "stream",
     "text": [
      "| \u001b[0m15       \u001b[0m | \u001b[0m0.4      \u001b[0m | \u001b[0m0.6933   \u001b[0m | \u001b[0m2.102    \u001b[0m |\n",
      "=================================================\n",
      "USD NZD\n",
      "USD NOK\n",
      "|   iter    |  target   | learni... | max_depth |\n",
      "-------------------------------------------------\n",
      "| \u001b[0m1        \u001b[0m | \u001b[0m0.8235   \u001b[0m | \u001b[0m0.3808   \u001b[0m | \u001b[0m9.556    \u001b[0m |\n",
      "| \u001b[0m2        \u001b[0m | \u001b[0m0.75     \u001b[0m | \u001b[0m0.7347   \u001b[0m | \u001b[0m6.388    \u001b[0m |\n",
      "| \u001b[95m3        \u001b[0m | \u001b[95m0.9412   \u001b[0m | \u001b[95m0.1645   \u001b[0m | \u001b[95m2.404    \u001b[0m |\n",
      "| \u001b[0m4        \u001b[0m | \u001b[0m0.9412   \u001b[0m | \u001b[0m0.0675   \u001b[0m | \u001b[0m8.796    \u001b[0m |\n",
      "| \u001b[0m5        \u001b[0m | \u001b[0m0.8235   \u001b[0m | \u001b[0m0.6051   \u001b[0m | \u001b[0m7.373    \u001b[0m |\n",
      "| \u001b[0m6        \u001b[0m | \u001b[0m0.8235   \u001b[0m | \u001b[0m0.6762   \u001b[0m | \u001b[0m5.777    \u001b[0m |\n",
      "| \u001b[0m7        \u001b[0m | \u001b[0m0.875    \u001b[0m | \u001b[0m0.01     \u001b[0m | \u001b[0m8.739    \u001b[0m |\n",
      "| \u001b[0m8        \u001b[0m | \u001b[0m0.875    \u001b[0m | \u001b[0m0.1103   \u001b[0m | \u001b[0m5.695    \u001b[0m |\n",
      "| \u001b[0m9        \u001b[0m | \u001b[0m0.9412   \u001b[0m | \u001b[0m0.1338   \u001b[0m | \u001b[0m8.831    \u001b[0m |\n",
      "| \u001b[0m10       \u001b[0m | \u001b[0m0.875    \u001b[0m | \u001b[0m0.03575  \u001b[0m | \u001b[0m8.935    \u001b[0m |\n",
      "| \u001b[0m11       \u001b[0m | \u001b[0m0.8889   \u001b[0m | \u001b[0m0.2237   \u001b[0m | \u001b[0m2.521    \u001b[0m |\n",
      "| \u001b[0m12       \u001b[0m | \u001b[0m0.8889   \u001b[0m | \u001b[0m0.4474   \u001b[0m | \u001b[0m8.419    \u001b[0m |\n",
      "| \u001b[0m13       \u001b[0m | \u001b[0m0.9412   \u001b[0m | \u001b[0m0.04567  \u001b[0m | \u001b[0m2.393    \u001b[0m |\n",
      "| \u001b[0m14       \u001b[0m | \u001b[0m0.9412   \u001b[0m | \u001b[0m0.06192  \u001b[0m | \u001b[0m8.805    \u001b[0m |\n",
      "| \u001b[0m15       \u001b[0m | \u001b[0m0.9412   \u001b[0m | \u001b[0m0.1224   \u001b[0m | \u001b[0m2.238    \u001b[0m |\n",
      "=================================================\n",
      "USD SEK\n",
      "|   iter    |  target   | learni... | max_depth |\n",
      "-------------------------------------------------\n",
      "| \u001b[0m1        \u001b[0m | \u001b[0m0.5      \u001b[0m | \u001b[0m0.3808   \u001b[0m | \u001b[0m9.556    \u001b[0m |\n",
      "| \u001b[0m2        \u001b[0m | \u001b[0m0.5      \u001b[0m | \u001b[0m0.7347   \u001b[0m | \u001b[0m6.388    \u001b[0m |\n",
      "| \u001b[0m3        \u001b[0m | \u001b[0m0.5      \u001b[0m | \u001b[0m0.1645   \u001b[0m | \u001b[0m2.404    \u001b[0m |\n",
      "| \u001b[0m4        \u001b[0m | \u001b[0m0.5      \u001b[0m | \u001b[0m0.0675   \u001b[0m | \u001b[0m8.796    \u001b[0m |\n",
      "| \u001b[0m5        \u001b[0m | \u001b[0m0.5      \u001b[0m | \u001b[0m0.6051   \u001b[0m | \u001b[0m7.373    \u001b[0m |\n",
      "| \u001b[0m6        \u001b[0m | \u001b[0m0.4444   \u001b[0m | \u001b[0m0.9919   \u001b[0m | \u001b[0m1.008    \u001b[0m |\n",
      "| \u001b[95m7        \u001b[0m | \u001b[95m0.6667   \u001b[0m | \u001b[95m0.01     \u001b[0m | \u001b[95m3.981    \u001b[0m |\n",
      "| \u001b[0m8        \u001b[0m | \u001b[0m0.5      \u001b[0m | \u001b[0m0.7783   \u001b[0m | \u001b[0m4.264    \u001b[0m |\n",
      "| \u001b[0m9        \u001b[0m | \u001b[0m0.5      \u001b[0m | \u001b[0m0.02517  \u001b[0m | \u001b[0m3.985    \u001b[0m |\n",
      "| \u001b[0m10       \u001b[0m | \u001b[0m0.2857   \u001b[0m | \u001b[0m0.6709   \u001b[0m | \u001b[0m6.78     \u001b[0m |\n",
      "| \u001b[0m11       \u001b[0m | \u001b[0m0.5      \u001b[0m | \u001b[0m0.603    \u001b[0m | \u001b[0m7.368    \u001b[0m |\n",
      "| \u001b[0m12       \u001b[0m | \u001b[0m0.2857   \u001b[0m | \u001b[0m0.3742   \u001b[0m | \u001b[0m9.555    \u001b[0m |\n",
      "| \u001b[0m13       \u001b[0m | \u001b[0m0.5      \u001b[0m | \u001b[0m0.02843  \u001b[0m | \u001b[0m4.945    \u001b[0m |\n",
      "| \u001b[0m14       \u001b[0m | \u001b[0m0.5      \u001b[0m | \u001b[0m0.4012   \u001b[0m | \u001b[0m5.386    \u001b[0m |\n",
      "| \u001b[0m15       \u001b[0m | \u001b[0m0.5      \u001b[0m | \u001b[0m0.6933   \u001b[0m | \u001b[0m2.102    \u001b[0m |\n",
      "=================================================\n",
      "USD EUR\n",
      "|   iter    |  target   | learni... | max_depth |\n",
      "-------------------------------------------------\n",
      "| \u001b[0m1        \u001b[0m | \u001b[0m0.6      \u001b[0m | \u001b[0m0.3808   \u001b[0m | \u001b[0m9.556    \u001b[0m |\n",
      "| \u001b[0m2        \u001b[0m | \u001b[0m0.5714   \u001b[0m | \u001b[0m0.7347   \u001b[0m | \u001b[0m6.388    \u001b[0m |\n",
      "| \u001b[0m3        \u001b[0m | \u001b[0m0.6      \u001b[0m | \u001b[0m0.1645   \u001b[0m | \u001b[0m2.404    \u001b[0m |\n",
      "| \u001b[0m4        \u001b[0m | \u001b[0m0.6      \u001b[0m | \u001b[0m0.0675   \u001b[0m | \u001b[0m8.796    \u001b[0m |\n",
      "| \u001b[0m5        \u001b[0m | \u001b[0m0.5263   \u001b[0m | \u001b[0m0.6051   \u001b[0m | \u001b[0m7.373    \u001b[0m |\n",
      "| \u001b[0m6        \u001b[0m | \u001b[0m0.5714   \u001b[0m | \u001b[0m0.08297  \u001b[0m | \u001b[0m2.283    \u001b[0m |\n",
      "| \u001b[0m7        \u001b[0m | \u001b[0m0.5263   \u001b[0m | \u001b[0m0.8302   \u001b[0m | \u001b[0m3.702    \u001b[0m |\n",
      "| \u001b[0m8        \u001b[0m | \u001b[0m0.5714   \u001b[0m | \u001b[0m0.2493   \u001b[0m | \u001b[0m2.53     \u001b[0m |\n",
      "| \u001b[0m9        \u001b[0m | \u001b[0m0.5714   \u001b[0m | \u001b[0m0.1936   \u001b[0m | \u001b[0m2.399    \u001b[0m |\n",
      "| \u001b[0m10       \u001b[0m | \u001b[0m0.5263   \u001b[0m | \u001b[0m0.6709   \u001b[0m | \u001b[0m6.78     \u001b[0m |\n",
      "| \u001b[0m11       \u001b[0m | \u001b[0m0.5217   \u001b[0m | \u001b[0m0.04215  \u001b[0m | \u001b[0m2.937    \u001b[0m |\n",
      "| \u001b[0m12       \u001b[0m | \u001b[0m0.5714   \u001b[0m | \u001b[0m0.4474   \u001b[0m | \u001b[0m8.419    \u001b[0m |\n",
      "| \u001b[0m13       \u001b[0m | \u001b[0m0.5714   \u001b[0m | \u001b[0m0.3645   \u001b[0m | \u001b[0m9.529    \u001b[0m |\n",
      "| \u001b[0m14       \u001b[0m | \u001b[0m0.6      \u001b[0m | \u001b[0m0.1329   \u001b[0m | \u001b[0m2.416    \u001b[0m |\n",
      "| \u001b[0m15       \u001b[0m | \u001b[0m0.5      \u001b[0m | \u001b[0m0.6933   \u001b[0m | \u001b[0m2.102    \u001b[0m |\n",
      "=================================================\n",
      "USD EUR\n",
      "|   iter    |  target   | learni... | max_depth |\n",
      "-------------------------------------------------\n",
      "| \u001b[0m1        \u001b[0m | \u001b[0m0.5263   \u001b[0m | \u001b[0m0.3808   \u001b[0m | \u001b[0m9.556    \u001b[0m |\n",
      "| \u001b[0m2        \u001b[0m | \u001b[0m0.5263   \u001b[0m | \u001b[0m0.7347   \u001b[0m | \u001b[0m6.388    \u001b[0m |\n",
      "| \u001b[0m3        \u001b[0m | \u001b[0m0.4444   \u001b[0m | \u001b[0m0.1645   \u001b[0m | \u001b[0m2.404    \u001b[0m |\n",
      "| \u001b[0m4        \u001b[0m | \u001b[0m0.5      \u001b[0m | \u001b[0m0.0675   \u001b[0m | \u001b[0m8.796    \u001b[0m |\n",
      "| \u001b[0m5        \u001b[0m | \u001b[0m0.5      \u001b[0m | \u001b[0m0.6051   \u001b[0m | \u001b[0m7.373    \u001b[0m |\n",
      "| \u001b[95m6        \u001b[0m | \u001b[95m0.64     \u001b[0m | \u001b[95m0.01     \u001b[0m | \u001b[95m5.38     \u001b[0m |\n",
      "| \u001b[0m7        \u001b[0m | \u001b[0m0.5714   \u001b[0m | \u001b[0m0.02294  \u001b[0m | \u001b[0m4.663    \u001b[0m |\n",
      "| \u001b[0m8        \u001b[0m | \u001b[0m0.5714   \u001b[0m | \u001b[0m0.6317   \u001b[0m | \u001b[0m5.287    \u001b[0m |\n",
      "| \u001b[0m9        \u001b[0m | \u001b[0m0.64     \u001b[0m | \u001b[0m0.01     \u001b[0m | \u001b[0m5.882    \u001b[0m |\n",
      "| \u001b[0m10       \u001b[0m | \u001b[0m0.4444   \u001b[0m | \u001b[0m1.0      \u001b[0m | \u001b[0m1.0      \u001b[0m |\n",
      "| \u001b[0m11       \u001b[0m | \u001b[0m0.64     \u001b[0m | \u001b[0m0.01     \u001b[0m | \u001b[0m5.636    \u001b[0m |\n",
      "| \u001b[0m12       \u001b[0m | \u001b[0m0.64     \u001b[0m | \u001b[0m0.01     \u001b[0m | \u001b[0m6.524    \u001b[0m |\n",
      "| \u001b[0m13       \u001b[0m | \u001b[0m0.64     \u001b[0m | \u001b[0m0.01     \u001b[0m | \u001b[0m6.258    \u001b[0m |\n",
      "| \u001b[0m14       \u001b[0m | \u001b[0m0.64     \u001b[0m | \u001b[0m0.01     \u001b[0m | \u001b[0m6.937    \u001b[0m |\n",
      "| \u001b[0m15       \u001b[0m | \u001b[0m0.3333   \u001b[0m | \u001b[0m0.9843   \u001b[0m | \u001b[0m9.971    \u001b[0m |\n",
      "=================================================\n",
      "JPY NOK\n",
      "|   iter    |  target   | learni... | max_depth |\n",
      "-------------------------------------------------\n",
      "| \u001b[0m1        \u001b[0m | \u001b[0m0.3333   \u001b[0m | \u001b[0m0.3808   \u001b[0m | \u001b[0m9.556    \u001b[0m |\n",
      "| \u001b[0m2        \u001b[0m | \u001b[0m0.3333   \u001b[0m | \u001b[0m0.7347   \u001b[0m | \u001b[0m6.388    \u001b[0m |\n",
      "| \u001b[0m3        \u001b[0m | \u001b[0m0.3333   \u001b[0m | \u001b[0m0.1645   \u001b[0m | \u001b[0m2.404    \u001b[0m |\n",
      "| \u001b[95m4        \u001b[0m | \u001b[95m0.4      \u001b[0m | \u001b[95m0.0675   \u001b[0m | \u001b[95m8.796    \u001b[0m |\n",
      "| \u001b[0m5        \u001b[0m | \u001b[0m0.3333   \u001b[0m | \u001b[0m0.6051   \u001b[0m | \u001b[0m7.373    \u001b[0m |\n",
      "| \u001b[0m6        \u001b[0m | \u001b[0m0.3333   \u001b[0m | \u001b[0m0.6762   \u001b[0m | \u001b[0m5.777    \u001b[0m |\n",
      "| \u001b[95m7        \u001b[0m | \u001b[95m0.5      \u001b[0m | \u001b[95m0.01823  \u001b[0m | \u001b[95m8.822    \u001b[0m |\n",
      "| \u001b[0m8        \u001b[0m | \u001b[0m0.3333   \u001b[0m | \u001b[0m0.1103   \u001b[0m | \u001b[0m5.695    \u001b[0m |\n",
      "| \u001b[0m9        \u001b[0m | \u001b[0m0.4      \u001b[0m | \u001b[0m0.03608  \u001b[0m | \u001b[0m8.856    \u001b[0m |\n",
      "| \u001b[0m10       \u001b[0m | \u001b[0m0.3333   \u001b[0m | \u001b[0m0.6709   \u001b[0m | \u001b[0m6.78     \u001b[0m |\n",
      "| \u001b[0m11       \u001b[0m | \u001b[0m0.4      \u001b[0m | \u001b[0m0.04215  \u001b[0m | \u001b[0m2.937    \u001b[0m |\n",
      "| \u001b[0m12       \u001b[0m | \u001b[0m0.3333   \u001b[0m | \u001b[0m0.4474   \u001b[0m | \u001b[0m8.419    \u001b[0m |\n",
      "| \u001b[0m13       \u001b[0m | \u001b[0m0.4      \u001b[0m | \u001b[0m0.05351  \u001b[0m | \u001b[0m8.837    \u001b[0m |\n",
      "| \u001b[0m14       \u001b[0m | \u001b[0m0.4      \u001b[0m | \u001b[0m0.03237  \u001b[0m | \u001b[0m8.775    \u001b[0m |\n",
      "| \u001b[0m15       \u001b[0m | \u001b[0m0.3333   \u001b[0m | \u001b[0m0.6933   \u001b[0m | \u001b[0m2.102    \u001b[0m |\n",
      "=================================================\n",
      "JPY SEK\n",
      "|   iter    |  target   | learni... | max_depth |\n",
      "-------------------------------------------------\n",
      "| \u001b[0m1        \u001b[0m | \u001b[0m0.4      \u001b[0m | \u001b[0m0.3808   \u001b[0m | \u001b[0m9.556    \u001b[0m |\n",
      "| \u001b[0m2        \u001b[0m | \u001b[0m0.4      \u001b[0m | \u001b[0m0.7347   \u001b[0m | \u001b[0m6.388    \u001b[0m |\n",
      "| \u001b[0m3        \u001b[0m | \u001b[0m0.4      \u001b[0m | \u001b[0m0.1645   \u001b[0m | \u001b[0m2.404    \u001b[0m |\n",
      "| \u001b[0m4        \u001b[0m | \u001b[0m0.4      \u001b[0m | \u001b[0m0.0675   \u001b[0m | \u001b[0m8.796    \u001b[0m |\n",
      "| \u001b[0m5        \u001b[0m | \u001b[0m0.4      \u001b[0m | \u001b[0m0.6051   \u001b[0m | \u001b[0m7.373    \u001b[0m |\n",
      "| \u001b[95m6        \u001b[0m | \u001b[95m0.8      \u001b[0m | \u001b[95m0.9919   \u001b[0m | \u001b[95m1.008    \u001b[0m |\n",
      "| \u001b[0m7        \u001b[0m | \u001b[0m0.4      \u001b[0m | \u001b[0m0.2471   \u001b[0m | \u001b[0m1.002    \u001b[0m |\n",
      "| \u001b[0m8        \u001b[0m | \u001b[0m0.4      \u001b[0m | \u001b[0m0.1103   \u001b[0m | \u001b[0m5.695    \u001b[0m |\n",
      "| \u001b[0m9        \u001b[0m | \u001b[0m0.0      \u001b[0m | \u001b[0m0.01559  \u001b[0m | \u001b[0m5.174    \u001b[0m |\n",
      "| \u001b[0m10       \u001b[0m | \u001b[0m0.4      \u001b[0m | \u001b[0m0.6709   \u001b[0m | \u001b[0m6.78     \u001b[0m |\n",
      "| \u001b[0m11       \u001b[0m | \u001b[0m0.8      \u001b[0m | \u001b[0m1.0      \u001b[0m | \u001b[0m1.191    \u001b[0m |\n",
      "| \u001b[0m12       \u001b[0m | \u001b[0m0.8      \u001b[0m | \u001b[0m0.9978   \u001b[0m | \u001b[0m1.806    \u001b[0m |\n"
     ]
    },
    {
     "name": "stdout",
     "output_type": "stream",
     "text": [
      "| \u001b[0m13       \u001b[0m | \u001b[0m0.4      \u001b[0m | \u001b[0m1.0      \u001b[0m | \u001b[0m2.487    \u001b[0m |\n",
      "| \u001b[0m14       \u001b[0m | \u001b[0m0.4      \u001b[0m | \u001b[0m0.6809   \u001b[0m | \u001b[0m1.627    \u001b[0m |\n",
      "| \u001b[0m15       \u001b[0m | \u001b[0m0.8      \u001b[0m | \u001b[0m0.7813   \u001b[0m | \u001b[0m1.073    \u001b[0m |\n",
      "=================================================\n",
      "GBP JPY\n",
      "|   iter    |  target   | learni... | max_depth |\n",
      "-------------------------------------------------\n",
      "| \u001b[0m1        \u001b[0m | \u001b[0m0.5      \u001b[0m | \u001b[0m0.3808   \u001b[0m | \u001b[0m9.556    \u001b[0m |\n",
      "| \u001b[0m2        \u001b[0m | \u001b[0m0.5      \u001b[0m | \u001b[0m0.7347   \u001b[0m | \u001b[0m6.388    \u001b[0m |\n",
      "| \u001b[0m3        \u001b[0m | \u001b[0m0.5      \u001b[0m | \u001b[0m0.1645   \u001b[0m | \u001b[0m2.404    \u001b[0m |\n",
      "| \u001b[0m4        \u001b[0m | \u001b[0m0.5      \u001b[0m | \u001b[0m0.0675   \u001b[0m | \u001b[0m8.796    \u001b[0m |\n",
      "| \u001b[0m5        \u001b[0m | \u001b[0m0.2857   \u001b[0m | \u001b[0m0.6051   \u001b[0m | \u001b[0m7.373    \u001b[0m |\n",
      "| \u001b[0m6        \u001b[0m | \u001b[0m0.5      \u001b[0m | \u001b[0m0.1089   \u001b[0m | \u001b[0m2.322    \u001b[0m |\n",
      "| \u001b[0m7        \u001b[0m | \u001b[0m0.5      \u001b[0m | \u001b[0m0.8454   \u001b[0m | \u001b[0m5.534    \u001b[0m |\n",
      "| \u001b[0m8        \u001b[0m | \u001b[0m0.5      \u001b[0m | \u001b[0m0.01     \u001b[0m | \u001b[0m5.8      \u001b[0m |\n",
      "| \u001b[95m9        \u001b[0m | \u001b[95m0.6667   \u001b[0m | \u001b[95m1.0      \u001b[0m | \u001b[95m1.567    \u001b[0m |\n",
      "| \u001b[0m10       \u001b[0m | \u001b[0m0.6667   \u001b[0m | \u001b[0m1.0      \u001b[0m | \u001b[0m1.0      \u001b[0m |\n",
      "| \u001b[0m11       \u001b[0m | \u001b[0m0.6667   \u001b[0m | \u001b[0m0.2216   \u001b[0m | \u001b[0m1.0      \u001b[0m |\n",
      "| \u001b[0m12       \u001b[0m | \u001b[0m0.5      \u001b[0m | \u001b[0m1.0      \u001b[0m | \u001b[0m3.777    \u001b[0m |\n",
      "| \u001b[0m13       \u001b[0m | \u001b[0m0.6667   \u001b[0m | \u001b[0m0.5882   \u001b[0m | \u001b[0m1.312    \u001b[0m |\n",
      "| \u001b[0m14       \u001b[0m | \u001b[0m0.5714   \u001b[0m | \u001b[0m0.9922   \u001b[0m | \u001b[0m2.234    \u001b[0m |\n",
      "| \u001b[0m15       \u001b[0m | \u001b[0m0.6667   \u001b[0m | \u001b[0m0.6059   \u001b[0m | \u001b[0m1.0      \u001b[0m |\n",
      "=================================================\n",
      "GBP JPY\n",
      "|   iter    |  target   | learni... | max_depth |\n",
      "-------------------------------------------------\n",
      "| \u001b[0m1        \u001b[0m | \u001b[0m0.5714   \u001b[0m | \u001b[0m0.3808   \u001b[0m | \u001b[0m9.556    \u001b[0m |\n",
      "| \u001b[0m2        \u001b[0m | \u001b[0m0.5714   \u001b[0m | \u001b[0m0.7347   \u001b[0m | \u001b[0m6.388    \u001b[0m |\n",
      "| \u001b[0m3        \u001b[0m | \u001b[0m0.5714   \u001b[0m | \u001b[0m0.1645   \u001b[0m | \u001b[0m2.404    \u001b[0m |\n",
      "| \u001b[0m4        \u001b[0m | \u001b[0m0.5714   \u001b[0m | \u001b[0m0.0675   \u001b[0m | \u001b[0m8.796    \u001b[0m |\n",
      "| \u001b[0m5        \u001b[0m | \u001b[0m0.5714   \u001b[0m | \u001b[0m0.6051   \u001b[0m | \u001b[0m7.373    \u001b[0m |\n",
      "| \u001b[0m6        \u001b[0m | \u001b[0m0.5714   \u001b[0m | \u001b[0m0.9919   \u001b[0m | \u001b[0m1.008    \u001b[0m |\n",
      "| \u001b[0m7        \u001b[0m | \u001b[0m0.5714   \u001b[0m | \u001b[0m0.9984   \u001b[0m | \u001b[0m1.004    \u001b[0m |\n",
      "| \u001b[0m8        \u001b[0m | \u001b[0m0.5714   \u001b[0m | \u001b[0m0.08388  \u001b[0m | \u001b[0m10.0     \u001b[0m |\n",
      "| \u001b[0m9        \u001b[0m | \u001b[0m0.5      \u001b[0m | \u001b[0m0.01119  \u001b[0m | \u001b[0m1.016    \u001b[0m |\n",
      "| \u001b[0m10       \u001b[0m | \u001b[0m0.5      \u001b[0m | \u001b[0m0.9855   \u001b[0m | \u001b[0m8.354    \u001b[0m |\n",
      "| \u001b[0m11       \u001b[0m | \u001b[0m0.5714   \u001b[0m | \u001b[0m0.03938  \u001b[0m | \u001b[0m6.848    \u001b[0m |\n",
      "| \u001b[0m12       \u001b[0m | \u001b[0m0.3333   \u001b[0m | \u001b[0m1.0      \u001b[0m | \u001b[0m2.056    \u001b[0m |\n",
      "| \u001b[0m13       \u001b[0m | \u001b[0m0.5      \u001b[0m | \u001b[0m0.01     \u001b[0m | \u001b[0m3.079    \u001b[0m |\n",
      "| \u001b[0m14       \u001b[0m | \u001b[0m0.5714   \u001b[0m | \u001b[0m0.07867  \u001b[0m | \u001b[0m6.123    \u001b[0m |\n",
      "| \u001b[0m15       \u001b[0m | \u001b[0m0.5714   \u001b[0m | \u001b[0m0.6608   \u001b[0m | \u001b[0m5.624    \u001b[0m |\n",
      "=================================================\n",
      "GBP AUD\n",
      "|   iter    |  target   | learni... | max_depth |\n",
      "-------------------------------------------------\n",
      "| \u001b[0m1        \u001b[0m | \u001b[0m0.0      \u001b[0m | \u001b[0m0.3808   \u001b[0m | \u001b[0m9.556    \u001b[0m |\n",
      "| \u001b[0m2        \u001b[0m | \u001b[0m0.0      \u001b[0m | \u001b[0m0.7347   \u001b[0m | \u001b[0m6.388    \u001b[0m |\n"
     ]
    },
    {
     "name": "stderr",
     "output_type": "stream",
     "text": [
      "C:\\Users\\anson\\anaconda3\\lib\\site-packages\\sklearn\\metrics\\_classification.py:1580: UndefinedMetricWarning: F-score is ill-defined and being set to 0.0 due to no true nor predicted samples. Use `zero_division` parameter to control this behavior.\n",
      "  _warn_prf(average, \"true nor predicted\", \"F-score is\", len(true_sum))\n",
      "C:\\Users\\anson\\anaconda3\\lib\\site-packages\\sklearn\\metrics\\_classification.py:1580: UndefinedMetricWarning: F-score is ill-defined and being set to 0.0 due to no true nor predicted samples. Use `zero_division` parameter to control this behavior.\n",
      "  _warn_prf(average, \"true nor predicted\", \"F-score is\", len(true_sum))\n",
      "C:\\Users\\anson\\anaconda3\\lib\\site-packages\\sklearn\\metrics\\_classification.py:1580: UndefinedMetricWarning: F-score is ill-defined and being set to 0.0 due to no true nor predicted samples. Use `zero_division` parameter to control this behavior.\n",
      "  _warn_prf(average, \"true nor predicted\", \"F-score is\", len(true_sum))\n",
      "C:\\Users\\anson\\anaconda3\\lib\\site-packages\\sklearn\\metrics\\_classification.py:1580: UndefinedMetricWarning: F-score is ill-defined and being set to 0.0 due to no true nor predicted samples. Use `zero_division` parameter to control this behavior.\n",
      "  _warn_prf(average, \"true nor predicted\", \"F-score is\", len(true_sum))\n",
      "C:\\Users\\anson\\anaconda3\\lib\\site-packages\\sklearn\\metrics\\_classification.py:1580: UndefinedMetricWarning: F-score is ill-defined and being set to 0.0 due to no true nor predicted samples. Use `zero_division` parameter to control this behavior.\n",
      "  _warn_prf(average, \"true nor predicted\", \"F-score is\", len(true_sum))\n"
     ]
    },
    {
     "name": "stdout",
     "output_type": "stream",
     "text": [
      "| \u001b[0m3        \u001b[0m | \u001b[0m0.0      \u001b[0m | \u001b[0m0.1645   \u001b[0m | \u001b[0m2.404    \u001b[0m |\n",
      "| \u001b[0m4        \u001b[0m | \u001b[0m0.0      \u001b[0m | \u001b[0m0.0675   \u001b[0m | \u001b[0m8.796    \u001b[0m |\n",
      "| \u001b[0m5        \u001b[0m | \u001b[0m0.0      \u001b[0m | \u001b[0m0.6051   \u001b[0m | \u001b[0m7.373    \u001b[0m |\n",
      "| \u001b[0m6        \u001b[0m | \u001b[0m0.0      \u001b[0m | \u001b[0m0.9919   \u001b[0m | \u001b[0m1.008    \u001b[0m |\n"
     ]
    },
    {
     "name": "stderr",
     "output_type": "stream",
     "text": [
      "C:\\Users\\anson\\anaconda3\\lib\\site-packages\\sklearn\\metrics\\_classification.py:1580: UndefinedMetricWarning: F-score is ill-defined and being set to 0.0 due to no true nor predicted samples. Use `zero_division` parameter to control this behavior.\n",
      "  _warn_prf(average, \"true nor predicted\", \"F-score is\", len(true_sum))\n",
      "C:\\Users\\anson\\anaconda3\\lib\\site-packages\\sklearn\\metrics\\_classification.py:1580: UndefinedMetricWarning: F-score is ill-defined and being set to 0.0 due to no true nor predicted samples. Use `zero_division` parameter to control this behavior.\n",
      "  _warn_prf(average, \"true nor predicted\", \"F-score is\", len(true_sum))\n"
     ]
    },
    {
     "name": "stdout",
     "output_type": "stream",
     "text": [
      "| \u001b[0m7        \u001b[0m | \u001b[0m0.0      \u001b[0m | \u001b[0m0.9984   \u001b[0m | \u001b[0m1.004    \u001b[0m |\n",
      "| \u001b[0m8        \u001b[0m | \u001b[0m0.0      \u001b[0m | \u001b[0m0.08388  \u001b[0m | \u001b[0m10.0     \u001b[0m |\n"
     ]
    },
    {
     "name": "stderr",
     "output_type": "stream",
     "text": [
      "C:\\Users\\anson\\anaconda3\\lib\\site-packages\\sklearn\\metrics\\_classification.py:1580: UndefinedMetricWarning: F-score is ill-defined and being set to 0.0 due to no true nor predicted samples. Use `zero_division` parameter to control this behavior.\n",
      "  _warn_prf(average, \"true nor predicted\", \"F-score is\", len(true_sum))\n",
      "C:\\Users\\anson\\anaconda3\\lib\\site-packages\\sklearn\\metrics\\_classification.py:1580: UndefinedMetricWarning: F-score is ill-defined and being set to 0.0 due to no true nor predicted samples. Use `zero_division` parameter to control this behavior.\n",
      "  _warn_prf(average, \"true nor predicted\", \"F-score is\", len(true_sum))\n"
     ]
    },
    {
     "name": "stdout",
     "output_type": "stream",
     "text": [
      "| \u001b[0m9        \u001b[0m | \u001b[0m0.0      \u001b[0m | \u001b[0m0.01119  \u001b[0m | \u001b[0m1.016    \u001b[0m |\n",
      "| \u001b[0m10       \u001b[0m | \u001b[0m0.0      \u001b[0m | \u001b[0m0.9959   \u001b[0m | \u001b[0m9.999    \u001b[0m |\n"
     ]
    },
    {
     "name": "stderr",
     "output_type": "stream",
     "text": [
      "C:\\Users\\anson\\anaconda3\\lib\\site-packages\\sklearn\\metrics\\_classification.py:1580: UndefinedMetricWarning: F-score is ill-defined and being set to 0.0 due to no true nor predicted samples. Use `zero_division` parameter to control this behavior.\n",
      "  _warn_prf(average, \"true nor predicted\", \"F-score is\", len(true_sum))\n",
      "C:\\Users\\anson\\anaconda3\\lib\\site-packages\\sklearn\\metrics\\_classification.py:1580: UndefinedMetricWarning: F-score is ill-defined and being set to 0.0 due to no true nor predicted samples. Use `zero_division` parameter to control this behavior.\n",
      "  _warn_prf(average, \"true nor predicted\", \"F-score is\", len(true_sum))\n"
     ]
    },
    {
     "name": "stdout",
     "output_type": "stream",
     "text": [
      "| \u001b[0m11       \u001b[0m | \u001b[0m0.0      \u001b[0m | \u001b[0m0.9652   \u001b[0m | \u001b[0m1.003    \u001b[0m |\n",
      "| \u001b[0m12       \u001b[0m | \u001b[0m0.0      \u001b[0m | \u001b[0m0.9166   \u001b[0m | \u001b[0m9.998    \u001b[0m |\n"
     ]
    },
    {
     "name": "stderr",
     "output_type": "stream",
     "text": [
      "C:\\Users\\anson\\anaconda3\\lib\\site-packages\\sklearn\\metrics\\_classification.py:1580: UndefinedMetricWarning: F-score is ill-defined and being set to 0.0 due to no true nor predicted samples. Use `zero_division` parameter to control this behavior.\n",
      "  _warn_prf(average, \"true nor predicted\", \"F-score is\", len(true_sum))\n",
      "C:\\Users\\anson\\anaconda3\\lib\\site-packages\\sklearn\\metrics\\_classification.py:1580: UndefinedMetricWarning: F-score is ill-defined and being set to 0.0 due to no true nor predicted samples. Use `zero_division` parameter to control this behavior.\n",
      "  _warn_prf(average, \"true nor predicted\", \"F-score is\", len(true_sum))\n"
     ]
    },
    {
     "name": "stdout",
     "output_type": "stream",
     "text": [
      "| \u001b[0m13       \u001b[0m | \u001b[0m0.0      \u001b[0m | \u001b[0m0.05485  \u001b[0m | \u001b[0m1.015    \u001b[0m |\n",
      "| \u001b[0m14       \u001b[0m | \u001b[0m0.0      \u001b[0m | \u001b[0m0.0568   \u001b[0m | \u001b[0m9.995    \u001b[0m |\n"
     ]
    },
    {
     "name": "stderr",
     "output_type": "stream",
     "text": [
      "C:\\Users\\anson\\anaconda3\\lib\\site-packages\\sklearn\\metrics\\_classification.py:1580: UndefinedMetricWarning: F-score is ill-defined and being set to 0.0 due to no true nor predicted samples. Use `zero_division` parameter to control this behavior.\n",
      "  _warn_prf(average, \"true nor predicted\", \"F-score is\", len(true_sum))\n",
      "C:\\Users\\anson\\anaconda3\\lib\\site-packages\\sklearn\\metrics\\_classification.py:1580: UndefinedMetricWarning: F-score is ill-defined and being set to 0.0 due to no true nor predicted samples. Use `zero_division` parameter to control this behavior.\n",
      "  _warn_prf(average, \"true nor predicted\", \"F-score is\", len(true_sum))\n"
     ]
    },
    {
     "name": "stdout",
     "output_type": "stream",
     "text": [
      "| \u001b[0m15       \u001b[0m | \u001b[0m0.0      \u001b[0m | \u001b[0m0.04508  \u001b[0m | \u001b[0m1.002    \u001b[0m |\n",
      "=================================================\n",
      "GBP CAD\n",
      "|   iter    |  target   | learni... | max_depth |\n",
      "-------------------------------------------------\n",
      "| \u001b[0m1        \u001b[0m | \u001b[0m0.25     \u001b[0m | \u001b[0m0.3808   \u001b[0m | \u001b[0m9.556    \u001b[0m |\n",
      "| \u001b[0m2        \u001b[0m | \u001b[0m0.25     \u001b[0m | \u001b[0m0.7347   \u001b[0m | \u001b[0m6.388    \u001b[0m |\n",
      "| \u001b[0m3        \u001b[0m | \u001b[0m0.25     \u001b[0m | \u001b[0m0.1645   \u001b[0m | \u001b[0m2.404    \u001b[0m |\n",
      "| \u001b[0m4        \u001b[0m | \u001b[0m0.25     \u001b[0m | \u001b[0m0.0675   \u001b[0m | \u001b[0m8.796    \u001b[0m |\n",
      "| \u001b[0m5        \u001b[0m | \u001b[0m0.25     \u001b[0m | \u001b[0m0.6051   \u001b[0m | \u001b[0m7.373    \u001b[0m |\n",
      "| \u001b[0m6        \u001b[0m | \u001b[0m0.25     \u001b[0m | \u001b[0m0.9919   \u001b[0m | \u001b[0m1.008    \u001b[0m |\n",
      "| \u001b[0m7        \u001b[0m | \u001b[0m0.25     \u001b[0m | \u001b[0m0.9984   \u001b[0m | \u001b[0m1.004    \u001b[0m |\n",
      "| \u001b[0m8        \u001b[0m | \u001b[0m0.25     \u001b[0m | \u001b[0m0.08388  \u001b[0m | \u001b[0m10.0     \u001b[0m |\n",
      "| \u001b[95m9        \u001b[0m | \u001b[95m0.8571   \u001b[0m | \u001b[95m0.01119  \u001b[0m | \u001b[95m1.016    \u001b[0m |\n",
      "| \u001b[0m10       \u001b[0m | \u001b[0m0.8571   \u001b[0m | \u001b[0m0.01     \u001b[0m | \u001b[0m1.321    \u001b[0m |\n",
      "| \u001b[0m11       \u001b[0m | \u001b[0m0.25     \u001b[0m | \u001b[0m1.0      \u001b[0m | \u001b[0m4.441    \u001b[0m |\n",
      "| \u001b[0m12       \u001b[0m | \u001b[0m0.25     \u001b[0m | \u001b[0m0.1898   \u001b[0m | \u001b[0m1.166    \u001b[0m |\n",
      "| \u001b[0m13       \u001b[0m | \u001b[0m0.8571   \u001b[0m | \u001b[0m0.01     \u001b[0m | \u001b[0m1.169    \u001b[0m |\n",
      "| \u001b[0m14       \u001b[0m | \u001b[0m0.8571   \u001b[0m | \u001b[0m0.02147  \u001b[0m | \u001b[0m1.486    \u001b[0m |\n",
      "| \u001b[0m15       \u001b[0m | \u001b[0m0.8571   \u001b[0m | \u001b[0m0.0198   \u001b[0m | \u001b[0m1.756    \u001b[0m |\n",
      "=================================================\n",
      "GBP NZD\n",
      "GBP NOK\n",
      "|   iter    |  target   | learni... | max_depth |\n",
      "-------------------------------------------------\n",
      "| \u001b[0m1        \u001b[0m | \u001b[0m0.2857   \u001b[0m | \u001b[0m0.3808   \u001b[0m | \u001b[0m9.556    \u001b[0m |\n",
      "| \u001b[0m2        \u001b[0m | \u001b[0m0.2857   \u001b[0m | \u001b[0m0.7347   \u001b[0m | \u001b[0m6.388    \u001b[0m |\n",
      "| \u001b[0m3        \u001b[0m | \u001b[0m0.2857   \u001b[0m | \u001b[0m0.1645   \u001b[0m | \u001b[0m2.404    \u001b[0m |\n",
      "| \u001b[0m4        \u001b[0m | \u001b[0m0.2857   \u001b[0m | \u001b[0m0.0675   \u001b[0m | \u001b[0m8.796    \u001b[0m |\n",
      "| \u001b[0m5        \u001b[0m | \u001b[0m0.2857   \u001b[0m | \u001b[0m0.6051   \u001b[0m | \u001b[0m7.373    \u001b[0m |\n",
      "| \u001b[95m6        \u001b[0m | \u001b[95m0.6667   \u001b[0m | \u001b[95m0.9919   \u001b[0m | \u001b[95m1.008    \u001b[0m |\n",
      "| \u001b[0m7        \u001b[0m | \u001b[0m0.2857   \u001b[0m | \u001b[0m0.2471   \u001b[0m | \u001b[0m1.002    \u001b[0m |\n",
      "| \u001b[0m8        \u001b[0m | \u001b[0m0.2857   \u001b[0m | \u001b[0m0.1103   \u001b[0m | \u001b[0m5.695    \u001b[0m |\n",
      "| \u001b[0m9        \u001b[0m | \u001b[0m0.2857   \u001b[0m | \u001b[0m0.01559  \u001b[0m | \u001b[0m5.174    \u001b[0m |\n",
      "| \u001b[0m10       \u001b[0m | \u001b[0m0.6667   \u001b[0m | \u001b[0m0.9824   \u001b[0m | \u001b[0m1.067    \u001b[0m |\n",
      "| \u001b[0m11       \u001b[0m | \u001b[0m0.6667   \u001b[0m | \u001b[0m1.0      \u001b[0m | \u001b[0m1.688    \u001b[0m |\n",
      "| \u001b[0m12       \u001b[0m | \u001b[0m0.5      \u001b[0m | \u001b[0m1.0      \u001b[0m | \u001b[0m3.393    \u001b[0m |\n",
      "| \u001b[0m13       \u001b[0m | \u001b[0m0.5      \u001b[0m | \u001b[0m1.0      \u001b[0m | \u001b[0m2.371    \u001b[0m |\n",
      "| \u001b[0m14       \u001b[0m | \u001b[0m0.5      \u001b[0m | \u001b[0m1.0      \u001b[0m | \u001b[0m4.356    \u001b[0m |\n",
      "| \u001b[0m15       \u001b[0m | \u001b[0m0.6667   \u001b[0m | \u001b[0m1.0      \u001b[0m | \u001b[0m1.41     \u001b[0m |\n",
      "=================================================\n",
      "GBP SEK\n",
      "|   iter    |  target   | learni... | max_depth |\n",
      "-------------------------------------------------\n",
      "| \u001b[0m1        \u001b[0m | \u001b[0m0.6667   \u001b[0m | \u001b[0m0.3808   \u001b[0m | \u001b[0m9.556    \u001b[0m |\n",
      "| \u001b[0m2        \u001b[0m | \u001b[0m0.6667   \u001b[0m | \u001b[0m0.7347   \u001b[0m | \u001b[0m6.388    \u001b[0m |\n",
      "| \u001b[0m3        \u001b[0m | \u001b[0m0.6667   \u001b[0m | \u001b[0m0.1645   \u001b[0m | \u001b[0m2.404    \u001b[0m |\n",
      "| \u001b[0m4        \u001b[0m | \u001b[0m0.6667   \u001b[0m | \u001b[0m0.0675   \u001b[0m | \u001b[0m8.796    \u001b[0m |\n",
      "| \u001b[0m5        \u001b[0m | \u001b[0m0.6667   \u001b[0m | \u001b[0m0.6051   \u001b[0m | \u001b[0m7.373    \u001b[0m |\n",
      "| \u001b[95m6        \u001b[0m | \u001b[95m0.75     \u001b[0m | \u001b[95m0.9919   \u001b[0m | \u001b[95m1.008    \u001b[0m |\n",
      "| \u001b[0m7        \u001b[0m | \u001b[0m0.75     \u001b[0m | \u001b[0m0.2968   \u001b[0m | \u001b[0m1.0      \u001b[0m |\n",
      "| \u001b[95m8        \u001b[0m | \u001b[95m0.8571   \u001b[0m | \u001b[95m0.6159   \u001b[0m | \u001b[95m1.005    \u001b[0m |\n",
      "| \u001b[0m9        \u001b[0m | \u001b[0m0.8571   \u001b[0m | \u001b[0m0.6052   \u001b[0m | \u001b[0m1.028    \u001b[0m |\n",
      "| \u001b[0m10       \u001b[0m | \u001b[0m0.75     \u001b[0m | \u001b[0m0.6848   \u001b[0m | \u001b[0m1.415    \u001b[0m |\n",
      "| \u001b[0m11       \u001b[0m | \u001b[0m0.6667   \u001b[0m | \u001b[0m1.0      \u001b[0m | \u001b[0m4.289    \u001b[0m |\n",
      "| \u001b[0m12       \u001b[0m | \u001b[0m0.6667   \u001b[0m | \u001b[0m0.01     \u001b[0m | \u001b[0m5.206    \u001b[0m |\n",
      "| \u001b[0m13       \u001b[0m | \u001b[0m0.75     \u001b[0m | \u001b[0m0.7309   \u001b[0m | \u001b[0m1.088    \u001b[0m |\n",
      "| \u001b[0m14       \u001b[0m | \u001b[0m0.75     \u001b[0m | \u001b[0m0.5031   \u001b[0m | \u001b[0m1.052    \u001b[0m |\n",
      "| \u001b[0m15       \u001b[0m | \u001b[0m0.8571   \u001b[0m | \u001b[0m0.6163   \u001b[0m | \u001b[0m1.131    \u001b[0m |\n",
      "=================================================\n",
      "GBP EUR\n",
      "|   iter    |  target   | learni... | max_depth |\n",
      "-------------------------------------------------\n",
      "| \u001b[0m1        \u001b[0m | \u001b[0m0.2857   \u001b[0m | \u001b[0m0.3808   \u001b[0m | \u001b[0m9.556    \u001b[0m |\n",
      "| \u001b[95m2        \u001b[0m | \u001b[95m0.4      \u001b[0m | \u001b[95m0.7347   \u001b[0m | \u001b[95m6.388    \u001b[0m |\n",
      "| \u001b[0m3        \u001b[0m | \u001b[0m0.25     \u001b[0m | \u001b[0m0.1645   \u001b[0m | \u001b[0m2.404    \u001b[0m |\n",
      "| \u001b[95m4        \u001b[0m | \u001b[95m0.4444   \u001b[0m | \u001b[95m0.0675   \u001b[0m | \u001b[95m8.796    \u001b[0m |\n",
      "| \u001b[0m5        \u001b[0m | \u001b[0m0.2857   \u001b[0m | \u001b[0m0.6051   \u001b[0m | \u001b[0m7.373    \u001b[0m |\n",
      "| \u001b[0m6        \u001b[0m | \u001b[0m0.4      \u001b[0m | \u001b[0m0.6762   \u001b[0m | \u001b[0m5.777    \u001b[0m |\n",
      "| \u001b[95m7        \u001b[0m | \u001b[95m0.5      \u001b[0m | \u001b[95m0.01     \u001b[0m | \u001b[95m8.849    \u001b[0m |\n",
      "| \u001b[0m8        \u001b[0m | \u001b[0m0.4706   \u001b[0m | \u001b[0m0.02378  \u001b[0m | \u001b[0m9.004    \u001b[0m |\n",
      "| \u001b[0m9        \u001b[0m | \u001b[0m0.2667   \u001b[0m | \u001b[0m0.3957   \u001b[0m | \u001b[0m6.112    \u001b[0m |\n",
      "| \u001b[95m10       \u001b[0m | \u001b[95m0.5333   \u001b[0m | \u001b[95m0.9847   \u001b[0m | \u001b[95m6.031    \u001b[0m |\n",
      "| \u001b[0m11       \u001b[0m | \u001b[0m0.4286   \u001b[0m | \u001b[0m0.9926   \u001b[0m | \u001b[0m5.815    \u001b[0m |\n",
      "| \u001b[0m12       \u001b[0m | \u001b[0m0.4      \u001b[0m | \u001b[0m0.4474   \u001b[0m | \u001b[0m8.419    \u001b[0m |\n",
      "| \u001b[0m13       \u001b[0m | \u001b[0m0.5333   \u001b[0m | \u001b[0m0.9955   \u001b[0m | \u001b[0m6.225    \u001b[0m |\n",
      "| \u001b[0m14       \u001b[0m | \u001b[0m0.4286   \u001b[0m | \u001b[0m0.9994   \u001b[0m | \u001b[0m6.222    \u001b[0m |\n",
      "| \u001b[0m15       \u001b[0m | \u001b[0m0.25     \u001b[0m | \u001b[0m0.6933   \u001b[0m | \u001b[0m2.102    \u001b[0m |\n",
      "=================================================\n",
      "GBP EUR\n",
      "|   iter    |  target   | learni... | max_depth |\n",
      "-------------------------------------------------\n",
      "| \u001b[0m1        \u001b[0m | \u001b[0m0.6667   \u001b[0m | \u001b[0m0.3808   \u001b[0m | \u001b[0m9.556    \u001b[0m |\n",
      "| \u001b[0m2        \u001b[0m | \u001b[0m0.6154   \u001b[0m | \u001b[0m0.7347   \u001b[0m | \u001b[0m6.388    \u001b[0m |\n",
      "| \u001b[0m3        \u001b[0m | \u001b[0m0.6667   \u001b[0m | \u001b[0m0.1645   \u001b[0m | \u001b[0m2.404    \u001b[0m |\n",
      "| \u001b[0m4        \u001b[0m | \u001b[0m0.6667   \u001b[0m | \u001b[0m0.0675   \u001b[0m | \u001b[0m8.796    \u001b[0m |\n",
      "| \u001b[0m5        \u001b[0m | \u001b[0m0.5714   \u001b[0m | \u001b[0m0.6051   \u001b[0m | \u001b[0m7.373    \u001b[0m |\n",
      "| \u001b[0m6        \u001b[0m | \u001b[0m0.5714   \u001b[0m | \u001b[0m0.1179   \u001b[0m | \u001b[0m1.25     \u001b[0m |\n",
      "| \u001b[0m7        \u001b[0m | \u001b[0m0.6667   \u001b[0m | \u001b[0m0.284    \u001b[0m | \u001b[0m9.552    \u001b[0m |\n",
      "| \u001b[0m8        \u001b[0m | \u001b[0m0.6154   \u001b[0m | \u001b[0m0.2045   \u001b[0m | \u001b[0m3.363    \u001b[0m |\n",
      "| \u001b[0m9        \u001b[0m | \u001b[0m0.5455   \u001b[0m | \u001b[0m0.9972   \u001b[0m | \u001b[0m8.925    \u001b[0m |\n",
      "| \u001b[0m10       \u001b[0m | \u001b[0m0.6154   \u001b[0m | \u001b[0m0.6938   \u001b[0m | \u001b[0m2.465    \u001b[0m |\n",
      "| \u001b[0m11       \u001b[0m | \u001b[0m0.5455   \u001b[0m | \u001b[0m0.01     \u001b[0m | \u001b[0m9.184    \u001b[0m |\n",
      "| \u001b[0m12       \u001b[0m | \u001b[0m0.6667   \u001b[0m | \u001b[0m0.4474   \u001b[0m | \u001b[0m8.419    \u001b[0m |\n",
      "| \u001b[0m13       \u001b[0m | \u001b[0m0.6667   \u001b[0m | \u001b[0m0.2403   \u001b[0m | \u001b[0m8.606    \u001b[0m |\n",
      "| \u001b[0m14       \u001b[0m | \u001b[0m0.6667   \u001b[0m | \u001b[0m0.1679   \u001b[0m | \u001b[0m2.417    \u001b[0m |\n",
      "| \u001b[0m15       \u001b[0m | \u001b[0m0.5455   \u001b[0m | \u001b[0m0.01378  \u001b[0m | \u001b[0m8.422    \u001b[0m |\n",
      "=================================================\n",
      "AUD JPY\n",
      "|   iter    |  target   | learni... | max_depth |\n",
      "-------------------------------------------------\n",
      "| \u001b[0m1        \u001b[0m | \u001b[0m0.0      \u001b[0m | \u001b[0m0.3808   \u001b[0m | \u001b[0m9.556    \u001b[0m |\n",
      "| \u001b[0m2        \u001b[0m | \u001b[0m0.0      \u001b[0m | \u001b[0m0.7347   \u001b[0m | \u001b[0m6.388    \u001b[0m |\n",
      "| \u001b[0m3        \u001b[0m | \u001b[0m0.0      \u001b[0m | \u001b[0m0.1645   \u001b[0m | \u001b[0m2.404    \u001b[0m |\n",
      "| \u001b[0m4        \u001b[0m | \u001b[0m0.0      \u001b[0m | \u001b[0m0.0675   \u001b[0m | \u001b[0m8.796    \u001b[0m |\n",
      "| \u001b[0m5        \u001b[0m | \u001b[0m0.0      \u001b[0m | \u001b[0m0.6051   \u001b[0m | \u001b[0m7.373    \u001b[0m |\n",
      "| \u001b[0m6        \u001b[0m | \u001b[0m0.0      \u001b[0m | \u001b[0m0.9919   \u001b[0m | \u001b[0m1.008    \u001b[0m |\n",
      "| \u001b[0m7        \u001b[0m | \u001b[0m0.0      \u001b[0m | \u001b[0m0.9984   \u001b[0m | \u001b[0m1.004    \u001b[0m |\n",
      "| \u001b[0m8        \u001b[0m | \u001b[0m0.0      \u001b[0m | \u001b[0m0.08388  \u001b[0m | \u001b[0m10.0     \u001b[0m |\n",
      "| \u001b[0m9        \u001b[0m | \u001b[0m0.0      \u001b[0m | \u001b[0m0.01119  \u001b[0m | \u001b[0m1.016    \u001b[0m |\n",
      "| \u001b[0m10       \u001b[0m | \u001b[0m0.0      \u001b[0m | \u001b[0m0.9959   \u001b[0m | \u001b[0m9.999    \u001b[0m |\n",
      "| \u001b[0m11       \u001b[0m | \u001b[0m0.0      \u001b[0m | \u001b[0m0.9652   \u001b[0m | \u001b[0m1.003    \u001b[0m |\n",
      "| \u001b[0m12       \u001b[0m | \u001b[0m0.0      \u001b[0m | \u001b[0m0.9166   \u001b[0m | \u001b[0m9.998    \u001b[0m |\n",
      "| \u001b[0m13       \u001b[0m | \u001b[0m0.0      \u001b[0m | \u001b[0m0.05485  \u001b[0m | \u001b[0m1.015    \u001b[0m |\n"
     ]
    },
    {
     "name": "stdout",
     "output_type": "stream",
     "text": [
      "| \u001b[0m14       \u001b[0m | \u001b[0m0.0      \u001b[0m | \u001b[0m0.0568   \u001b[0m | \u001b[0m9.995    \u001b[0m |\n",
      "| \u001b[0m15       \u001b[0m | \u001b[0m0.0      \u001b[0m | \u001b[0m0.04508  \u001b[0m | \u001b[0m1.002    \u001b[0m |\n",
      "=================================================\n",
      "AUD CAD\n",
      "|   iter    |  target   | learni... | max_depth |\n",
      "-------------------------------------------------\n"
     ]
    },
    {
     "name": "stderr",
     "output_type": "stream",
     "text": [
      "C:\\Users\\anson\\anaconda3\\lib\\site-packages\\sklearn\\metrics\\_classification.py:1580: UndefinedMetricWarning: F-score is ill-defined and being set to 0.0 due to no true nor predicted samples. Use `zero_division` parameter to control this behavior.\n",
      "  _warn_prf(average, \"true nor predicted\", \"F-score is\", len(true_sum))\n",
      "C:\\Users\\anson\\anaconda3\\lib\\site-packages\\sklearn\\metrics\\_classification.py:1580: UndefinedMetricWarning: F-score is ill-defined and being set to 0.0 due to no true nor predicted samples. Use `zero_division` parameter to control this behavior.\n",
      "  _warn_prf(average, \"true nor predicted\", \"F-score is\", len(true_sum))\n",
      "C:\\Users\\anson\\anaconda3\\lib\\site-packages\\sklearn\\metrics\\_classification.py:1580: UndefinedMetricWarning: F-score is ill-defined and being set to 0.0 due to no true nor predicted samples. Use `zero_division` parameter to control this behavior.\n",
      "  _warn_prf(average, \"true nor predicted\", \"F-score is\", len(true_sum))\n",
      "C:\\Users\\anson\\anaconda3\\lib\\site-packages\\sklearn\\metrics\\_classification.py:1580: UndefinedMetricWarning: F-score is ill-defined and being set to 0.0 due to no true nor predicted samples. Use `zero_division` parameter to control this behavior.\n",
      "  _warn_prf(average, \"true nor predicted\", \"F-score is\", len(true_sum))\n",
      "C:\\Users\\anson\\anaconda3\\lib\\site-packages\\sklearn\\metrics\\_classification.py:1580: UndefinedMetricWarning: F-score is ill-defined and being set to 0.0 due to no true nor predicted samples. Use `zero_division` parameter to control this behavior.\n",
      "  _warn_prf(average, \"true nor predicted\", \"F-score is\", len(true_sum))\n"
     ]
    },
    {
     "name": "stdout",
     "output_type": "stream",
     "text": [
      "| \u001b[0m1        \u001b[0m | \u001b[0m0.0      \u001b[0m | \u001b[0m0.3808   \u001b[0m | \u001b[0m9.556    \u001b[0m |\n",
      "| \u001b[0m2        \u001b[0m | \u001b[0m0.0      \u001b[0m | \u001b[0m0.7347   \u001b[0m | \u001b[0m6.388    \u001b[0m |\n",
      "| \u001b[0m3        \u001b[0m | \u001b[0m0.0      \u001b[0m | \u001b[0m0.1645   \u001b[0m | \u001b[0m2.404    \u001b[0m |\n",
      "| \u001b[0m4        \u001b[0m | \u001b[0m0.0      \u001b[0m | \u001b[0m0.0675   \u001b[0m | \u001b[0m8.796    \u001b[0m |\n",
      "| \u001b[0m5        \u001b[0m | \u001b[0m0.0      \u001b[0m | \u001b[0m0.6051   \u001b[0m | \u001b[0m7.373    \u001b[0m |\n"
     ]
    },
    {
     "name": "stderr",
     "output_type": "stream",
     "text": [
      "C:\\Users\\anson\\anaconda3\\lib\\site-packages\\sklearn\\metrics\\_classification.py:1580: UndefinedMetricWarning: F-score is ill-defined and being set to 0.0 due to no true nor predicted samples. Use `zero_division` parameter to control this behavior.\n",
      "  _warn_prf(average, \"true nor predicted\", \"F-score is\", len(true_sum))\n",
      "C:\\Users\\anson\\anaconda3\\lib\\site-packages\\sklearn\\metrics\\_classification.py:1580: UndefinedMetricWarning: F-score is ill-defined and being set to 0.0 due to no true nor predicted samples. Use `zero_division` parameter to control this behavior.\n",
      "  _warn_prf(average, \"true nor predicted\", \"F-score is\", len(true_sum))\n"
     ]
    },
    {
     "name": "stdout",
     "output_type": "stream",
     "text": [
      "| \u001b[0m6        \u001b[0m | \u001b[0m0.0      \u001b[0m | \u001b[0m0.9919   \u001b[0m | \u001b[0m1.008    \u001b[0m |\n",
      "| \u001b[0m7        \u001b[0m | \u001b[0m0.0      \u001b[0m | \u001b[0m0.9984   \u001b[0m | \u001b[0m1.004    \u001b[0m |\n"
     ]
    },
    {
     "name": "stderr",
     "output_type": "stream",
     "text": [
      "C:\\Users\\anson\\anaconda3\\lib\\site-packages\\sklearn\\metrics\\_classification.py:1580: UndefinedMetricWarning: F-score is ill-defined and being set to 0.0 due to no true nor predicted samples. Use `zero_division` parameter to control this behavior.\n",
      "  _warn_prf(average, \"true nor predicted\", \"F-score is\", len(true_sum))\n",
      "C:\\Users\\anson\\anaconda3\\lib\\site-packages\\sklearn\\metrics\\_classification.py:1580: UndefinedMetricWarning: F-score is ill-defined and being set to 0.0 due to no true nor predicted samples. Use `zero_division` parameter to control this behavior.\n",
      "  _warn_prf(average, \"true nor predicted\", \"F-score is\", len(true_sum))\n"
     ]
    },
    {
     "name": "stdout",
     "output_type": "stream",
     "text": [
      "| \u001b[0m8        \u001b[0m | \u001b[0m0.0      \u001b[0m | \u001b[0m0.08388  \u001b[0m | \u001b[0m10.0     \u001b[0m |\n",
      "| \u001b[0m9        \u001b[0m | \u001b[0m0.0      \u001b[0m | \u001b[0m0.01119  \u001b[0m | \u001b[0m1.016    \u001b[0m |\n"
     ]
    },
    {
     "name": "stderr",
     "output_type": "stream",
     "text": [
      "C:\\Users\\anson\\anaconda3\\lib\\site-packages\\sklearn\\metrics\\_classification.py:1580: UndefinedMetricWarning: F-score is ill-defined and being set to 0.0 due to no true nor predicted samples. Use `zero_division` parameter to control this behavior.\n",
      "  _warn_prf(average, \"true nor predicted\", \"F-score is\", len(true_sum))\n",
      "C:\\Users\\anson\\anaconda3\\lib\\site-packages\\sklearn\\metrics\\_classification.py:1580: UndefinedMetricWarning: F-score is ill-defined and being set to 0.0 due to no true nor predicted samples. Use `zero_division` parameter to control this behavior.\n",
      "  _warn_prf(average, \"true nor predicted\", \"F-score is\", len(true_sum))\n"
     ]
    },
    {
     "name": "stdout",
     "output_type": "stream",
     "text": [
      "| \u001b[0m10       \u001b[0m | \u001b[0m0.0      \u001b[0m | \u001b[0m0.9959   \u001b[0m | \u001b[0m9.999    \u001b[0m |\n",
      "| \u001b[0m11       \u001b[0m | \u001b[0m0.0      \u001b[0m | \u001b[0m0.9652   \u001b[0m | \u001b[0m1.003    \u001b[0m |\n"
     ]
    },
    {
     "name": "stderr",
     "output_type": "stream",
     "text": [
      "C:\\Users\\anson\\anaconda3\\lib\\site-packages\\sklearn\\metrics\\_classification.py:1580: UndefinedMetricWarning: F-score is ill-defined and being set to 0.0 due to no true nor predicted samples. Use `zero_division` parameter to control this behavior.\n",
      "  _warn_prf(average, \"true nor predicted\", \"F-score is\", len(true_sum))\n",
      "C:\\Users\\anson\\anaconda3\\lib\\site-packages\\sklearn\\metrics\\_classification.py:1580: UndefinedMetricWarning: F-score is ill-defined and being set to 0.0 due to no true nor predicted samples. Use `zero_division` parameter to control this behavior.\n",
      "  _warn_prf(average, \"true nor predicted\", \"F-score is\", len(true_sum))\n"
     ]
    },
    {
     "name": "stdout",
     "output_type": "stream",
     "text": [
      "| \u001b[0m12       \u001b[0m | \u001b[0m0.0      \u001b[0m | \u001b[0m0.9166   \u001b[0m | \u001b[0m9.998    \u001b[0m |\n",
      "| \u001b[0m13       \u001b[0m | \u001b[0m0.0      \u001b[0m | \u001b[0m0.05485  \u001b[0m | \u001b[0m1.015    \u001b[0m |\n"
     ]
    },
    {
     "name": "stderr",
     "output_type": "stream",
     "text": [
      "C:\\Users\\anson\\anaconda3\\lib\\site-packages\\sklearn\\metrics\\_classification.py:1580: UndefinedMetricWarning: F-score is ill-defined and being set to 0.0 due to no true nor predicted samples. Use `zero_division` parameter to control this behavior.\n",
      "  _warn_prf(average, \"true nor predicted\", \"F-score is\", len(true_sum))\n",
      "C:\\Users\\anson\\anaconda3\\lib\\site-packages\\sklearn\\metrics\\_classification.py:1580: UndefinedMetricWarning: F-score is ill-defined and being set to 0.0 due to no true nor predicted samples. Use `zero_division` parameter to control this behavior.\n",
      "  _warn_prf(average, \"true nor predicted\", \"F-score is\", len(true_sum))\n",
      "C:\\Users\\anson\\anaconda3\\lib\\site-packages\\sklearn\\metrics\\_classification.py:1580: UndefinedMetricWarning: F-score is ill-defined and being set to 0.0 due to no true nor predicted samples. Use `zero_division` parameter to control this behavior.\n",
      "  _warn_prf(average, \"true nor predicted\", \"F-score is\", len(true_sum))\n"
     ]
    },
    {
     "name": "stdout",
     "output_type": "stream",
     "text": [
      "| \u001b[0m14       \u001b[0m | \u001b[0m0.0      \u001b[0m | \u001b[0m0.0568   \u001b[0m | \u001b[0m9.995    \u001b[0m |\n",
      "| \u001b[0m15       \u001b[0m | \u001b[0m0.0      \u001b[0m | \u001b[0m0.04508  \u001b[0m | \u001b[0m1.002    \u001b[0m |\n",
      "=================================================\n",
      "AUD NOK\n",
      "|   iter    |  target   | learni... | max_depth |\n",
      "-------------------------------------------------\n",
      "| \u001b[0m1        \u001b[0m | \u001b[0m0.0      \u001b[0m | \u001b[0m0.3808   \u001b[0m | \u001b[0m9.556    \u001b[0m |\n"
     ]
    },
    {
     "name": "stderr",
     "output_type": "stream",
     "text": [
      "C:\\Users\\anson\\anaconda3\\lib\\site-packages\\sklearn\\metrics\\_classification.py:1580: UndefinedMetricWarning: F-score is ill-defined and being set to 0.0 due to no true nor predicted samples. Use `zero_division` parameter to control this behavior.\n",
      "  _warn_prf(average, \"true nor predicted\", \"F-score is\", len(true_sum))\n",
      "C:\\Users\\anson\\anaconda3\\lib\\site-packages\\sklearn\\metrics\\_classification.py:1580: UndefinedMetricWarning: F-score is ill-defined and being set to 0.0 due to no true nor predicted samples. Use `zero_division` parameter to control this behavior.\n",
      "  _warn_prf(average, \"true nor predicted\", \"F-score is\", len(true_sum))\n",
      "C:\\Users\\anson\\anaconda3\\lib\\site-packages\\sklearn\\metrics\\_classification.py:1580: UndefinedMetricWarning: F-score is ill-defined and being set to 0.0 due to no true nor predicted samples. Use `zero_division` parameter to control this behavior.\n",
      "  _warn_prf(average, \"true nor predicted\", \"F-score is\", len(true_sum))\n",
      "C:\\Users\\anson\\anaconda3\\lib\\site-packages\\sklearn\\metrics\\_classification.py:1580: UndefinedMetricWarning: F-score is ill-defined and being set to 0.0 due to no true nor predicted samples. Use `zero_division` parameter to control this behavior.\n",
      "  _warn_prf(average, \"true nor predicted\", \"F-score is\", len(true_sum))\n",
      "C:\\Users\\anson\\anaconda3\\lib\\site-packages\\sklearn\\metrics\\_classification.py:1580: UndefinedMetricWarning: F-score is ill-defined and being set to 0.0 due to no true nor predicted samples. Use `zero_division` parameter to control this behavior.\n",
      "  _warn_prf(average, \"true nor predicted\", \"F-score is\", len(true_sum))\n"
     ]
    },
    {
     "name": "stdout",
     "output_type": "stream",
     "text": [
      "| \u001b[0m2        \u001b[0m | \u001b[0m0.0      \u001b[0m | \u001b[0m0.7347   \u001b[0m | \u001b[0m6.388    \u001b[0m |\n",
      "| \u001b[0m3        \u001b[0m | \u001b[0m0.0      \u001b[0m | \u001b[0m0.1645   \u001b[0m | \u001b[0m2.404    \u001b[0m |\n",
      "| \u001b[0m4        \u001b[0m | \u001b[0m0.0      \u001b[0m | \u001b[0m0.0675   \u001b[0m | \u001b[0m8.796    \u001b[0m |\n",
      "| \u001b[0m5        \u001b[0m | \u001b[0m0.0      \u001b[0m | \u001b[0m0.6051   \u001b[0m | \u001b[0m7.373    \u001b[0m |\n",
      "| \u001b[0m6        \u001b[0m | \u001b[0m0.0      \u001b[0m | \u001b[0m0.9919   \u001b[0m | \u001b[0m1.008    \u001b[0m |\n"
     ]
    },
    {
     "name": "stderr",
     "output_type": "stream",
     "text": [
      "C:\\Users\\anson\\anaconda3\\lib\\site-packages\\sklearn\\metrics\\_classification.py:1580: UndefinedMetricWarning: F-score is ill-defined and being set to 0.0 due to no true nor predicted samples. Use `zero_division` parameter to control this behavior.\n",
      "  _warn_prf(average, \"true nor predicted\", \"F-score is\", len(true_sum))\n",
      "C:\\Users\\anson\\anaconda3\\lib\\site-packages\\sklearn\\metrics\\_classification.py:1580: UndefinedMetricWarning: F-score is ill-defined and being set to 0.0 due to no true nor predicted samples. Use `zero_division` parameter to control this behavior.\n",
      "  _warn_prf(average, \"true nor predicted\", \"F-score is\", len(true_sum))\n"
     ]
    },
    {
     "name": "stdout",
     "output_type": "stream",
     "text": [
      "| \u001b[0m7        \u001b[0m | \u001b[0m0.0      \u001b[0m | \u001b[0m0.9984   \u001b[0m | \u001b[0m1.004    \u001b[0m |\n",
      "| \u001b[0m8        \u001b[0m | \u001b[0m0.0      \u001b[0m | \u001b[0m0.08388  \u001b[0m | \u001b[0m10.0     \u001b[0m |\n"
     ]
    },
    {
     "name": "stderr",
     "output_type": "stream",
     "text": [
      "C:\\Users\\anson\\anaconda3\\lib\\site-packages\\sklearn\\metrics\\_classification.py:1580: UndefinedMetricWarning: F-score is ill-defined and being set to 0.0 due to no true nor predicted samples. Use `zero_division` parameter to control this behavior.\n",
      "  _warn_prf(average, \"true nor predicted\", \"F-score is\", len(true_sum))\n",
      "C:\\Users\\anson\\anaconda3\\lib\\site-packages\\sklearn\\metrics\\_classification.py:1580: UndefinedMetricWarning: F-score is ill-defined and being set to 0.0 due to no true nor predicted samples. Use `zero_division` parameter to control this behavior.\n",
      "  _warn_prf(average, \"true nor predicted\", \"F-score is\", len(true_sum))\n"
     ]
    },
    {
     "name": "stdout",
     "output_type": "stream",
     "text": [
      "| \u001b[0m9        \u001b[0m | \u001b[0m0.0      \u001b[0m | \u001b[0m0.01119  \u001b[0m | \u001b[0m1.016    \u001b[0m |\n",
      "| \u001b[0m10       \u001b[0m | \u001b[0m0.0      \u001b[0m | \u001b[0m0.9959   \u001b[0m | \u001b[0m9.999    \u001b[0m |\n"
     ]
    },
    {
     "name": "stderr",
     "output_type": "stream",
     "text": [
      "C:\\Users\\anson\\anaconda3\\lib\\site-packages\\sklearn\\metrics\\_classification.py:1580: UndefinedMetricWarning: F-score is ill-defined and being set to 0.0 due to no true nor predicted samples. Use `zero_division` parameter to control this behavior.\n",
      "  _warn_prf(average, \"true nor predicted\", \"F-score is\", len(true_sum))\n",
      "C:\\Users\\anson\\anaconda3\\lib\\site-packages\\sklearn\\metrics\\_classification.py:1580: UndefinedMetricWarning: F-score is ill-defined and being set to 0.0 due to no true nor predicted samples. Use `zero_division` parameter to control this behavior.\n",
      "  _warn_prf(average, \"true nor predicted\", \"F-score is\", len(true_sum))\n"
     ]
    },
    {
     "name": "stdout",
     "output_type": "stream",
     "text": [
      "| \u001b[0m11       \u001b[0m | \u001b[0m0.0      \u001b[0m | \u001b[0m0.9652   \u001b[0m | \u001b[0m1.003    \u001b[0m |\n",
      "| \u001b[0m12       \u001b[0m | \u001b[0m0.0      \u001b[0m | \u001b[0m0.9166   \u001b[0m | \u001b[0m9.998    \u001b[0m |\n"
     ]
    },
    {
     "name": "stderr",
     "output_type": "stream",
     "text": [
      "C:\\Users\\anson\\anaconda3\\lib\\site-packages\\sklearn\\metrics\\_classification.py:1580: UndefinedMetricWarning: F-score is ill-defined and being set to 0.0 due to no true nor predicted samples. Use `zero_division` parameter to control this behavior.\n",
      "  _warn_prf(average, \"true nor predicted\", \"F-score is\", len(true_sum))\n",
      "C:\\Users\\anson\\anaconda3\\lib\\site-packages\\sklearn\\metrics\\_classification.py:1580: UndefinedMetricWarning: F-score is ill-defined and being set to 0.0 due to no true nor predicted samples. Use `zero_division` parameter to control this behavior.\n",
      "  _warn_prf(average, \"true nor predicted\", \"F-score is\", len(true_sum))\n"
     ]
    },
    {
     "name": "stdout",
     "output_type": "stream",
     "text": [
      "| \u001b[0m13       \u001b[0m | \u001b[0m0.0      \u001b[0m | \u001b[0m0.05485  \u001b[0m | \u001b[0m1.015    \u001b[0m |\n",
      "| \u001b[0m14       \u001b[0m | \u001b[0m0.0      \u001b[0m | \u001b[0m0.0568   \u001b[0m | \u001b[0m9.995    \u001b[0m |\n"
     ]
    },
    {
     "name": "stderr",
     "output_type": "stream",
     "text": [
      "C:\\Users\\anson\\anaconda3\\lib\\site-packages\\sklearn\\metrics\\_classification.py:1580: UndefinedMetricWarning: F-score is ill-defined and being set to 0.0 due to no true nor predicted samples. Use `zero_division` parameter to control this behavior.\n",
      "  _warn_prf(average, \"true nor predicted\", \"F-score is\", len(true_sum))\n"
     ]
    },
    {
     "name": "stdout",
     "output_type": "stream",
     "text": [
      "| \u001b[0m15       \u001b[0m | \u001b[0m0.0      \u001b[0m | \u001b[0m0.04508  \u001b[0m | \u001b[0m1.002    \u001b[0m |\n",
      "=================================================\n",
      "AUD SEK\n",
      "|   iter    |  target   | learni... | max_depth |\n",
      "-------------------------------------------------\n",
      "| \u001b[0m1        \u001b[0m | \u001b[0m0.0      \u001b[0m | \u001b[0m0.3808   \u001b[0m | \u001b[0m9.556    \u001b[0m |\n",
      "| \u001b[0m2        \u001b[0m | \u001b[0m0.0      \u001b[0m | \u001b[0m0.7347   \u001b[0m | \u001b[0m6.388    \u001b[0m |\n",
      "| \u001b[0m3        \u001b[0m | \u001b[0m0.0      \u001b[0m | \u001b[0m0.1645   \u001b[0m | \u001b[0m2.404    \u001b[0m |\n",
      "| \u001b[0m4        \u001b[0m | \u001b[0m0.0      \u001b[0m | \u001b[0m0.0675   \u001b[0m | \u001b[0m8.796    \u001b[0m |\n",
      "| \u001b[0m5        \u001b[0m | \u001b[0m0.0      \u001b[0m | \u001b[0m0.6051   \u001b[0m | \u001b[0m7.373    \u001b[0m |\n",
      "| \u001b[0m6        \u001b[0m | \u001b[0m0.0      \u001b[0m | \u001b[0m0.9919   \u001b[0m | \u001b[0m1.008    \u001b[0m |\n",
      "| \u001b[0m7        \u001b[0m | \u001b[0m0.0      \u001b[0m | \u001b[0m0.9984   \u001b[0m | \u001b[0m1.004    \u001b[0m |\n",
      "| \u001b[0m8        \u001b[0m | \u001b[0m0.0      \u001b[0m | \u001b[0m0.08388  \u001b[0m | \u001b[0m10.0     \u001b[0m |\n",
      "| \u001b[0m9        \u001b[0m | \u001b[0m0.0      \u001b[0m | \u001b[0m0.01119  \u001b[0m | \u001b[0m1.016    \u001b[0m |\n",
      "| \u001b[0m10       \u001b[0m | \u001b[0m0.0      \u001b[0m | \u001b[0m0.9959   \u001b[0m | \u001b[0m9.999    \u001b[0m |\n",
      "| \u001b[0m11       \u001b[0m | \u001b[0m0.0      \u001b[0m | \u001b[0m0.9652   \u001b[0m | \u001b[0m1.003    \u001b[0m |\n",
      "| \u001b[0m12       \u001b[0m | \u001b[0m0.0      \u001b[0m | \u001b[0m0.9166   \u001b[0m | \u001b[0m9.998    \u001b[0m |\n",
      "| \u001b[0m13       \u001b[0m | \u001b[0m0.0      \u001b[0m | \u001b[0m0.05485  \u001b[0m | \u001b[0m1.015    \u001b[0m |\n",
      "| \u001b[0m14       \u001b[0m | \u001b[0m0.0      \u001b[0m | \u001b[0m0.0568   \u001b[0m | \u001b[0m9.995    \u001b[0m |\n",
      "| \u001b[0m15       \u001b[0m | \u001b[0m0.0      \u001b[0m | \u001b[0m0.04508  \u001b[0m | \u001b[0m1.002    \u001b[0m |\n",
      "=================================================\n",
      "CAD JPY\n",
      "|   iter    |  target   | learni... | max_depth |\n",
      "-------------------------------------------------\n",
      "| \u001b[0m1        \u001b[0m | \u001b[0m0.5556   \u001b[0m | \u001b[0m0.3808   \u001b[0m | \u001b[0m9.556    \u001b[0m |\n",
      "| \u001b[0m2        \u001b[0m | \u001b[0m0.375    \u001b[0m | \u001b[0m0.7347   \u001b[0m | \u001b[0m6.388    \u001b[0m |\n",
      "| \u001b[0m3        \u001b[0m | \u001b[0m0.5263   \u001b[0m | \u001b[0m0.1645   \u001b[0m | \u001b[0m2.404    \u001b[0m |\n",
      "| \u001b[95m4        \u001b[0m | \u001b[95m0.6667   \u001b[0m | \u001b[95m0.0675   \u001b[0m | \u001b[95m8.796    \u001b[0m |\n",
      "| \u001b[0m5        \u001b[0m | \u001b[0m0.6316   \u001b[0m | \u001b[0m0.6051   \u001b[0m | \u001b[0m7.373    \u001b[0m |\n",
      "| \u001b[0m6        \u001b[0m | \u001b[0m0.6364   \u001b[0m | \u001b[0m0.0146   \u001b[0m | \u001b[0m8.863    \u001b[0m |\n",
      "| \u001b[0m7        \u001b[0m | \u001b[0m0.6316   \u001b[0m | \u001b[0m0.2232   \u001b[0m | \u001b[0m8.405    \u001b[0m |\n",
      "| \u001b[0m8        \u001b[0m | \u001b[0m0.5556   \u001b[0m | \u001b[0m0.5124   \u001b[0m | \u001b[0m8.804    \u001b[0m |\n",
      "| \u001b[0m9        \u001b[0m | \u001b[0m0.6316   \u001b[0m | \u001b[0m0.3273   \u001b[0m | \u001b[0m7.77     \u001b[0m |\n",
      "| \u001b[0m10       \u001b[0m | \u001b[0m0.6316   \u001b[0m | \u001b[0m0.8441   \u001b[0m | \u001b[0m7.815    \u001b[0m |\n",
      "| \u001b[0m11       \u001b[0m | \u001b[0m0.6364   \u001b[0m | \u001b[0m0.01     \u001b[0m | \u001b[0m7.336    \u001b[0m |\n",
      "| \u001b[0m12       \u001b[0m | \u001b[0m0.5882   \u001b[0m | \u001b[0m1.0      \u001b[0m | \u001b[0m4.206    \u001b[0m |\n",
      "| \u001b[0m13       \u001b[0m | \u001b[0m0.6      \u001b[0m | \u001b[0m1.0      \u001b[0m | \u001b[0m1.0      \u001b[0m |\n",
      "| \u001b[0m14       \u001b[0m | \u001b[0m0.6667   \u001b[0m | \u001b[0m0.06192  \u001b[0m | \u001b[0m8.805    \u001b[0m |\n",
      "| \u001b[0m15       \u001b[0m | \u001b[0m0.5263   \u001b[0m | \u001b[0m0.2927   \u001b[0m | \u001b[0m7.437    \u001b[0m |\n",
      "=================================================\n",
      "CAD NOK\n",
      "|   iter    |  target   | learni... | max_depth |\n",
      "-------------------------------------------------\n",
      "| \u001b[0m1        \u001b[0m | \u001b[0m0.5714   \u001b[0m | \u001b[0m0.3808   \u001b[0m | \u001b[0m9.556    \u001b[0m |\n",
      "| \u001b[0m2        \u001b[0m | \u001b[0m0.5714   \u001b[0m | \u001b[0m0.7347   \u001b[0m | \u001b[0m6.388    \u001b[0m |\n",
      "| \u001b[0m3        \u001b[0m | \u001b[0m0.3333   \u001b[0m | \u001b[0m0.1645   \u001b[0m | \u001b[0m2.404    \u001b[0m |\n",
      "| \u001b[0m4        \u001b[0m | \u001b[0m0.5714   \u001b[0m | \u001b[0m0.0675   \u001b[0m | \u001b[0m8.796    \u001b[0m |\n",
      "| \u001b[0m5        \u001b[0m | \u001b[0m0.5714   \u001b[0m | \u001b[0m0.6051   \u001b[0m | \u001b[0m7.373    \u001b[0m |\n",
      "| \u001b[95m6        \u001b[0m | \u001b[95m0.6667   \u001b[0m | \u001b[95m0.01     \u001b[0m | \u001b[95m6.555    \u001b[0m |\n",
      "| \u001b[0m7        \u001b[0m | \u001b[0m0.6667   \u001b[0m | \u001b[0m0.01     \u001b[0m | \u001b[0m5.27     \u001b[0m |\n",
      "| \u001b[0m8        \u001b[0m | \u001b[0m0.3333   \u001b[0m | \u001b[0m1.0      \u001b[0m | \u001b[0m4.651    \u001b[0m |\n",
      "| \u001b[0m9        \u001b[0m | \u001b[0m0.6667   \u001b[0m | \u001b[0m0.02209  \u001b[0m | \u001b[0m5.823    \u001b[0m |\n",
      "| \u001b[0m10       \u001b[0m | \u001b[0m0.5714   \u001b[0m | \u001b[0m1.0      \u001b[0m | \u001b[0m1.0      \u001b[0m |\n",
      "| \u001b[0m11       \u001b[0m | \u001b[0m0.3333   \u001b[0m | \u001b[0m1.0      \u001b[0m | \u001b[0m8.703    \u001b[0m |\n",
      "| \u001b[0m12       \u001b[0m | \u001b[0m0.6667   \u001b[0m | \u001b[0m0.01     \u001b[0m | \u001b[0m7.364    \u001b[0m |\n",
      "| \u001b[0m13       \u001b[0m | \u001b[0m0.5714   \u001b[0m | \u001b[0m0.03969  \u001b[0m | \u001b[0m9.989    \u001b[0m |\n",
      "| \u001b[0m14       \u001b[0m | \u001b[0m0.5      \u001b[0m | \u001b[0m0.01898  \u001b[0m | \u001b[0m1.052    \u001b[0m |\n",
      "| \u001b[0m15       \u001b[0m | \u001b[0m0.6667   \u001b[0m | \u001b[0m0.01332  \u001b[0m | \u001b[0m7.918    \u001b[0m |\n",
      "=================================================\n",
      "CAD SEK\n",
      "|   iter    |  target   | learni... | max_depth |\n",
      "-------------------------------------------------\n",
      "| \u001b[0m1        \u001b[0m | \u001b[0m0.4444   \u001b[0m | \u001b[0m0.3808   \u001b[0m | \u001b[0m9.556    \u001b[0m |\n",
      "| \u001b[0m2        \u001b[0m | \u001b[0m0.4444   \u001b[0m | \u001b[0m0.7347   \u001b[0m | \u001b[0m6.388    \u001b[0m |\n",
      "| \u001b[0m3        \u001b[0m | \u001b[0m0.4444   \u001b[0m | \u001b[0m0.1645   \u001b[0m | \u001b[0m2.404    \u001b[0m |\n",
      "| \u001b[0m4        \u001b[0m | \u001b[0m0.4444   \u001b[0m | \u001b[0m0.0675   \u001b[0m | \u001b[0m8.796    \u001b[0m |\n",
      "| \u001b[0m5        \u001b[0m | \u001b[0m0.4444   \u001b[0m | \u001b[0m0.6051   \u001b[0m | \u001b[0m7.373    \u001b[0m |\n",
      "| \u001b[0m6        \u001b[0m | \u001b[0m0.4444   \u001b[0m | \u001b[0m0.9919   \u001b[0m | \u001b[0m1.008    \u001b[0m |\n",
      "| \u001b[0m7        \u001b[0m | \u001b[0m0.4444   \u001b[0m | \u001b[0m0.9984   \u001b[0m | \u001b[0m1.004    \u001b[0m |\n",
      "| \u001b[0m8        \u001b[0m | \u001b[0m0.4444   \u001b[0m | \u001b[0m0.1103   \u001b[0m | \u001b[0m5.695    \u001b[0m |\n",
      "| \u001b[0m9        \u001b[0m | \u001b[0m0.4444   \u001b[0m | \u001b[0m0.9891   \u001b[0m | \u001b[0m9.999    \u001b[0m |\n",
      "| \u001b[0m10       \u001b[0m | \u001b[0m0.4444   \u001b[0m | \u001b[0m0.6709   \u001b[0m | \u001b[0m6.78     \u001b[0m |\n",
      "| \u001b[0m11       \u001b[0m | \u001b[0m0.4444   \u001b[0m | \u001b[0m0.9652   \u001b[0m | \u001b[0m1.003    \u001b[0m |\n",
      "| \u001b[0m12       \u001b[0m | \u001b[0m0.4444   \u001b[0m | \u001b[0m0.1046   \u001b[0m | \u001b[0m9.99     \u001b[0m |\n",
      "| \u001b[0m13       \u001b[0m | \u001b[0m0.4444   \u001b[0m | \u001b[0m0.05485  \u001b[0m | \u001b[0m1.015    \u001b[0m |\n",
      "| \u001b[0m14       \u001b[0m | \u001b[0m0.4444   \u001b[0m | \u001b[0m0.4012   \u001b[0m | \u001b[0m5.386    \u001b[0m |\n",
      "| \u001b[0m15       \u001b[0m | \u001b[0m0.4444   \u001b[0m | \u001b[0m0.6933   \u001b[0m | \u001b[0m2.102    \u001b[0m |\n",
      "=================================================\n",
      "NZD JPY\n",
      "NZD CAD\n",
      "NZD NOK\n",
      "NOK SEK\n",
      "|   iter    |  target   | learni... | max_depth |\n",
      "-------------------------------------------------\n",
      "| \u001b[0m1        \u001b[0m | \u001b[0m1.0      \u001b[0m | \u001b[0m0.3808   \u001b[0m | \u001b[0m9.556    \u001b[0m |\n",
      "| \u001b[0m2        \u001b[0m | \u001b[0m1.0      \u001b[0m | \u001b[0m0.7347   \u001b[0m | \u001b[0m6.388    \u001b[0m |\n",
      "| \u001b[0m3        \u001b[0m | \u001b[0m1.0      \u001b[0m | \u001b[0m0.1645   \u001b[0m | \u001b[0m2.404    \u001b[0m |\n",
      "| \u001b[0m4        \u001b[0m | \u001b[0m1.0      \u001b[0m | \u001b[0m0.0675   \u001b[0m | \u001b[0m8.796    \u001b[0m |\n",
      "| \u001b[0m5        \u001b[0m | \u001b[0m1.0      \u001b[0m | \u001b[0m0.6051   \u001b[0m | \u001b[0m7.373    \u001b[0m |\n",
      "| \u001b[0m6        \u001b[0m | \u001b[0m1.0      \u001b[0m | \u001b[0m0.9919   \u001b[0m | \u001b[0m1.008    \u001b[0m |\n",
      "| \u001b[0m7        \u001b[0m | \u001b[0m1.0      \u001b[0m | \u001b[0m0.9984   \u001b[0m | \u001b[0m1.004    \u001b[0m |\n",
      "| \u001b[0m8        \u001b[0m | \u001b[0m1.0      \u001b[0m | \u001b[0m0.08388  \u001b[0m | \u001b[0m10.0     \u001b[0m |\n",
      "| \u001b[0m9        \u001b[0m | \u001b[0m0.8      \u001b[0m | \u001b[0m0.01119  \u001b[0m | \u001b[0m1.016    \u001b[0m |\n",
      "| \u001b[0m10       \u001b[0m | \u001b[0m1.0      \u001b[0m | \u001b[0m0.9855   \u001b[0m | \u001b[0m8.354    \u001b[0m |\n",
      "| \u001b[0m11       \u001b[0m | \u001b[0m1.0      \u001b[0m | \u001b[0m1.0      \u001b[0m | \u001b[0m2.898    \u001b[0m |\n",
      "| \u001b[0m12       \u001b[0m | \u001b[0m1.0      \u001b[0m | \u001b[0m0.05315  \u001b[0m | \u001b[0m3.393    \u001b[0m |\n",
      "| \u001b[0m13       \u001b[0m | \u001b[0m1.0      \u001b[0m | \u001b[0m0.9753   \u001b[0m | \u001b[0m4.029    \u001b[0m |\n",
      "| \u001b[0m14       \u001b[0m | \u001b[0m1.0      \u001b[0m | \u001b[0m0.733    \u001b[0m | \u001b[0m5.189    \u001b[0m |\n",
      "| \u001b[0m15       \u001b[0m | \u001b[0m0.8      \u001b[0m | \u001b[0m0.01     \u001b[0m | \u001b[0m4.473    \u001b[0m |\n",
      "=================================================\n",
      "EUR JPY\n",
      "|   iter    |  target   | learni... | max_depth |\n",
      "-------------------------------------------------\n",
      "| \u001b[0m1        \u001b[0m | \u001b[0m0.4615   \u001b[0m | \u001b[0m0.3808   \u001b[0m | \u001b[0m9.556    \u001b[0m |\n",
      "| \u001b[95m2        \u001b[0m | \u001b[95m0.5333   \u001b[0m | \u001b[95m0.7347   \u001b[0m | \u001b[95m6.388    \u001b[0m |\n",
      "| \u001b[0m3        \u001b[0m | \u001b[0m0.4615   \u001b[0m | \u001b[0m0.1645   \u001b[0m | \u001b[0m2.404    \u001b[0m |\n",
      "| \u001b[0m4        \u001b[0m | \u001b[0m0.4286   \u001b[0m | \u001b[0m0.0675   \u001b[0m | \u001b[0m8.796    \u001b[0m |\n",
      "| \u001b[0m5        \u001b[0m | \u001b[0m0.5333   \u001b[0m | \u001b[0m0.6051   \u001b[0m | \u001b[0m7.373    \u001b[0m |\n",
      "| \u001b[0m6        \u001b[0m | \u001b[0m0.5333   \u001b[0m | \u001b[0m0.01     \u001b[0m | \u001b[0m6.743    \u001b[0m |\n",
      "| \u001b[0m7        \u001b[0m | \u001b[0m0.5333   \u001b[0m | \u001b[0m0.01     \u001b[0m | \u001b[0m5.181    \u001b[0m |\n",
      "| \u001b[95m8        \u001b[0m | \u001b[95m0.5714   \u001b[0m | \u001b[95m1.0      \u001b[0m | \u001b[95m4.626    \u001b[0m |\n",
      "| \u001b[0m9        \u001b[0m | \u001b[0m0.5714   \u001b[0m | \u001b[0m1.0      \u001b[0m | \u001b[0m3.828    \u001b[0m |\n",
      "| \u001b[0m10       \u001b[0m | \u001b[0m0.4286   \u001b[0m | \u001b[0m0.1243   \u001b[0m | \u001b[0m4.079    \u001b[0m |\n",
      "| \u001b[95m11       \u001b[0m | \u001b[95m0.6667   \u001b[0m | \u001b[95m0.9655   \u001b[0m | \u001b[95m5.266    \u001b[0m |\n",
      "| \u001b[0m12       \u001b[0m | \u001b[0m0.5714   \u001b[0m | \u001b[0m1.0      \u001b[0m | \u001b[0m5.64     \u001b[0m |\n"
     ]
    },
    {
     "name": "stdout",
     "output_type": "stream",
     "text": [
      "| \u001b[0m13       \u001b[0m | \u001b[0m0.5333   \u001b[0m | \u001b[0m0.6993   \u001b[0m | \u001b[0m5.143    \u001b[0m |\n",
      "| \u001b[0m14       \u001b[0m | \u001b[0m0.5714   \u001b[0m | \u001b[0m0.4012   \u001b[0m | \u001b[0m5.386    \u001b[0m |\n",
      "| \u001b[0m15       \u001b[0m | \u001b[0m0.6667   \u001b[0m | \u001b[0m0.9084   \u001b[0m | \u001b[0m5.394    \u001b[0m |\n",
      "=================================================\n",
      "EUR JPY\n",
      "|   iter    |  target   | learni... | max_depth |\n",
      "-------------------------------------------------\n",
      "| \u001b[0m1        \u001b[0m | \u001b[0m0.6667   \u001b[0m | \u001b[0m0.3808   \u001b[0m | \u001b[0m9.556    \u001b[0m |\n",
      "| \u001b[0m2        \u001b[0m | \u001b[0m0.5833   \u001b[0m | \u001b[0m0.7347   \u001b[0m | \u001b[0m6.388    \u001b[0m |\n",
      "| \u001b[0m3        \u001b[0m | \u001b[0m0.6667   \u001b[0m | \u001b[0m0.1645   \u001b[0m | \u001b[0m2.404    \u001b[0m |\n",
      "| \u001b[0m4        \u001b[0m | \u001b[0m0.6667   \u001b[0m | \u001b[0m0.0675   \u001b[0m | \u001b[0m8.796    \u001b[0m |\n",
      "| \u001b[0m5        \u001b[0m | \u001b[0m0.6667   \u001b[0m | \u001b[0m0.6051   \u001b[0m | \u001b[0m7.373    \u001b[0m |\n",
      "| \u001b[0m6        \u001b[0m | \u001b[0m0.6667   \u001b[0m | \u001b[0m0.09714  \u001b[0m | \u001b[0m2.304    \u001b[0m |\n",
      "| \u001b[95m7        \u001b[0m | \u001b[95m0.75     \u001b[0m | \u001b[95m1.0      \u001b[0m | \u001b[95m8.259    \u001b[0m |\n",
      "| \u001b[0m8        \u001b[0m | \u001b[0m0.75     \u001b[0m | \u001b[0m1.0      \u001b[0m | \u001b[0m8.79     \u001b[0m |\n",
      "| \u001b[95m9        \u001b[0m | \u001b[95m0.7692   \u001b[0m | \u001b[95m1.0      \u001b[0m | \u001b[95m1.0      \u001b[0m |\n",
      "| \u001b[0m10       \u001b[0m | \u001b[0m0.7407   \u001b[0m | \u001b[0m0.1837   \u001b[0m | \u001b[0m1.004    \u001b[0m |\n",
      "| \u001b[0m11       \u001b[0m | \u001b[0m0.7692   \u001b[0m | \u001b[0m1.0      \u001b[0m | \u001b[0m1.645    \u001b[0m |\n",
      "| \u001b[0m12       \u001b[0m | \u001b[0m0.6957   \u001b[0m | \u001b[0m1.0      \u001b[0m | \u001b[0m3.921    \u001b[0m |\n",
      "| \u001b[0m13       \u001b[0m | \u001b[0m0.7692   \u001b[0m | \u001b[0m0.7436   \u001b[0m | \u001b[0m1.315    \u001b[0m |\n",
      "| \u001b[0m14       \u001b[0m | \u001b[0m0.7692   \u001b[0m | \u001b[0m0.9987   \u001b[0m | \u001b[0m1.342    \u001b[0m |\n",
      "| \u001b[0m15       \u001b[0m | \u001b[0m0.64     \u001b[0m | \u001b[0m1.0      \u001b[0m | \u001b[0m2.346    \u001b[0m |\n",
      "=================================================\n",
      "EUR AUD\n",
      "|   iter    |  target   | learni... | max_depth |\n",
      "-------------------------------------------------\n",
      "| \u001b[0m1        \u001b[0m | \u001b[0m0.0      \u001b[0m | \u001b[0m0.3808   \u001b[0m | \u001b[0m9.556    \u001b[0m |\n",
      "| \u001b[0m2        \u001b[0m | \u001b[0m0.0      \u001b[0m | \u001b[0m0.7347   \u001b[0m | \u001b[0m6.388    \u001b[0m |\n",
      "| \u001b[0m3        \u001b[0m | \u001b[0m0.0      \u001b[0m | \u001b[0m0.1645   \u001b[0m | \u001b[0m2.404    \u001b[0m |\n",
      "| \u001b[0m4        \u001b[0m | \u001b[0m0.0      \u001b[0m | \u001b[0m0.0675   \u001b[0m | \u001b[0m8.796    \u001b[0m |\n",
      "| \u001b[0m5        \u001b[0m | \u001b[0m0.0      \u001b[0m | \u001b[0m0.6051   \u001b[0m | \u001b[0m7.373    \u001b[0m |\n",
      "| \u001b[0m6        \u001b[0m | \u001b[0m0.0      \u001b[0m | \u001b[0m0.9919   \u001b[0m | \u001b[0m1.008    \u001b[0m |\n",
      "| \u001b[0m7        \u001b[0m | \u001b[0m0.0      \u001b[0m | \u001b[0m0.9984   \u001b[0m | \u001b[0m1.004    \u001b[0m |\n",
      "| \u001b[0m8        \u001b[0m | \u001b[0m0.0      \u001b[0m | \u001b[0m0.08388  \u001b[0m | \u001b[0m10.0     \u001b[0m |\n",
      "| \u001b[0m9        \u001b[0m | \u001b[0m0.0      \u001b[0m | \u001b[0m0.01119  \u001b[0m | \u001b[0m1.016    \u001b[0m |\n",
      "| \u001b[0m10       \u001b[0m | \u001b[0m0.0      \u001b[0m | \u001b[0m0.9959   \u001b[0m | \u001b[0m9.999    \u001b[0m |\n",
      "| \u001b[0m11       \u001b[0m | \u001b[0m0.0      \u001b[0m | \u001b[0m0.9652   \u001b[0m | \u001b[0m1.003    \u001b[0m |\n",
      "| \u001b[0m12       \u001b[0m | \u001b[0m0.0      \u001b[0m | \u001b[0m0.9166   \u001b[0m | \u001b[0m9.998    \u001b[0m |\n",
      "| \u001b[0m13       \u001b[0m | \u001b[0m0.0      \u001b[0m | \u001b[0m0.05485  \u001b[0m | \u001b[0m1.015    \u001b[0m |\n",
      "| \u001b[0m14       \u001b[0m | \u001b[0m0.0      \u001b[0m | \u001b[0m0.0568   \u001b[0m | \u001b[0m9.995    \u001b[0m |\n",
      "| \u001b[0m15       \u001b[0m | \u001b[0m0.0      \u001b[0m | \u001b[0m0.04508  \u001b[0m | \u001b[0m1.002    \u001b[0m |\n",
      "=================================================\n",
      "EUR CAD\n",
      "|   iter    |  target   | learni... | max_depth |\n",
      "-------------------------------------------------\n",
      "| \u001b[0m1        \u001b[0m | \u001b[0m0.5714   \u001b[0m | \u001b[0m0.3808   \u001b[0m | \u001b[0m9.556    \u001b[0m |\n",
      "| \u001b[95m2        \u001b[0m | \u001b[95m0.6667   \u001b[0m | \u001b[95m0.7347   \u001b[0m | \u001b[95m6.388    \u001b[0m |\n",
      "| \u001b[0m3        \u001b[0m | \u001b[0m0.4762   \u001b[0m | \u001b[0m0.1645   \u001b[0m | \u001b[0m2.404    \u001b[0m |\n",
      "| \u001b[0m4        \u001b[0m | \u001b[0m0.5      \u001b[0m | \u001b[0m0.0675   \u001b[0m | \u001b[0m8.796    \u001b[0m |\n",
      "| \u001b[95m5        \u001b[0m | \u001b[95m0.7692   \u001b[0m | \u001b[95m0.6051   \u001b[0m | \u001b[95m7.373    \u001b[0m |\n",
      "| \u001b[0m6        \u001b[0m | \u001b[0m0.5      \u001b[0m | \u001b[0m0.0159   \u001b[0m | \u001b[0m7.08     \u001b[0m |\n",
      "| \u001b[0m7        \u001b[0m | \u001b[0m0.4762   \u001b[0m | \u001b[0m0.8302   \u001b[0m | \u001b[0m3.702    \u001b[0m |\n",
      "| \u001b[0m8        \u001b[0m | \u001b[0m0.5      \u001b[0m | \u001b[0m0.1103   \u001b[0m | \u001b[0m5.695    \u001b[0m |\n",
      "| \u001b[0m9        \u001b[0m | \u001b[0m0.6      \u001b[0m | \u001b[0m0.01559  \u001b[0m | \u001b[0m5.174    \u001b[0m |\n",
      "| \u001b[0m10       \u001b[0m | \u001b[0m0.5217   \u001b[0m | \u001b[0m0.6709   \u001b[0m | \u001b[0m6.78     \u001b[0m |\n",
      "| \u001b[0m11       \u001b[0m | \u001b[0m0.5263   \u001b[0m | \u001b[0m0.04215  \u001b[0m | \u001b[0m2.937    \u001b[0m |\n",
      "| \u001b[0m12       \u001b[0m | \u001b[0m0.72     \u001b[0m | \u001b[0m0.4474   \u001b[0m | \u001b[0m8.419    \u001b[0m |\n",
      "| \u001b[0m13       \u001b[0m | \u001b[0m0.5263   \u001b[0m | \u001b[0m0.02843  \u001b[0m | \u001b[0m4.945    \u001b[0m |\n",
      "| \u001b[0m14       \u001b[0m | \u001b[0m0.6087   \u001b[0m | \u001b[0m0.4012   \u001b[0m | \u001b[0m5.386    \u001b[0m |\n",
      "| \u001b[0m15       \u001b[0m | \u001b[0m0.6667   \u001b[0m | \u001b[0m0.6933   \u001b[0m | \u001b[0m2.102    \u001b[0m |\n",
      "=================================================\n",
      "EUR NZD\n",
      "EUR NOK\n",
      "|   iter    |  target   | learni... | max_depth |\n",
      "-------------------------------------------------\n",
      "| \u001b[0m1        \u001b[0m | \u001b[0m0.8571   \u001b[0m | \u001b[0m0.3808   \u001b[0m | \u001b[0m9.556    \u001b[0m |\n",
      "| \u001b[0m2        \u001b[0m | \u001b[0m0.7692   \u001b[0m | \u001b[0m0.7347   \u001b[0m | \u001b[0m6.388    \u001b[0m |\n",
      "| \u001b[0m3        \u001b[0m | \u001b[0m0.7692   \u001b[0m | \u001b[0m0.1645   \u001b[0m | \u001b[0m2.404    \u001b[0m |\n",
      "| \u001b[0m4        \u001b[0m | \u001b[0m0.7692   \u001b[0m | \u001b[0m0.0675   \u001b[0m | \u001b[0m8.796    \u001b[0m |\n",
      "| \u001b[0m5        \u001b[0m | \u001b[0m0.7692   \u001b[0m | \u001b[0m0.6051   \u001b[0m | \u001b[0m7.373    \u001b[0m |\n",
      "| \u001b[0m6        \u001b[0m | \u001b[0m0.8571   \u001b[0m | \u001b[0m0.3955   \u001b[0m | \u001b[0m9.565    \u001b[0m |\n",
      "| \u001b[0m7        \u001b[0m | \u001b[0m0.8333   \u001b[0m | \u001b[0m0.01     \u001b[0m | \u001b[0m10.0     \u001b[0m |\n",
      "| \u001b[0m8        \u001b[0m | \u001b[0m0.7692   \u001b[0m | \u001b[0m1.0      \u001b[0m | \u001b[0m10.0     \u001b[0m |\n",
      "| \u001b[0m9        \u001b[0m | \u001b[0m0.7692   \u001b[0m | \u001b[0m0.7548   \u001b[0m | \u001b[0m9.214    \u001b[0m |\n",
      "| \u001b[0m10       \u001b[0m | \u001b[0m0.7692   \u001b[0m | \u001b[0m0.3156   \u001b[0m | \u001b[0m9.827    \u001b[0m |\n",
      "| \u001b[0m11       \u001b[0m | \u001b[0m0.7692   \u001b[0m | \u001b[0m0.4521   \u001b[0m | \u001b[0m9.453    \u001b[0m |\n",
      "| \u001b[0m12       \u001b[0m | \u001b[0m0.7692   \u001b[0m | \u001b[0m0.3742   \u001b[0m | \u001b[0m9.555    \u001b[0m |\n",
      "| \u001b[0m13       \u001b[0m | \u001b[0m0.8333   \u001b[0m | \u001b[0m0.02843  \u001b[0m | \u001b[0m4.945    \u001b[0m |\n",
      "| \u001b[0m14       \u001b[0m | \u001b[0m0.8571   \u001b[0m | \u001b[0m0.4012   \u001b[0m | \u001b[0m5.386    \u001b[0m |\n",
      "| \u001b[0m15       \u001b[0m | \u001b[0m0.8571   \u001b[0m | \u001b[0m0.6933   \u001b[0m | \u001b[0m2.102    \u001b[0m |\n",
      "=================================================\n",
      "EUR SEK\n",
      "|   iter    |  target   | learni... | max_depth |\n",
      "-------------------------------------------------\n",
      "| \u001b[0m1        \u001b[0m | \u001b[0m0.7273   \u001b[0m | \u001b[0m0.3808   \u001b[0m | \u001b[0m9.556    \u001b[0m |\n",
      "| \u001b[0m2        \u001b[0m | \u001b[0m0.7273   \u001b[0m | \u001b[0m0.7347   \u001b[0m | \u001b[0m6.388    \u001b[0m |\n",
      "| \u001b[0m3        \u001b[0m | \u001b[0m0.7273   \u001b[0m | \u001b[0m0.1645   \u001b[0m | \u001b[0m2.404    \u001b[0m |\n",
      "| \u001b[0m4        \u001b[0m | \u001b[0m0.7273   \u001b[0m | \u001b[0m0.0675   \u001b[0m | \u001b[0m8.796    \u001b[0m |\n",
      "| \u001b[0m5        \u001b[0m | \u001b[0m0.7273   \u001b[0m | \u001b[0m0.6051   \u001b[0m | \u001b[0m7.373    \u001b[0m |\n",
      "| \u001b[0m6        \u001b[0m | \u001b[0m0.7273   \u001b[0m | \u001b[0m0.9919   \u001b[0m | \u001b[0m1.008    \u001b[0m |\n",
      "| \u001b[0m7        \u001b[0m | \u001b[0m0.7273   \u001b[0m | \u001b[0m0.9984   \u001b[0m | \u001b[0m1.004    \u001b[0m |\n",
      "| \u001b[0m8        \u001b[0m | \u001b[0m0.7273   \u001b[0m | \u001b[0m0.1103   \u001b[0m | \u001b[0m5.695    \u001b[0m |\n",
      "| \u001b[0m9        \u001b[0m | \u001b[0m0.7273   \u001b[0m | \u001b[0m0.9891   \u001b[0m | \u001b[0m9.999    \u001b[0m |\n",
      "| \u001b[0m10       \u001b[0m | \u001b[0m0.7273   \u001b[0m | \u001b[0m0.04309  \u001b[0m | \u001b[0m1.009    \u001b[0m |\n",
      "| \u001b[0m11       \u001b[0m | \u001b[0m0.7273   \u001b[0m | \u001b[0m0.04215  \u001b[0m | \u001b[0m2.937    \u001b[0m |\n",
      "| \u001b[0m12       \u001b[0m | \u001b[0m0.7273   \u001b[0m | \u001b[0m0.4474   \u001b[0m | \u001b[0m8.419    \u001b[0m |\n",
      "| \u001b[0m13       \u001b[0m | \u001b[0m0.7273   \u001b[0m | \u001b[0m0.8608   \u001b[0m | \u001b[0m9.999    \u001b[0m |\n",
      "| \u001b[0m14       \u001b[0m | \u001b[0m0.7273   \u001b[0m | \u001b[0m0.101    \u001b[0m | \u001b[0m1.003    \u001b[0m |\n",
      "| \u001b[0m15       \u001b[0m | \u001b[0m0.7273   \u001b[0m | \u001b[0m0.9001   \u001b[0m | \u001b[0m9.998    \u001b[0m |\n",
      "=================================================\n"
     ]
    }
   ],
   "source": [
    "gen = ((x, y) for x in curr_pair_1 for y in curr_pair_2 if x != y)\n",
    "\n",
    "accuracy_df = pd.DataFrame()\n",
    "accuracy_df.index = tf_list\n",
    "feature_importance_df = pd.DataFrame()\n",
    "feature_importance_df.index = tf_list\n",
    "\n",
    "for c1, c2 in gen:\n",
    "    across_pair_df_1M = pd.DataFrame()\n",
    "    across_pair_df_3M = pd.DataFrame()\n",
    "    \n",
    "    acc_ls = []\n",
    "    fe_importance_ls = []\n",
    "    \n",
    "    for tf in tf_list:\n",
    "        time_lag = time_lag_dict[tf]\n",
    "        try:\n",
    "            # 1. Access file and create df\n",
    "            \n",
    "            result_df = pd.read_csv(f'{Folder_Path}\\\\{predict_direction}\\\\{c1 + c2}\\\\Data Details\\\\{tf}.csv', index_col=0)\n",
    "            result_df.index = result_df[\"end_date\"]\n",
    "            \n",
    "            if predict_direction == \"PPP\":\n",
    "                result_df.index = pd.to_datetime(result_df.index)\n",
    "\n",
    "                tmp = pd.read_csv(f'C:\\\\Users\\\\anson\\\\OneDrive\\\\桌面\\\\CUQTS\\\\2023_03_08_FX_Parity\\\\CUQTS-FX-Parity-Research-Source-Code\\\\CUQTS_FXParity-main\\\\Data\\\\CPI\\\\{c1}.csv', index_col=0, header = 1)\n",
    "                tmp.index = pd.to_datetime(tmp.index)\n",
    "                result_df['base_econ'] = tmp[\"Last_Price\"].resample(tf).last()\n",
    "\n",
    "                tmp = pd.read_csv(f'C:\\\\Users\\\\anson\\\\OneDrive\\\\桌面\\\\CUQTS\\\\2023_03_08_FX_Parity\\\\CUQTS-FX-Parity-Research-Source-Code\\\\CUQTS_FXParity-main\\\\Data\\\\CPI\\\\{c2}.csv', index_col=0, header = 1)\n",
    "                tmp.index = pd.to_datetime(tmp.index)\n",
    "                result_df['pricing_econ'] = tmp[\"Last_Price\"].resample(tf).last()\n",
    "                \n",
    "            elif predict_direction == \"IRP\":\n",
    "                tmp = treasury_dict[c1+'_'+tf]\n",
    "                result_df['base_econ'] = tmp[\"Last_Price\"].loc[result_df['start_date']]\n",
    "\n",
    "                tmp = treasury_dict[c2+'_'+tf]\n",
    "                result_df['pricing_econ'] = tmp[\"Last_Price\"].loc[result_df['start_date']]               \n",
    "                \n",
    "\n",
    "\n",
    "            # tmp = pd.read_csv(f'C:/Users/johnn/Downloads/Currency_Data/{c1 + c2}.csv', index_col=0)\n",
    "            # tmp.index = pd.to_datetime(tmp.index)\n",
    "            # result_df[c1 + c2] = tmp[\"Last_Price\"].resample(tf).last()\n",
    "            \n",
    "            result_df.index = result_df[\"end_date\"]\n",
    "            #labelling\n",
    "            result_df = label_result(result_df)\n",
    "            if not with_realized_ret:\n",
    "                result_df = result_df.drop(columns=[\"realized_ret\"])\n",
    "            # 2.1 Drop unnecessary columns\n",
    "            result_df = result_df.drop(columns=drop_fe_list)\n",
    "            # 2.2 Feature Engineering\n",
    "            result_df = feature_engine(result_df, time_lag)\n",
    "            \n",
    "            # print(result_df, threshold)\n",
    "            # 3. Train & Test Model\n",
    "            print(c1, c2)\n",
    "            best_params = get_best_params(result_df) # Train the best ML Metrics using Bayesian Search\n",
    "            accuracy, fe_obj, y_pred = trainXGModel(result_df, best_params)\n",
    "            \n",
    "            y_pred.to_csv(f\"C:\\\\Users\\\\anson\\\\OneDrive\\\\桌面\\\\CUQTS\\\\2023_04_03\\\\XG_Boost_Prediction\\\\{predict_direction}_{c1+c2}_{tf}_shift{predict_period_after}.csv\")\n",
    "            # 4. Append the objects\n",
    "            acc_ls.append(accuracy)\n",
    "            fe_importance_ls.append(fe_obj)\n",
    "\n",
    "            # 5. Concat all the same tf obj\n",
    "            concatenated_df = pd.concat([result_df, eval(f\"across_pair_df_{tf}\")])\n",
    "            globals()[f\"across_pair_df_{tf}\"] = concatenated_df\n",
    "        except:\n",
    "            acc_ls.append(np.NaN)\n",
    "            fe_importance_ls.append(np.NaN)\n",
    "    accuracy_df[c1 + c2] = acc_ls\n",
    "    feature_importance_df[c1 + c2] = fe_importance_ls"
   ]
  },
  {
   "cell_type": "markdown",
   "id": "e980728d",
   "metadata": {
    "id": "e980728d"
   },
   "source": [
    "# General Insight"
   ]
  },
  {
   "cell_type": "code",
   "execution_count": 211,
   "id": "43109a74",
   "metadata": {
    "id": "43109a74",
    "outputId": "e9f8d4d2-0fec-49b0-eb0d-7791429f5552",
    "scrolled": true
   },
   "outputs": [
    {
     "data": {
      "text/plain": [
       "<AxesSubplot:>"
      ]
     },
     "execution_count": 211,
     "metadata": {},
     "output_type": "execute_result"
    },
    {
     "data": {
      "image/png": "[encoded data removed]",
      "text/plain": [
       "<Figure size 640x480 with 2 Axes>"
      ]
     },
     "metadata": {},
     "output_type": "display_data"
    }
   ],
   "source": [
    "sns.heatmap(accuracy_df.dropna(axis=1, how='all'))"
   ]
  },
  {
   "cell_type": "code",
   "execution_count": 212,
   "id": "6ae576f7",
   "metadata": {
    "collapsed": true,
    "id": "6ae576f7",
    "outputId": "760b9ecb-c70f-4701-b572-deb83c24f485"
   },
   "outputs": [
    {
     "data": {
      "text/html": [
       "<div>\n",
       "<style scoped>\n",
       "    .dataframe tbody tr th:only-of-type {\n",
       "        vertical-align: middle;\n",
       "    }\n",
       "\n",
       "    .dataframe tbody tr th {\n",
       "        vertical-align: top;\n",
       "    }\n",
       "\n",
       "    .dataframe thead th {\n",
       "        text-align: right;\n",
       "    }\n",
       "</style>\n",
       "<table border=\"1\" class=\"dataframe\">\n",
       "  <thead>\n",
       "    <tr style=\"text-align: right;\">\n",
       "      <th></th>\n",
       "      <th>USDJPY</th>\n",
       "      <th>USDGBP</th>\n",
       "      <th>USDCHF</th>\n",
       "      <th>USDNOK</th>\n",
       "      <th>USDSEK</th>\n",
       "      <th>USDEUR</th>\n",
       "      <th>JPYCHF</th>\n",
       "      <th>JPYNOK</th>\n",
       "      <th>JPYSEK</th>\n",
       "      <th>GBPJPY</th>\n",
       "      <th>...</th>\n",
       "      <th>GBPNOK</th>\n",
       "      <th>GBPSEK</th>\n",
       "      <th>GBPEUR</th>\n",
       "      <th>NOKCHF</th>\n",
       "      <th>NOKSEK</th>\n",
       "      <th>SEKCHF</th>\n",
       "      <th>EURJPY</th>\n",
       "      <th>EURCHF</th>\n",
       "      <th>EURNOK</th>\n",
       "      <th>EURSEK</th>\n",
       "    </tr>\n",
       "  </thead>\n",
       "  <tbody>\n",
       "    <tr>\n",
       "      <th>1M</th>\n",
       "      <td>0.474359</td>\n",
       "      <td>0.500000</td>\n",
       "      <td>0.500000</td>\n",
       "      <td>0.461538</td>\n",
       "      <td>0.423077</td>\n",
       "      <td>0.40625</td>\n",
       "      <td>0.487179</td>\n",
       "      <td>0.692308</td>\n",
       "      <td>0.487179</td>\n",
       "      <td>0.551282</td>\n",
       "      <td>...</td>\n",
       "      <td>0.487179</td>\n",
       "      <td>0.500000</td>\n",
       "      <td>0.561404</td>\n",
       "      <td>0.589744</td>\n",
       "      <td>0.551282</td>\n",
       "      <td>0.512821</td>\n",
       "      <td>0.46875</td>\n",
       "      <td>0.508772</td>\n",
       "      <td>0.515625</td>\n",
       "      <td>0.625</td>\n",
       "    </tr>\n",
       "    <tr>\n",
       "      <th>3M</th>\n",
       "      <td>0.592593</td>\n",
       "      <td>0.518519</td>\n",
       "      <td>0.555556</td>\n",
       "      <td>0.370370</td>\n",
       "      <td>0.481481</td>\n",
       "      <td>NaN</td>\n",
       "      <td>0.555556</td>\n",
       "      <td>0.333333</td>\n",
       "      <td>0.444444</td>\n",
       "      <td>0.444444</td>\n",
       "      <td>...</td>\n",
       "      <td>0.703704</td>\n",
       "      <td>0.481481</td>\n",
       "      <td>NaN</td>\n",
       "      <td>0.518519</td>\n",
       "      <td>0.592593</td>\n",
       "      <td>0.444444</td>\n",
       "      <td>NaN</td>\n",
       "      <td>NaN</td>\n",
       "      <td>NaN</td>\n",
       "      <td>NaN</td>\n",
       "    </tr>\n",
       "  </tbody>\n",
       "</table>\n",
       "<p>2 rows × 21 columns</p>\n",
       "</div>"
      ],
      "text/plain": [
       "      USDJPY    USDGBP    USDCHF    USDNOK    USDSEK   USDEUR    JPYCHF  \\\n",
       "1M  0.474359  0.500000  0.500000  0.461538  0.423077  0.40625  0.487179   \n",
       "3M  0.592593  0.518519  0.555556  0.370370  0.481481      NaN  0.555556   \n",
       "\n",
       "      JPYNOK    JPYSEK    GBPJPY  ...    GBPNOK    GBPSEK    GBPEUR    NOKCHF  \\\n",
       "1M  0.692308  0.487179  0.551282  ...  0.487179  0.500000  0.561404  0.589744   \n",
       "3M  0.333333  0.444444  0.444444  ...  0.703704  0.481481       NaN  0.518519   \n",
       "\n",
       "      NOKSEK    SEKCHF   EURJPY    EURCHF    EURNOK  EURSEK  \n",
       "1M  0.551282  0.512821  0.46875  0.508772  0.515625   0.625  \n",
       "3M  0.592593  0.444444      NaN       NaN       NaN     NaN  \n",
       "\n",
       "[2 rows x 21 columns]"
      ]
     },
     "execution_count": 212,
     "metadata": {},
     "output_type": "execute_result"
    }
   ],
   "source": [
    "accuracy_df.dropna(axis=1, how='all')"
   ]
  },
  {
   "cell_type": "code",
   "execution_count": 78,
   "id": "8f94d5d4",
   "metadata": {},
   "outputs": [
    {
     "data": {
      "text/html": [
       "<div>\n",
       "<style scoped>\n",
       "    .dataframe tbody tr th:only-of-type {\n",
       "        vertical-align: middle;\n",
       "    }\n",
       "\n",
       "    .dataframe tbody tr th {\n",
       "        vertical-align: top;\n",
       "    }\n",
       "\n",
       "    .dataframe thead th {\n",
       "        text-align: right;\n",
       "    }\n",
       "</style>\n",
       "<table border=\"1\" class=\"dataframe\">\n",
       "  <thead>\n",
       "    <tr style=\"text-align: right;\">\n",
       "      <th></th>\n",
       "      <th>USDJPY</th>\n",
       "      <th>USDGBP</th>\n",
       "      <th>USDCHF</th>\n",
       "      <th>USDAUD</th>\n",
       "      <th>USDCAD</th>\n",
       "      <th>USDNZD</th>\n",
       "      <th>USDNOK</th>\n",
       "      <th>USDSEK</th>\n",
       "      <th>USDEUR</th>\n",
       "      <th>JPYUSD</th>\n",
       "      <th>...</th>\n",
       "      <th>SEKEUR</th>\n",
       "      <th>EURUSD</th>\n",
       "      <th>EURJPY</th>\n",
       "      <th>EURGBP</th>\n",
       "      <th>EURCHF</th>\n",
       "      <th>EURAUD</th>\n",
       "      <th>EURCAD</th>\n",
       "      <th>EURNZD</th>\n",
       "      <th>EURNOK</th>\n",
       "      <th>EURSEK</th>\n",
       "    </tr>\n",
       "  </thead>\n",
       "  <tbody>\n",
       "    <tr>\n",
       "      <th>1M</th>\n",
       "      <td>{'spread': 0.05714033171534538, 'realized_ret'...</td>\n",
       "      <td>{'spread': 0.031669553369283676, 'realized_ret...</td>\n",
       "      <td>{'spread': 0.05093296617269516, 'realized_ret'...</td>\n",
       "      <td>NaN</td>\n",
       "      <td>NaN</td>\n",
       "      <td>NaN</td>\n",
       "      <td>{'spread': 0.03748622164130211, 'realized_ret'...</td>\n",
       "      <td>{'spread': 0.040283139795064926, 'realized_ret...</td>\n",
       "      <td>{'spread': 0.03780299425125122, 'realized_ret'...</td>\n",
       "      <td>NaN</td>\n",
       "      <td>...</td>\n",
       "      <td>NaN</td>\n",
       "      <td>NaN</td>\n",
       "      <td>{'spread': 0.03689361736178398, 'realized_ret'...</td>\n",
       "      <td>NaN</td>\n",
       "      <td>{'spread': 0.038316648453474045, 'realized_ret...</td>\n",
       "      <td>NaN</td>\n",
       "      <td>NaN</td>\n",
       "      <td>NaN</td>\n",
       "      <td>{'spread': 0.035798873752355576, 'realized_ret...</td>\n",
       "      <td>{'spread': 0.03519736975431442, 'realized_ret'...</td>\n",
       "    </tr>\n",
       "    <tr>\n",
       "      <th>3M</th>\n",
       "      <td>{'spread': 0.10660505294799805, 'realized_ret'...</td>\n",
       "      <td>{'spread': 0.12184016406536102, 'realized_ret'...</td>\n",
       "      <td>{'spread': 0.09553217142820358, 'realized_ret'...</td>\n",
       "      <td>NaN</td>\n",
       "      <td>NaN</td>\n",
       "      <td>NaN</td>\n",
       "      <td>{'spread': 0.10515162348747253, 'realized_ret'...</td>\n",
       "      <td>{'spread': 0.1767932027578354, 'realized_ret':...</td>\n",
       "      <td>NaN</td>\n",
       "      <td>NaN</td>\n",
       "      <td>...</td>\n",
       "      <td>NaN</td>\n",
       "      <td>NaN</td>\n",
       "      <td>NaN</td>\n",
       "      <td>NaN</td>\n",
       "      <td>NaN</td>\n",
       "      <td>NaN</td>\n",
       "      <td>NaN</td>\n",
       "      <td>NaN</td>\n",
       "      <td>NaN</td>\n",
       "      <td>NaN</td>\n",
       "    </tr>\n",
       "  </tbody>\n",
       "</table>\n",
       "<p>2 rows × 90 columns</p>\n",
       "</div>"
      ],
      "text/plain": [
       "                                               USDJPY  \\\n",
       "1M  {'spread': 0.05714033171534538, 'realized_ret'...   \n",
       "3M  {'spread': 0.10660505294799805, 'realized_ret'...   \n",
       "\n",
       "                                               USDGBP  \\\n",
       "1M  {'spread': 0.031669553369283676, 'realized_ret...   \n",
       "3M  {'spread': 0.12184016406536102, 'realized_ret'...   \n",
       "\n",
       "                                               USDCHF  USDAUD  USDCAD  USDNZD  \\\n",
       "1M  {'spread': 0.05093296617269516, 'realized_ret'...     NaN     NaN     NaN   \n",
       "3M  {'spread': 0.09553217142820358, 'realized_ret'...     NaN     NaN     NaN   \n",
       "\n",
       "                                               USDNOK  \\\n",
       "1M  {'spread': 0.03748622164130211, 'realized_ret'...   \n",
       "3M  {'spread': 0.10515162348747253, 'realized_ret'...   \n",
       "\n",
       "                                               USDSEK  \\\n",
       "1M  {'spread': 0.040283139795064926, 'realized_ret...   \n",
       "3M  {'spread': 0.1767932027578354, 'realized_ret':...   \n",
       "\n",
       "                                               USDEUR  JPYUSD  ...  SEKEUR  \\\n",
       "1M  {'spread': 0.03780299425125122, 'realized_ret'...     NaN  ...     NaN   \n",
       "3M                                                NaN     NaN  ...     NaN   \n",
       "\n",
       "   EURUSD                                             EURJPY  EURGBP  \\\n",
       "1M    NaN  {'spread': 0.03689361736178398, 'realized_ret'...     NaN   \n",
       "3M    NaN                                                NaN     NaN   \n",
       "\n",
       "                                               EURCHF EURAUD EURCAD  EURNZD  \\\n",
       "1M  {'spread': 0.038316648453474045, 'realized_ret...    NaN    NaN     NaN   \n",
       "3M                                                NaN    NaN    NaN     NaN   \n",
       "\n",
       "                                               EURNOK  \\\n",
       "1M  {'spread': 0.035798873752355576, 'realized_ret...   \n",
       "3M                                                NaN   \n",
       "\n",
       "                                               EURSEK  \n",
       "1M  {'spread': 0.03519736975431442, 'realized_ret'...  \n",
       "3M                                                NaN  \n",
       "\n",
       "[2 rows x 90 columns]"
      ]
     },
     "execution_count": 78,
     "metadata": {},
     "output_type": "execute_result"
    }
   ],
   "source": [
    "feature_importance_df"
   ]
  },
  {
   "cell_type": "code",
   "execution_count": 52,
   "id": "fefaca15",
   "metadata": {},
   "outputs": [
    {
     "data": {
      "text/plain": [
       "{'spread': 0.0,\n",
       " 'realized_ret': 0.06391826272010803,\n",
       " 'base_econ': 0.017826111987233162,\n",
       " 'pricing_econ': 0.03552258014678955,\n",
       " 'spread_shift1': 0.2838641405105591,\n",
       " 'spread_shift2': 0.07849013060331345,\n",
       " 'spread_shift3': 0.10492026060819626,\n",
       " 'spread_shift4': 0.0,\n",
       " 'spread_shift5': 0.03707727789878845,\n",
       " 'realized_ret_shift1': 0.028635216876864433,\n",
       " 'realized_ret_shift2': 0.016030294820666313,\n",
       " 'realized_ret_shift3': 0.05413103103637695,\n",
       " 'realized_ret_shift4': 0.014756434597074986,\n",
       " 'realized_ret_shift5': 0.0,\n",
       " 'base_econ_shift1': 0.02378549426794052,\n",
       " 'base_econ_shift2': 0.013678515329957008,\n",
       " 'base_econ_shift3': 0.0,\n",
       " 'base_econ_shift4': 0.0,\n",
       " 'base_econ_shift5': 0.05583516135811806,\n",
       " 'pricing_econ_shift1': 0.026896590366959572,\n",
       " 'pricing_econ_shift2': 0.014710388146340847,\n",
       " 'pricing_econ_shift3': 0.0913783386349678,\n",
       " 'pricing_econ_shift4': 0.038543879985809326,\n",
       " 'pricing_econ_shift5': 0.0}"
      ]
     },
     "execution_count": 52,
     "metadata": {},
     "output_type": "execute_result"
    }
   ],
   "source": [
    "feature_importance_df['USDJPY'].loc['1M']"
   ]
  },
  {
   "cell_type": "code",
   "execution_count": 213,
   "id": "20bcd74b",
   "metadata": {
    "id": "20bcd74b",
    "outputId": "e8ab1535-1277-4df9-ba4f-7bf21836c991",
    "scrolled": false
   },
   "outputs": [
    {
     "data": {
      "text/plain": [
       "JPYNOK    0.692308\n",
       "EURSEK    0.625000\n",
       "NOKCHF    0.589744\n",
       "GBPCHF    0.576923\n",
       "GBPEUR    0.561404\n",
       "GBPJPY    0.551282\n",
       "NOKSEK    0.551282\n",
       "EURNOK    0.515625\n",
       "SEKCHF    0.512821\n",
       "EURCHF    0.508772\n",
       "Name: 1M, dtype: float64"
      ]
     },
     "execution_count": 213,
     "metadata": {},
     "output_type": "execute_result"
    }
   ],
   "source": [
    "accuracy_df.T[\"1M\"].nlargest(10)"
   ]
  },
  {
   "cell_type": "code",
   "execution_count": 53,
   "id": "ba1bdd2c",
   "metadata": {},
   "outputs": [],
   "source": [
    "econ_accuracy_1M_df[\"both\"] = accuracy_df.T[\"1M\"]\n",
    "econ_accuracy_3M_df[\"both\"] = accuracy_df.T[\"3M\"]"
   ]
  },
  {
   "cell_type": "code",
   "execution_count": 54,
   "id": "bf2af7fe",
   "metadata": {},
   "outputs": [
    {
     "data": {
      "text/plain": [
       "ret_only          0.480093\n",
       "econ_data_only    0.475516\n",
       "both              0.495281\n",
       "dtype: float64"
      ]
     },
     "execution_count": 54,
     "metadata": {},
     "output_type": "execute_result"
    }
   ],
   "source": [
    "econ_accuracy_1M_df.mean(axis = 0)"
   ]
  },
  {
   "cell_type": "code",
   "execution_count": 55,
   "id": "5338975a",
   "metadata": {
    "scrolled": true
   },
   "outputs": [
    {
     "data": {
      "text/plain": [
       "ret_only          0.556875\n",
       "econ_data_only    0.526309\n",
       "both              0.520222\n",
       "dtype: float64"
      ]
     },
     "execution_count": 55,
     "metadata": {},
     "output_type": "execute_result"
    }
   ],
   "source": [
    "econ_accuracy_3M_df.mean(axis = 0)"
   ]
  },
  {
   "cell_type": "code",
   "execution_count": 56,
   "id": "625987ae",
   "metadata": {},
   "outputs": [],
   "source": [
    "econ_accuracy_1M_df.to_csv(f'C:\\\\Users\\\\anson\\\\OneDrive\\\\桌面\\\\CUQTS\\\\2023_04_03\\\\XG_Boost_Econ_Data_Importance\\\\{predict_direction}_1M.csv')\n",
    "econ_accuracy_3M_df.to_csv(f'C:\\\\Users\\\\anson\\\\OneDrive\\\\桌面\\\\CUQTS\\\\2023_04_03\\\\XG_Boost_Econ_Data_Importance\\\\{predict_direction}_3M.csv')"
   ]
  },
  {
   "cell_type": "code",
   "execution_count": 57,
   "id": "ef2c4358",
   "metadata": {
    "scrolled": true
   },
   "outputs": [
    {
     "data": {
      "text/plain": [
       "<AxesSubplot:title={'center':'1M'}>"
      ]
     },
     "execution_count": 57,
     "metadata": {},
     "output_type": "execute_result"
    },
    {
     "data": {
      "image/png": "[encoded data removed]",
      "text/plain": [
       "<Figure size 640x480 with 1 Axes>"
      ]
     },
     "metadata": {},
     "output_type": "display_data"
    }
   ],
   "source": [
    "econ_accuracy_1M_df.T.plot(title = '1M',legend = False)"
   ]
  },
  {
   "cell_type": "code",
   "execution_count": 58,
   "id": "664d17ea",
   "metadata": {},
   "outputs": [
    {
     "data": {
      "text/plain": [
       "<AxesSubplot:title={'center':'3M'}>"
      ]
     },
     "execution_count": 58,
     "metadata": {},
     "output_type": "execute_result"
    },
    {
     "data": {
      "image/png": "[encoded data removed]",
      "text/plain": [
       "<Figure size 640x480 with 1 Axes>"
      ]
     },
     "metadata": {},
     "output_type": "display_data"
    }
   ],
   "source": [
    "econ_accuracy_3M_df.T.plot(title = '3M',legend = False)"
   ]
  },
  {
   "cell_type": "code",
   "execution_count": null,
   "id": "32b80c21",
   "metadata": {},
   "outputs": [],
   "source": []
  }
 ],
 "metadata": {
  "colab": {
   "provenance": []
  },
  "kernelspec": {
   "display_name": "Python 3 (ipykernel)",
   "language": "python",
   "name": "python3"
  },
  "language_info": {
   "codemirror_mode": {
    "name": "ipython",
    "version": 3
   },
   "file_extension": ".py",
   "mimetype": "text/x-python",
   "name": "python",
   "nbconvert_exporter": "python",
   "pygments_lexer": "ipython3",
   "version": "3.9.13"
  }
 },
 "nbformat": 4,
 "nbformat_minor": 5
}
