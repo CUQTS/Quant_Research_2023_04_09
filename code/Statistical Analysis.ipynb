{
 "cells": [
  {
   "cell_type": "code",
   "execution_count": 2,
   "id": "8a32c0a8",
   "metadata": {},
   "outputs": [],
   "source": [
    "import os\n",
    "import pandas as pd\n",
    "import numpy as np\n",
    "from scipy.stats import norm, t"
   ]
  },
  {
   "cell_type": "markdown",
   "id": "7f378a6e",
   "metadata": {},
   "source": [
    "# Eonomic Data Importance"
   ]
  },
  {
   "cell_type": "code",
   "execution_count": 3,
   "id": "fad773a8",
   "metadata": {},
   "outputs": [],
   "source": [
    "#loading the files for statistical analysis\n",
    "CPI_accuracy_1M_df = pd.read_csv(f'C:\\\\Users\\\\anson\\\\OneDrive\\\\桌面\\\\CUQTS\\\\2023_04_03\\\\XG_Boost_Econ_Data_Importance\\\\{\"PPP\"}_1M.csv', index_col = 0)\n",
    "CPI_accuracy_3M_df = pd.read_csv(f'C:\\\\Users\\\\anson\\\\OneDrive\\\\桌面\\\\CUQTS\\\\2023_04_03\\\\XG_Boost_Econ_Data_Importance\\\\{\"PPP\"}_3M.csv', index_col = 0)\n",
    "\n",
    "IR_accuracy_1M_df= pd.read_csv(f'C:\\\\Users\\\\anson\\\\OneDrive\\\\桌面\\\\CUQTS\\\\2023_04_03\\\\XG_Boost_Econ_Data_Importance\\\\{\"IRP\"}_1M.csv', index_col = 0)\n",
    "IR_accuracy_3M_df= pd.read_csv(f'C:\\\\Users\\\\anson\\\\OneDrive\\\\桌面\\\\CUQTS\\\\2023_04_03\\\\XG_Boost_Econ_Data_Importance\\\\{\"IRP\"}_3M.csv', index_col = 0)"
   ]
  },
  {
   "cell_type": "markdown",
   "id": "b74dc54e",
   "metadata": {},
   "source": [
    "## Within Economic Data"
   ]
  },
  {
   "cell_type": "code",
   "execution_count": 4,
   "id": "3fb22fba",
   "metadata": {},
   "outputs": [],
   "source": [
    "diff_CPI_ret_1M = CPI_accuracy_1M_df['econ_data_only'].dropna() - CPI_accuracy_1M_df['ret_only'].dropna()\n",
    "diff_CPI_ret_3M = CPI_accuracy_3M_df['econ_data_only'].dropna() - CPI_accuracy_3M_df['ret_only'].dropna()\n",
    "\n",
    "diff_both_CPI_ret_1M = CPI_accuracy_1M_df['both'].dropna() - CPI_accuracy_1M_df['ret_only'].dropna()\n",
    "diff_both_CPI_ret_3M = CPI_accuracy_3M_df['both'].dropna() - CPI_accuracy_3M_df['ret_only'].dropna()"
   ]
  },
  {
   "cell_type": "code",
   "execution_count": 10,
   "id": "a47f26b2",
   "metadata": {},
   "outputs": [
    {
     "data": {
      "text/plain": [
       "-0.005628052503052504"
      ]
     },
     "execution_count": 10,
     "metadata": {},
     "output_type": "execute_result"
    }
   ],
   "source": [
    "diff_both_CPI_ret_1M.mean()"
   ]
  },
  {
   "cell_type": "code",
   "execution_count": 5,
   "id": "c20b3b80",
   "metadata": {
    "scrolled": true
   },
   "outputs": [
    {
     "name": "stdout",
     "output_type": "stream",
     "text": [
      "1M CPI vs Ret : p-value 0.9444995268851475\n",
      "3M Both vs Ret : p-value 0.5293542653382933\n",
      "1M CPI vs Ret : p-value 0.3836299889054776\n",
      "3M Both vs Ret : p-value 0.5354508284682711\n"
     ]
    }
   ],
   "source": [
    "print('1M CPI vs Ret : p-value', t.cdf(diff_CPI_ret_1M.mean()/(diff_CPI_ret_1M.std()/np.sqrt(len(diff_CPI_ret_1M))), len(diff_CPI_ret_1M)-1))\n",
    "print('3M Both vs Ret : p-value', t.cdf(diff_CPI_ret_3M.mean()/(diff_CPI_ret_3M.std()/np.sqrt(len(diff_CPI_ret_3M))), len(diff_CPI_ret_3M)-1))\n",
    "print('1M CPI vs Ret : p-value', t.cdf(diff_both_CPI_ret_1M.mean()/(diff_both_CPI_ret_1M.std()/np.sqrt(len(diff_both_CPI_ret_1M))), len(diff_both_CPI_ret_1M)-1))\n",
    "print('3M Both vs Ret : p-value', t.cdf(diff_both_CPI_ret_3M.mean()/(diff_both_CPI_ret_3M.std()/np.sqrt(len(diff_both_CPI_ret_3M))), len(diff_both_CPI_ret_3M)-1))"
   ]
  },
  {
   "cell_type": "code",
   "execution_count": 12,
   "id": "e63311de",
   "metadata": {},
   "outputs": [],
   "source": [
    "diff_IR_ret_1M = IR_accuracy_1M_df['econ_data_only'].dropna() - IR_accuracy_1M_df['ret_only'].dropna()\n",
    "diff_IR_ret_3M = IR_accuracy_3M_df['econ_data_only'].dropna() - IR_accuracy_3M_df['ret_only'].dropna()\n",
    "\n",
    "diff_both_IR_ret_1M = IR_accuracy_1M_df['both'].dropna() - IR_accuracy_1M_df['ret_only'].dropna()\n",
    "diff_both_IR_ret_3M = IR_accuracy_3M_df['both'].dropna() - IR_accuracy_3M_df['ret_only'].dropna()"
   ]
  },
  {
   "cell_type": "code",
   "execution_count": 13,
   "id": "584a28e5",
   "metadata": {
    "scrolled": true
   },
   "outputs": [
    {
     "name": "stdout",
     "output_type": "stream",
     "text": [
      "1M IR vs Ret : p-value 0.4691083357929137\n",
      "3M Both vs Ret : p-value 0.1982807405890445\n",
      "1M IR vs Ret : p-value 0.57802542102086\n",
      "3M Both vs Ret : p-value 0.25785727191764485\n"
     ]
    }
   ],
   "source": [
    "print('1M IR vs Ret : p-value', t.cdf(diff_IR_ret_1M.mean()/(diff_IR_ret_1M.std()/np.sqrt(len(diff_IR_ret_1M))), len(diff_IR_ret_1M)-1))\n",
    "print('3M Both vs Ret : p-value', t.cdf(diff_IR_ret_3M.mean()/(diff_IR_ret_3M.std()/np.sqrt(len(diff_IR_ret_3M))), len(diff_IR_ret_3M)-1))\n",
    "print('1M IR vs Ret : p-value', t.cdf(diff_both_IR_ret_1M.mean()/(diff_both_IR_ret_1M.std()/np.sqrt(len(diff_both_IR_ret_1M))), len(diff_both_IR_ret_1M)-1))\n",
    "print('3M Both vs Ret : p-value', t.cdf(diff_both_IR_ret_3M.mean()/(diff_both_IR_ret_3M.std()/np.sqrt(len(diff_both_IR_ret_3M))), len(diff_both_IR_ret_3M)-1))"
   ]
  },
  {
   "cell_type": "markdown",
   "id": "78562843",
   "metadata": {},
   "source": [
    "## Cross Economic Data Comparsion"
   ]
  },
  {
   "cell_type": "code",
   "execution_count": 14,
   "id": "b3722246",
   "metadata": {},
   "outputs": [],
   "source": [
    "diff_econ_data_1M = (CPI_accuracy_1M_df['econ_data_only'] - CPI_accuracy_1M_df['ret_only']) - (IR_accuracy_1M_df['econ_data_only'] - IR_accuracy_1M_df['ret_only'])\n",
    "diff_econ_data_1M.dropna(inplace = True)\n",
    "diff_econ_data_3M = (CPI_accuracy_3M_df['econ_data_only'] - CPI_accuracy_3M_df['ret_only']) - (IR_accuracy_3M_df['econ_data_only'] - IR_accuracy_3M_df['ret_only'])\n",
    "diff_econ_data_3M.dropna(inplace = True)\n",
    "\n",
    "diff_both_1M = (CPI_accuracy_1M_df['both'] - CPI_accuracy_1M_df['ret_only']) - (IR_accuracy_1M_df['both'] - IR_accuracy_1M_df['ret_only'])\n",
    "diff_both_1M.dropna(inplace = True)\n",
    "diff_both_3M = (CPI_accuracy_3M_df['both'] - CPI_accuracy_3M_df['ret_only']) - (IR_accuracy_3M_df['both'] - IR_accuracy_3M_df['ret_only'])\n",
    "diff_both_3M.dropna(inplace = True)"
   ]
  },
  {
   "cell_type": "code",
   "execution_count": 15,
   "id": "955596d7",
   "metadata": {},
   "outputs": [
    {
     "name": "stdout",
     "output_type": "stream",
     "text": [
      "1M Econ Data vs Ret : p-value 0.6436082043886939\n",
      "3M Econ Data vs Ret : p-value 0.6208278014889528\n",
      "1M Both vs Ret : p-value 0.3851900904241523\n",
      "3M Both vs Ret : p-value 0.6684287377605305\n"
     ]
    }
   ],
   "source": [
    "print('1M Econ Data vs Ret : p-value', t.cdf(diff_econ_data_1M.mean()/(diff_econ_data_1M.std()/np.sqrt(len(diff_econ_data_1M))), len(diff_econ_data_1M)-1))\n",
    "print('3M Econ Data vs Ret : p-value', t.cdf(diff_econ_data_3M.mean()/(diff_econ_data_3M.std()/np.sqrt(len(diff_econ_data_3M))), len(diff_econ_data_3M)-1))\n",
    "print('1M Both vs Ret : p-value', t.cdf(diff_both_1M.mean()/(diff_both_1M.std()/np.sqrt(len(diff_both_1M))), len(diff_both_1M)-1))\n",
    "print('3M Both vs Ret : p-value', t.cdf(diff_both_3M.mean()/(diff_both_3M.std()/np.sqrt(len(diff_both_3M))), len(diff_both_3M)-1))"
   ]
  },
  {
   "cell_type": "markdown",
   "id": "abbff85d",
   "metadata": {},
   "source": [
    "# PCA Enhancement"
   ]
  },
  {
   "cell_type": "code",
   "execution_count": 3,
   "id": "b89d66f7",
   "metadata": {},
   "outputs": [],
   "source": [
    "#loading the files\n",
    "CPI_Pair_accuracy_1M_df = pd.read_csv(f'C:\\\\Users\\\\anson\\\\OneDrive\\\\桌面\\\\CUQTS\\\\2023_04_03\\\\XG_Boost_PCA_Enhancement\\\\Pair_Accuracy_{\"PPP\"}_1M.csv', index_col = 0)\n",
    "CPI_Gain_Loss_Ratio_1M_df = pd.read_csv(f'C:\\\\Users\\\\anson\\\\OneDrive\\\\桌面\\\\CUQTS\\\\2023_04_03\\\\XG_Boost_PCA_Enhancement\\\\Gain_Loss_Ratio_{\"PPP\"}_1M.csv', index_col = 0)\n",
    "\n",
    "CPI_Pair_accuracy_3M_df = pd.read_csv(f'C:\\\\Users\\\\anson\\\\OneDrive\\\\桌面\\\\CUQTS\\\\2023_04_03\\\\XG_Boost_PCA_Enhancement\\\\Pair_Accuracy_{\"PPP\"}_3M.csv', index_col = 0)\n",
    "CPI_Gain_Loss_Ratio_3M_df = pd.read_csv(f'C:\\\\Users\\\\anson\\\\OneDrive\\\\桌面\\\\CUQTS\\\\2023_04_03\\\\XG_Boost_PCA_Enhancement\\\\Gain_Loss_Ratio_{\"PPP\"}_3M.csv', index_col = 0)\n",
    "\n",
    "IR_Pair_accuracy_1M_df = pd.read_csv(f'C:\\\\Users\\\\anson\\\\OneDrive\\\\桌面\\\\CUQTS\\\\2023_04_03\\\\XG_Boost_PCA_Enhancement\\\\Pair_Accuracy_{\"IRP\"}_1M.csv', index_col = 0)\n",
    "IR_Gain_Loss_Ratio_1M_df = pd.read_csv(f'C:\\\\Users\\\\anson\\\\OneDrive\\\\桌面\\\\CUQTS\\\\2023_04_03\\\\XG_Boost_PCA_Enhancement\\\\Gain_Loss_Ratio_{\"IRP\"}_1M.csv', index_col = 0)\n",
    "\n",
    "IR_Pair_accuracy_3M_df = pd.read_csv(f'C:\\\\Users\\\\anson\\\\OneDrive\\\\桌面\\\\CUQTS\\\\2023_04_03\\\\XG_Boost_PCA_Enhancement\\\\Pair_Accuracy_{\"IRP\"}_3M.csv', index_col = 0)\n",
    "IR_Gain_Loss_Ratio_3M_df = pd.read_csv(f'C:\\\\Users\\\\anson\\\\OneDrive\\\\桌面\\\\CUQTS\\\\2023_04_03\\\\XG_Boost_PCA_Enhancement\\\\Gain_Loss_Ratio_{\"IRP\"}_3M.csv', index_col = 0)"
   ]
  },
  {
   "cell_type": "code",
   "execution_count": 11,
   "id": "183225ee",
   "metadata": {},
   "outputs": [
    {
     "data": {
      "text/html": [
       "<div>\n",
       "<style scoped>\n",
       "    .dataframe tbody tr th:only-of-type {\n",
       "        vertical-align: middle;\n",
       "    }\n",
       "\n",
       "    .dataframe tbody tr th {\n",
       "        vertical-align: top;\n",
       "    }\n",
       "\n",
       "    .dataframe thead th {\n",
       "        text-align: right;\n",
       "    }\n",
       "</style>\n",
       "<table border=\"1\" class=\"dataframe\">\n",
       "  <thead>\n",
       "    <tr style=\"text-align: right;\">\n",
       "      <th></th>\n",
       "      <th>Agg_Ori</th>\n",
       "      <th>Agg_PCA</th>\n",
       "      <th>Fea_PCA</th>\n",
       "    </tr>\n",
       "  </thead>\n",
       "  <tbody>\n",
       "    <tr>\n",
       "      <th>USDJPY</th>\n",
       "      <td>0.744138</td>\n",
       "      <td>0.907305</td>\n",
       "      <td>0.753226</td>\n",
       "    </tr>\n",
       "    <tr>\n",
       "      <th>USDGBP</th>\n",
       "      <td>1.068553</td>\n",
       "      <td>1.051487</td>\n",
       "      <td>1.151707</td>\n",
       "    </tr>\n",
       "    <tr>\n",
       "      <th>USDCHF</th>\n",
       "      <td>0.943181</td>\n",
       "      <td>0.924765</td>\n",
       "      <td>1.048806</td>\n",
       "    </tr>\n",
       "    <tr>\n",
       "      <th>USDAUD</th>\n",
       "      <td>NaN</td>\n",
       "      <td>NaN</td>\n",
       "      <td>NaN</td>\n",
       "    </tr>\n",
       "    <tr>\n",
       "      <th>USDCAD</th>\n",
       "      <td>NaN</td>\n",
       "      <td>NaN</td>\n",
       "      <td>NaN</td>\n",
       "    </tr>\n",
       "    <tr>\n",
       "      <th>...</th>\n",
       "      <td>...</td>\n",
       "      <td>...</td>\n",
       "      <td>...</td>\n",
       "    </tr>\n",
       "    <tr>\n",
       "      <th>EURAUD</th>\n",
       "      <td>NaN</td>\n",
       "      <td>NaN</td>\n",
       "      <td>NaN</td>\n",
       "    </tr>\n",
       "    <tr>\n",
       "      <th>EURCAD</th>\n",
       "      <td>NaN</td>\n",
       "      <td>NaN</td>\n",
       "      <td>NaN</td>\n",
       "    </tr>\n",
       "    <tr>\n",
       "      <th>EURNZD</th>\n",
       "      <td>NaN</td>\n",
       "      <td>NaN</td>\n",
       "      <td>NaN</td>\n",
       "    </tr>\n",
       "    <tr>\n",
       "      <th>EURNOK</th>\n",
       "      <td>1.253272</td>\n",
       "      <td>1.066653</td>\n",
       "      <td>1.317745</td>\n",
       "    </tr>\n",
       "    <tr>\n",
       "      <th>EURSEK</th>\n",
       "      <td>0.896575</td>\n",
       "      <td>1.139972</td>\n",
       "      <td>0.909484</td>\n",
       "    </tr>\n",
       "  </tbody>\n",
       "</table>\n",
       "<p>90 rows × 3 columns</p>\n",
       "</div>"
      ],
      "text/plain": [
       "         Agg_Ori   Agg_PCA   Fea_PCA\n",
       "USDJPY  0.744138  0.907305  0.753226\n",
       "USDGBP  1.068553  1.051487  1.151707\n",
       "USDCHF  0.943181  0.924765  1.048806\n",
       "USDAUD       NaN       NaN       NaN\n",
       "USDCAD       NaN       NaN       NaN\n",
       "...          ...       ...       ...\n",
       "EURAUD       NaN       NaN       NaN\n",
       "EURCAD       NaN       NaN       NaN\n",
       "EURNZD       NaN       NaN       NaN\n",
       "EURNOK  1.253272  1.066653  1.317745\n",
       "EURSEK  0.896575  1.139972  0.909484\n",
       "\n",
       "[90 rows x 3 columns]"
      ]
     },
     "execution_count": 11,
     "metadata": {},
     "output_type": "execute_result"
    }
   ],
   "source": [
    "CPI_Gain_Loss_Ratio_1M_df"
   ]
  },
  {
   "cell_type": "markdown",
   "id": "66bcafdd",
   "metadata": {},
   "source": [
    "## CPI Data"
   ]
  },
  {
   "cell_type": "code",
   "execution_count": 23,
   "id": "5a3a6f5a",
   "metadata": {},
   "outputs": [],
   "source": [
    "diff_Agg_PCA_acc_1M = (CPI_Pair_accuracy_1M_df['Agg_PCA'] - CPI_Pair_accuracy_1M_df['Agg_Ori']).dropna()\n",
    "diff_Fea_PCA_acc_1M = (CPI_Pair_accuracy_1M_df['Fea_PCA'] - CPI_Pair_accuracy_1M_df['Agg_Ori']).dropna()\n",
    "Agg_PCA_enhance_prop_1M = sum((CPI_Pair_accuracy_1M_df['Agg_PCA'] > CPI_Pair_accuracy_1M_df['Agg_Ori']).dropna())/len((CPI_Pair_accuracy_1M_df['Agg_PCA'] - CPI_Pair_accuracy_1M_df['Agg_Ori']).dropna())\n",
    "Agg_PCA_enhance_prop_1M_count = len((CPI_Pair_accuracy_1M_df['Agg_PCA'] - CPI_Pair_accuracy_1M_df['Agg_Ori']).dropna())\n",
    "Fea_PCA_enhance_prop_1M = sum((CPI_Pair_accuracy_1M_df['Fea_PCA'] > CPI_Pair_accuracy_1M_df['Agg_Ori']).dropna())/len((CPI_Pair_accuracy_1M_df['Fea_PCA'] - CPI_Pair_accuracy_1M_df['Agg_Ori']).dropna())\n",
    "Fea_PCA_enhance_prop_1M_count = len((CPI_Pair_accuracy_1M_df['Fea_PCA'] - CPI_Pair_accuracy_1M_df['Agg_Ori']).dropna())\n",
    "diff_Agg_PCA_gnl_1M = (CPI_Gain_Loss_Ratio_1M_df['Agg_PCA'] - CPI_Gain_Loss_Ratio_1M_df['Agg_Ori']).dropna()\n",
    "diff_Fea_PCA_gnl_1M = (CPI_Gain_Loss_Ratio_1M_df['Fea_PCA'] - CPI_Gain_Loss_Ratio_1M_df['Agg_Ori']).dropna()\n",
    "\n",
    "diff_Agg_PCA_acc_3M = (CPI_Pair_accuracy_3M_df['Agg_PCA'] - CPI_Pair_accuracy_3M_df['Agg_Ori']).dropna()\n",
    "diff_Fea_PCA_acc_3M = (CPI_Pair_accuracy_3M_df['Fea_PCA'] - CPI_Pair_accuracy_3M_df['Agg_Ori']).dropna()\n",
    "Agg_PCA_enhance_prop_3M = sum((CPI_Pair_accuracy_3M_df['Agg_PCA'] > CPI_Pair_accuracy_3M_df['Agg_Ori']).dropna())/len((CPI_Pair_accuracy_3M_df['Agg_PCA'] - CPI_Pair_accuracy_3M_df['Agg_Ori']).dropna())\n",
    "Agg_PCA_enhance_prop_3M_count = len((CPI_Pair_accuracy_3M_df['Agg_PCA'] - CPI_Pair_accuracy_3M_df['Agg_Ori']).dropna())\n",
    "Fea_PCA_enhance_prop_3M = sum((CPI_Pair_accuracy_3M_df['Fea_PCA'] > CPI_Pair_accuracy_3M_df['Agg_Ori']).dropna())/len((CPI_Pair_accuracy_3M_df['Fea_PCA'] - CPI_Pair_accuracy_3M_df['Agg_Ori']).dropna())\n",
    "Fea_PCA_enhance_prop_3M_count = len((CPI_Pair_accuracy_3M_df['Fea_PCA'] - CPI_Pair_accuracy_3M_df['Agg_Ori']).dropna())\n",
    "diff_Agg_PCA_gnl_3M = (CPI_Gain_Loss_Ratio_3M_df['Agg_PCA'] - CPI_Gain_Loss_Ratio_3M_df['Agg_Ori']).dropna()\n",
    "diff_Fea_PCA_gnl_3M = (CPI_Gain_Loss_Ratio_3M_df['Fea_PCA'] - CPI_Gain_Loss_Ratio_3M_df['Agg_Ori']).dropna()"
   ]
  },
  {
   "cell_type": "code",
   "execution_count": 24,
   "id": "191bdba6",
   "metadata": {},
   "outputs": [
    {
     "name": "stdout",
     "output_type": "stream",
     "text": [
      "1M Agg PCA vs Ori Accuracy : p-value 0.6773403083780063\n",
      "3M Agg PCA vs Ori Accuracy : p-value 0.7365146120942314\n",
      "1M Fea PCA vs Ori Accuracy : p-value 0.8123983037308387\n",
      "3M Fea PCA vs Ori Accuracy : p-value 0.3036762163668163\n",
      "1M Agg PCA vs Ori Enhancement : p-value 0.7436546198690382\n",
      "3M Agg PCA vs Ori Enhancement : p-value 0.3981267073688196\n",
      "1M Fea PCA vs Ori Enhancement : p-value 0.5863703267186444\n",
      "3M Fea PCA vs Ori Enhancement : p-value 0.09835280122947343\n",
      "1M Agg PCA vs Ori GnL : p-value 0.8483244254816295\n",
      "3M Agg PCA vs Ori GnL : p-value 0.7829617307033507\n",
      "1M Fea PCA vs Ori GnL : p-value 0.8542782668633765\n",
      "3M Fea PCA vs Ori GnL : p-value 0.9762617994863999\n"
     ]
    }
   ],
   "source": [
    "print('1M Agg PCA vs Ori Accuracy : p-value', t.cdf(diff_Agg_PCA_acc_1M.mean()/(diff_Agg_PCA_acc_1M.std()/np.sqrt(len(diff_Agg_PCA_acc_1M))), len(diff_Agg_PCA_acc_1M)-1))\n",
    "print('3M Agg PCA vs Ori Accuracy : p-value', t.cdf(diff_Agg_PCA_acc_3M.mean()/(diff_Agg_PCA_acc_3M.std()/np.sqrt(len(diff_Agg_PCA_acc_3M))), len(diff_Agg_PCA_acc_3M)-1))\n",
    "print('1M Fea PCA vs Ori Accuracy : p-value', t.cdf(diff_Fea_PCA_acc_1M.mean()/(diff_Fea_PCA_acc_1M.std()/np.sqrt(len(diff_Fea_PCA_acc_1M))), len(diff_Fea_PCA_acc_1M)-1))\n",
    "print('3M Fea PCA vs Ori Accuracy : p-value', t.cdf(diff_Fea_PCA_acc_3M.mean()/(diff_Fea_PCA_acc_3M.std()/np.sqrt(len(diff_Fea_PCA_acc_3M))), len(diff_Fea_PCA_acc_3M)-1))\n",
    "\n",
    "print('1M Agg PCA vs Ori Enhancement : p-value', norm.cdf((Agg_PCA_enhance_prop_1M-0.5)/np.sqrt(0.5*0.5/Agg_PCA_enhance_prop_1M_count)))\n",
    "print('3M Agg PCA vs Ori Enhancement : p-value', norm.cdf((Agg_PCA_enhance_prop_3M-0.5)/np.sqrt(0.5*0.5/Agg_PCA_enhance_prop_3M_count)))\n",
    "print('1M Fea PCA vs Ori Enhancement : p-value', norm.cdf((Fea_PCA_enhance_prop_1M-0.5)/np.sqrt(0.5*0.5/Fea_PCA_enhance_prop_1M_count)))\n",
    "print('3M Fea PCA vs Ori Enhancement : p-value', norm.cdf((Fea_PCA_enhance_prop_3M-0.5)/np.sqrt(0.5*0.5/Fea_PCA_enhance_prop_3M_count)))\n",
    "\n",
    "print('1M Agg PCA vs Ori GnL : p-value', t.cdf(diff_Agg_PCA_gnl_1M.mean()/(diff_Agg_PCA_gnl_1M.std()/np.sqrt(len(diff_Agg_PCA_gnl_1M))), len(diff_Agg_PCA_gnl_1M)-1))\n",
    "print('3M Agg PCA vs Ori GnL : p-value', t.cdf(diff_Agg_PCA_gnl_3M.mean()/(diff_Agg_PCA_gnl_3M.std()/np.sqrt(len(diff_Agg_PCA_gnl_3M))), len(diff_Agg_PCA_gnl_3M)-1))\n",
    "print('1M Fea PCA vs Ori GnL : p-value', t.cdf(diff_Fea_PCA_gnl_1M.mean()/(diff_Fea_PCA_gnl_1M.std()/np.sqrt(len(diff_Fea_PCA_gnl_1M))), len(diff_Fea_PCA_gnl_1M)-1))\n",
    "print('3M Fea PCA vs Ori GnL : p-value', t.cdf(diff_Fea_PCA_gnl_3M.mean()/(diff_Fea_PCA_gnl_3M.std()/np.sqrt(len(diff_Fea_PCA_gnl_3M))), len(diff_Fea_PCA_gnl_3M)-1))print('1M Agg PCA vs Ori Accuracy : p-value', t.cdf(diff_Agg_PCA_acc_1M.mean()/(diff_Agg_PCA_acc_1M.std()/np.sqrt(len(diff_Agg_PCA_acc_1M))), len(diff_Agg_PCA_acc_1M)-1))\n",
    "print('3M Agg PCA vs Ori Accuracy : p-value', t.cdf(diff_Agg_PCA_acc_3M.mean()/(diff_Agg_PCA_acc_3M.std()/np.sqrt(len(diff_Agg_PCA_acc_3M))), len(diff_Agg_PCA_acc_3M)-1))\n",
    "print('1M Fea PCA vs Ori Accuracy : p-value', t.cdf(diff_Fea_PCA_acc_1M.mean()/(diff_Fea_PCA_acc_1M.std()/np.sqrt(len(diff_Fea_PCA_acc_1M))), len(diff_Fea_PCA_acc_1M)-1))\n",
    "print('3M Fea PCA vs Ori Accuracy : p-value', t.cdf(diff_Fea_PCA_acc_3M.mean()/(diff_Fea_PCA_acc_3M.std()/np.sqrt(len(diff_Fea_PCA_acc_3M))), len(diff_Fea_PCA_acc_3M)-1))\n",
    "\n",
    "print('1M Agg PCA vs Ori Enhancement : p-value', norm.cdf((Agg_PCA_enhance_prop_1M-0.5)/np.sqrt(0.5*0.5/Agg_PCA_enhance_prop_1M_count)))\n",
    "print('3M Agg PCA vs Ori Enhancement : p-value', norm.cdf((Agg_PCA_enhance_prop_3M-0.5)/np.sqrt(0.5*0.5/Agg_PCA_enhance_prop_3M_count)))\n",
    "print('1M Fea PCA vs Ori Enhancement : p-value', norm.cdf((Fea_PCA_enhance_prop_1M-0.5)/np.sqrt(0.5*0.5/Fea_PCA_enhance_prop_1M_count)))\n",
    "print('3M Fea PCA vs Ori Enhancement : p-value', norm.cdf((Fea_PCA_enhance_prop_3M-0.5)/np.sqrt(0.5*0.5/Fea_PCA_enhance_prop_3M_count)))\n",
    "\n",
    "print('1M Agg PCA vs Ori GnL : p-value', t.cdf(diff_Agg_PCA_gnl_1M.mean()/(diff_Agg_PCA_gnl_1M.std()/np.sqrt(len(diff_Agg_PCA_gnl_1M))), len(diff_Agg_PCA_gnl_1M)-1))\n",
    "print('3M Agg PCA vs Ori GnL : p-value', t.cdf(diff_Agg_PCA_gnl_3M.mean()/(diff_Agg_PCA_gnl_3M.std()/np.sqrt(len(diff_Agg_PCA_gnl_3M))), len(diff_Agg_PCA_gnl_3M)-1))\n",
    "print('1M Fea PCA vs Ori GnL : p-value', t.cdf(diff_Fea_PCA_gnl_1M.mean()/(diff_Fea_PCA_gnl_1M.std()/np.sqrt(len(diff_Fea_PCA_gnl_1M))), len(diff_Fea_PCA_gnl_1M)-1))\n",
    "print('3M Fea PCA vs Ori GnL : p-value', t.cdf(diff_Fea_PCA_gnl_3M.mean()/(diff_Fea_PCA_gnl_3M.std()/np.sqrt(len(diff_Fea_PCA_gnl_3M))), len(diff_Fea_PCA_gnl_3M)-1))"
   ]
  },
  {
   "cell_type": "markdown",
   "id": "28b3c8b3",
   "metadata": {},
   "source": [
    "## Interest Rate Data"
   ]
  },
  {
   "cell_type": "code",
   "execution_count": 25,
   "id": "e17426f5",
   "metadata": {},
   "outputs": [],
   "source": [
    "diff_Agg_PCA_acc_1M = (IR_Pair_accuracy_1M_df['Agg_PCA'] - IR_Pair_accuracy_1M_df['Agg_Ori']).dropna()\n",
    "diff_Fea_PCA_acc_1M = (IR_Pair_accuracy_1M_df['Fea_PCA'] - IR_Pair_accuracy_1M_df['Agg_Ori']).dropna()\n",
    "Agg_PCA_enhance_prop_1M = sum((IR_Pair_accuracy_1M_df['Agg_PCA'] > IR_Pair_accuracy_1M_df['Agg_Ori']).dropna())/len((IR_Pair_accuracy_1M_df['Agg_PCA'] - IR_Pair_accuracy_1M_df['Agg_Ori']).dropna())\n",
    "Agg_PCA_enhance_prop_1M_count = len((IR_Pair_accuracy_1M_df['Agg_PCA'] - IR_Pair_accuracy_1M_df['Agg_Ori']).dropna())\n",
    "Fea_PCA_enhance_prop_1M = sum((IR_Pair_accuracy_1M_df['Fea_PCA'] > IR_Pair_accuracy_1M_df['Agg_Ori']).dropna())/len((IR_Pair_accuracy_1M_df['Fea_PCA'] - IR_Pair_accuracy_1M_df['Agg_Ori']).dropna())\n",
    "Fea_PCA_enhance_prop_1M_count = len((IR_Pair_accuracy_1M_df['Fea_PCA'] - IR_Pair_accuracy_1M_df['Agg_Ori']).dropna())\n",
    "diff_Agg_PCA_gnl_1M = (IR_Gain_Loss_Ratio_1M_df['Agg_PCA'] - IR_Gain_Loss_Ratio_1M_df['Agg_Ori']).dropna()\n",
    "diff_Fea_PCA_gnl_1M = (IR_Gain_Loss_Ratio_1M_df['Fea_PCA'] - IR_Gain_Loss_Ratio_1M_df['Agg_Ori']).dropna()\n",
    "\n",
    "diff_Agg_PCA_acc_3M = (IR_Pair_accuracy_3M_df['Agg_PCA'] - IR_Pair_accuracy_3M_df['Agg_Ori']).dropna()\n",
    "diff_Fea_PCA_acc_3M = (IR_Pair_accuracy_3M_df['Fea_PCA'] - IR_Pair_accuracy_3M_df['Agg_Ori']).dropna()\n",
    "Agg_PCA_enhance_prop_3M = sum((IR_Pair_accuracy_3M_df['Agg_PCA'] > IR_Pair_accuracy_3M_df['Agg_Ori']).dropna())/len((IR_Pair_accuracy_3M_df['Agg_PCA'] - IR_Pair_accuracy_3M_df['Agg_Ori']).dropna())\n",
    "Agg_PCA_enhance_prop_3M_count = len((IR_Pair_accuracy_3M_df['Agg_PCA'] - IR_Pair_accuracy_3M_df['Agg_Ori']).dropna())\n",
    "Fea_PCA_enhance_prop_3M = sum((IR_Pair_accuracy_3M_df['Fea_PCA'] > IR_Pair_accuracy_3M_df['Agg_Ori']).dropna())/len((IR_Pair_accuracy_3M_df['Fea_PCA'] - IR_Pair_accuracy_3M_df['Agg_Ori']).dropna())\n",
    "Fea_PCA_enhance_prop_3M_count = len((IR_Pair_accuracy_3M_df['Fea_PCA'] - IR_Pair_accuracy_3M_df['Agg_Ori']).dropna())\n",
    "diff_Agg_PCA_gnl_3M = (IR_Gain_Loss_Ratio_3M_df['Agg_PCA'] - IR_Gain_Loss_Ratio_3M_df['Agg_Ori']).dropna()\n",
    "diff_Fea_PCA_gnl_3M = (IR_Gain_Loss_Ratio_3M_df['Fea_PCA'] - IR_Gain_Loss_Ratio_3M_df['Agg_Ori']).dropna()"
   ]
  },
  {
   "cell_type": "code",
   "execution_count": 26,
   "id": "c1ee446b",
   "metadata": {},
   "outputs": [
    {
     "name": "stdout",
     "output_type": "stream",
     "text": [
      "1M Agg PCA vs Ori Accuracy : p-value 0.335329094109344\n",
      "3M Agg PCA vs Ori Accuracy : p-value 0.6455808027439551\n",
      "1M Fea PCA vs Ori Accuracy : p-value 0.7825945644089822\n",
      "3M Fea PCA vs Ori Accuracy : p-value 0.5665640792529214\n",
      "1M Agg PCA vs Ori Enhancement : p-value 0.2071080891212626\n",
      "3M Agg PCA vs Ori Enhancement : p-value 0.016503128830616255\n",
      "1M Fea PCA vs Ori Enhancement : p-value 0.5\n",
      "3M Fea PCA vs Ori Enhancement : p-value 0.13761676203741707\n",
      "1M Agg PCA vs Ori GnL : p-value 0.27961002236544263\n",
      "3M Agg PCA vs Ori GnL : p-value 0.5037179656012312\n",
      "1M Fea PCA vs Ori GnL : p-value 0.7828040417124751\n",
      "3M Fea PCA vs Ori GnL : p-value 0.7903113533201704\n"
     ]
    }
   ],
   "source": [
    "print('1M Agg PCA vs Ori Accuracy : p-value', t.cdf(diff_Agg_PCA_acc_1M.mean()/(diff_Agg_PCA_acc_1M.std()/np.sqrt(len(diff_Agg_PCA_acc_1M))), len(diff_Agg_PCA_acc_1M)-1))\n",
    "print('3M Agg PCA vs Ori Accuracy : p-value', t.cdf(diff_Agg_PCA_acc_3M.mean()/(diff_Agg_PCA_acc_3M.std()/np.sqrt(len(diff_Agg_PCA_acc_3M))), len(diff_Agg_PCA_acc_3M)-1))\n",
    "print('1M Fea PCA vs Ori Accuracy : p-value', t.cdf(diff_Fea_PCA_acc_1M.mean()/(diff_Fea_PCA_acc_1M.std()/np.sqrt(len(diff_Fea_PCA_acc_1M))), len(diff_Fea_PCA_acc_1M)-1))\n",
    "print('3M Fea PCA vs Ori Accuracy : p-value', t.cdf(diff_Fea_PCA_acc_3M.mean()/(diff_Fea_PCA_acc_3M.std()/np.sqrt(len(diff_Fea_PCA_acc_3M))), len(diff_Fea_PCA_acc_3M)-1))\n",
    "\n",
    "print('1M Agg PCA vs Ori Enhancement : p-value', norm.cdf((Agg_PCA_enhance_prop_1M-0.5)/np.sqrt(0.5*0.5/Agg_PCA_enhance_prop_1M_count)))\n",
    "print('3M Agg PCA vs Ori Enhancement : p-value', norm.cdf((Agg_PCA_enhance_prop_3M-0.5)/np.sqrt(0.5*0.5/Agg_PCA_enhance_prop_3M_count)))\n",
    "print('1M Fea PCA vs Ori Enhancement : p-value', norm.cdf((Fea_PCA_enhance_prop_1M-0.5)/np.sqrt(0.5*0.5/Fea_PCA_enhance_prop_1M_count)))\n",
    "print('3M Fea PCA vs Ori Enhancement : p-value', norm.cdf((Fea_PCA_enhance_prop_3M-0.5)/np.sqrt(0.5*0.5/Fea_PCA_enhance_prop_3M_count)))\n",
    "\n",
    "print('1M Agg PCA vs Ori GnL : p-value', t.cdf(diff_Agg_PCA_gnl_1M.mean()/(diff_Agg_PCA_gnl_1M.std()/np.sqrt(len(diff_Agg_PCA_gnl_1M))), len(diff_Agg_PCA_gnl_1M)-1))\n",
    "print('3M Agg PCA vs Ori GnL : p-value', t.cdf(diff_Agg_PCA_gnl_3M.mean()/(diff_Agg_PCA_gnl_3M.std()/np.sqrt(len(diff_Agg_PCA_gnl_3M))), len(diff_Agg_PCA_gnl_3M)-1))\n",
    "print('1M Fea PCA vs Ori GnL : p-value', t.cdf(diff_Fea_PCA_gnl_1M.mean()/(diff_Fea_PCA_gnl_1M.std()/np.sqrt(len(diff_Fea_PCA_gnl_1M))), len(diff_Fea_PCA_gnl_1M)-1))\n",
    "print('3M Fea PCA vs Ori GnL : p-value', t.cdf(diff_Fea_PCA_gnl_3M.mean()/(diff_Fea_PCA_gnl_3M.std()/np.sqrt(len(diff_Fea_PCA_gnl_3M))), len(diff_Fea_PCA_gnl_3M)-1))"
   ]
  },
  {
   "cell_type": "markdown",
   "id": "cc6fd0dc",
   "metadata": {},
   "source": [
    "## Aggregated View"
   ]
  },
  {
   "cell_type": "code",
   "execution_count": 13,
   "id": "ebe95f88",
   "metadata": {},
   "outputs": [],
   "source": [
    "diff_Agg_PCA_acc_1M = (IR_Pair_accuracy_1M_df['Agg_PCA'] - IR_Pair_accuracy_1M_df['Agg_Ori']).dropna().tolist()\n",
    "diff_Agg_PCA_acc_1M = diff_Agg_PCA_acc_1M + (CPI_Pair_accuracy_1M_df['Agg_PCA'] - CPI_Pair_accuracy_1M_df['Agg_Ori']).dropna().tolist()\n",
    "\n",
    "diff_Fea_PCA_acc_1M = (IR_Pair_accuracy_1M_df['Fea_PCA'] - IR_Pair_accuracy_1M_df['Agg_Ori']).dropna().tolist()\n",
    "diff_Fea_PCA_acc_1M = diff_Fea_PCA_acc_1M + (CPI_Pair_accuracy_1M_df['Fea_PCA'] - CPI_Pair_accuracy_1M_df['Agg_Ori']).dropna().tolist()\n",
    "\n",
    "Agg_PCA_enhance_prop_1M = (sum((IR_Pair_accuracy_1M_df['Agg_PCA'] > IR_Pair_accuracy_1M_df['Agg_Ori']).dropna()) + sum((CPI_Pair_accuracy_1M_df['Agg_PCA'] > CPI_Pair_accuracy_1M_df['Agg_Ori']).dropna()))/(len((IR_Pair_accuracy_1M_df['Agg_PCA'] - IR_Pair_accuracy_1M_df['Agg_Ori']).dropna())+len((CPI_Pair_accuracy_1M_df['Agg_PCA'] - CPI_Pair_accuracy_1M_df['Agg_Ori']).dropna()))\n",
    "Agg_PCA_enhance_prop_1M_count = (len((IR_Pair_accuracy_1M_df['Agg_PCA'] - IR_Pair_accuracy_1M_df['Agg_Ori']).dropna())+len((CPI_Pair_accuracy_1M_df['Agg_PCA'] - CPI_Pair_accuracy_1M_df['Agg_Ori']).dropna()))\n",
    "\n",
    "Fea_PCA_enhance_prop_1M = (sum((IR_Pair_accuracy_1M_df['Fea_PCA'] > IR_Pair_accuracy_1M_df['Agg_Ori']).dropna()) + sum((CPI_Pair_accuracy_1M_df['Fea_PCA'] > CPI_Pair_accuracy_1M_df['Agg_Ori']).dropna()))/(len((IR_Pair_accuracy_1M_df['Fea_PCA'] - IR_Pair_accuracy_1M_df['Agg_Ori']).dropna())+len((CPI_Pair_accuracy_1M_df['Fea_PCA'] - CPI_Pair_accuracy_1M_df['Agg_Ori']).dropna()))\n",
    "Fea_PCA_enhance_prop_1M_count = (len((IR_Pair_accuracy_1M_df['Fea_PCA'] - IR_Pair_accuracy_1M_df['Agg_Ori']).dropna())+len((CPI_Pair_accuracy_1M_df['Fea_PCA'] - CPI_Pair_accuracy_1M_df['Agg_Ori']).dropna()))\n",
    "\n",
    "diff_Agg_PCA_gnl_1M = (IR_Gain_Loss_Ratio_1M_df['Agg_PCA'] - IR_Gain_Loss_Ratio_1M_df['Agg_Ori']).dropna().tolist()\n",
    "diff_Agg_PCA_gnl_1M = diff_Agg_PCA_gnl_1M + (CPI_Gain_Loss_Ratio_1M_df['Agg_PCA'] - CPI_Gain_Loss_Ratio_1M_df['Agg_Ori']).dropna().tolist()\n",
    "\n",
    "diff_Fea_PCA_gnl_1M = (IR_Gain_Loss_Ratio_1M_df['Fea_PCA'] - IR_Gain_Loss_Ratio_1M_df['Agg_Ori']).dropna().tolist()\n",
    "diff_Fea_PCA_gnl_1M = diff_Agg_PCA_gnl_1M + (CPI_Gain_Loss_Ratio_1M_df['Fea_PCA'] - CPI_Gain_Loss_Ratio_1M_df['Agg_Ori']).dropna().tolist()\n",
    "\n",
    "\n",
    "diff_Agg_PCA_acc_3M = (IR_Pair_accuracy_3M_df['Agg_PCA'] - IR_Pair_accuracy_3M_df['Agg_Ori']).dropna().tolist()\n",
    "diff_Agg_PCA_acc_3M = diff_Agg_PCA_acc_3M + (CPI_Pair_accuracy_3M_df['Agg_PCA'] - CPI_Pair_accuracy_3M_df['Agg_Ori']).dropna().tolist()\n",
    "\n",
    "diff_Fea_PCA_acc_3M = (IR_Pair_accuracy_3M_df['Fea_PCA'] - IR_Pair_accuracy_3M_df['Agg_Ori']).dropna().tolist()\n",
    "diff_Fea_PCA_acc_3M = diff_Fea_PCA_acc_3M + (CPI_Pair_accuracy_3M_df['Fea_PCA'] - CPI_Pair_accuracy_3M_df['Agg_Ori']).dropna().tolist()\n",
    "\n",
    "Agg_PCA_enhance_prop_3M = (sum((IR_Pair_accuracy_3M_df['Agg_PCA'] > IR_Pair_accuracy_3M_df['Agg_Ori']).dropna()) + sum((CPI_Pair_accuracy_3M_df['Agg_PCA'] > CPI_Pair_accuracy_3M_df['Agg_Ori']).dropna()))/(len((IR_Pair_accuracy_3M_df['Agg_PCA'] - IR_Pair_accuracy_3M_df['Agg_Ori']).dropna())+len((CPI_Pair_accuracy_3M_df['Agg_PCA'] - CPI_Pair_accuracy_3M_df['Agg_Ori']).dropna()))\n",
    "Agg_PCA_enhance_prop_3M_count = (len((IR_Pair_accuracy_3M_df['Agg_PCA'] - IR_Pair_accuracy_3M_df['Agg_Ori']).dropna())+len((CPI_Pair_accuracy_3M_df['Agg_PCA'] - CPI_Pair_accuracy_3M_df['Agg_Ori']).dropna()))\n",
    "\n",
    "Fea_PCA_enhance_prop_3M = (sum((IR_Pair_accuracy_3M_df['Fea_PCA'] > IR_Pair_accuracy_3M_df['Agg_Ori']).dropna()) + sum((CPI_Pair_accuracy_3M_df['Fea_PCA'] > CPI_Pair_accuracy_3M_df['Agg_Ori']).dropna()))/(len((IR_Pair_accuracy_3M_df['Fea_PCA'] - IR_Pair_accuracy_3M_df['Agg_Ori']).dropna())+len((CPI_Pair_accuracy_3M_df['Fea_PCA'] - CPI_Pair_accuracy_3M_df['Agg_Ori']).dropna()))\n",
    "Fea_PCA_enhance_prop_3M_count = (len((IR_Pair_accuracy_3M_df['Fea_PCA'] - IR_Pair_accuracy_3M_df['Agg_Ori']).dropna())+len((CPI_Pair_accuracy_3M_df['Fea_PCA'] - CPI_Pair_accuracy_3M_df['Agg_Ori']).dropna()))\n",
    "\n",
    "diff_Agg_PCA_gnl_3M = (IR_Gain_Loss_Ratio_3M_df['Agg_PCA'] - IR_Gain_Loss_Ratio_3M_df['Agg_Ori']).dropna().tolist()\n",
    "diff_Agg_PCA_gnl_3M = diff_Agg_PCA_gnl_3M + (CPI_Gain_Loss_Ratio_3M_df['Agg_PCA'] - CPI_Gain_Loss_Ratio_3M_df['Agg_Ori']).dropna().tolist()\n",
    "\n",
    "diff_Fea_PCA_gnl_3M = (IR_Gain_Loss_Ratio_3M_df['Fea_PCA'] - IR_Gain_Loss_Ratio_3M_df['Agg_Ori']).dropna().tolist()\n",
    "diff_Fea_PCA_gnl_3M = diff_Agg_PCA_gnl_3M + (CPI_Gain_Loss_Ratio_3M_df['Fea_PCA'] - CPI_Gain_Loss_Ratio_3M_df['Agg_Ori']).dropna().tolist()\n"
   ]
  },
  {
   "cell_type": "code",
   "execution_count": 15,
   "id": "2ad24752",
   "metadata": {
    "scrolled": true
   },
   "outputs": [
    {
     "name": "stdout",
     "output_type": "stream",
     "text": [
      "1M Agg PCA vs Ori Accuracy : p-value 0.5251267070475862\n",
      "3M Agg PCA vs Ori Accuracy : p-value 0.7267253105881284\n",
      "1M Fea PCA vs Ori Accuracy : p-value 0.8957327388122758\n",
      "3M Fea PCA vs Ori Accuracy : p-value 0.4908632216934794\n",
      "1M Agg PCA vs Ori Enhancement : p-value 0.5763051701566427\n",
      "3M Agg PCA vs Ori Enhancement : p-value 0.03527300022843302\n",
      "1M Fea PCA vs Ori Enhancement : p-value 0.5763051701566427\n",
      "3M Fea PCA vs Ori Enhancement : p-value 0.0477903522728147\n",
      "1M Agg PCA vs Ori GnL : p-value 0.6304554262834234\n",
      "3M Agg PCA vs Ori GnL : p-value 0.658508565397137\n",
      "1M Fea PCA vs Ori GnL : p-value 0.7541704612661515\n",
      "3M Fea PCA vs Ori GnL : p-value 0.882553989884163\n"
     ]
    }
   ],
   "source": [
    "print('1M Agg PCA vs Ori Accuracy : p-value', t.cdf(np.mean(diff_Agg_PCA_acc_1M)/(np.std(diff_Agg_PCA_acc_1M)/np.sqrt(len(diff_Agg_PCA_acc_1M))), len(diff_Agg_PCA_acc_1M)-1))\n",
    "print('3M Agg PCA vs Ori Accuracy : p-value', t.cdf(np.mean(diff_Agg_PCA_acc_3M)/(np.std(diff_Agg_PCA_acc_3M)/np.sqrt(len(diff_Agg_PCA_acc_3M))), len(diff_Agg_PCA_acc_3M)-1))\n",
    "print('1M Fea PCA vs Ori Accuracy : p-value', t.cdf(np.mean(diff_Fea_PCA_acc_1M)/(np.std(diff_Fea_PCA_acc_1M)/np.sqrt(len(diff_Fea_PCA_acc_1M))), len(diff_Fea_PCA_acc_1M)-1))\n",
    "print('3M Fea PCA vs Ori Accuracy : p-value', t.cdf(np.mean(diff_Fea_PCA_acc_3M)/(np.std(diff_Fea_PCA_acc_3M)/np.sqrt(len(diff_Fea_PCA_acc_3M))), len(diff_Fea_PCA_acc_3M)-1))\n",
    "\n",
    "print('1M Agg PCA vs Ori Enhancement : p-value', norm.cdf((Agg_PCA_enhance_prop_1M-0.5)/np.sqrt(0.5*0.5/Agg_PCA_enhance_prop_1M_count)))\n",
    "print('3M Agg PCA vs Ori Enhancement : p-value', norm.cdf((Agg_PCA_enhance_prop_3M-0.5)/np.sqrt(0.5*0.5/Agg_PCA_enhance_prop_3M_count)))\n",
    "print('1M Fea PCA vs Ori Enhancement : p-value', norm.cdf((Fea_PCA_enhance_prop_1M-0.5)/np.sqrt(0.5*0.5/Fea_PCA_enhance_prop_1M_count)))\n",
    "print('3M Fea PCA vs Ori Enhancement : p-value', norm.cdf((Fea_PCA_enhance_prop_3M-0.5)/np.sqrt(0.5*0.5/Fea_PCA_enhance_prop_3M_count)))\n",
    "\n",
    "print('1M Agg PCA vs Ori GnL : p-value', t.cdf(np.mean(diff_Agg_PCA_gnl_1M)/(np.std(diff_Agg_PCA_gnl_1M)/np.sqrt(len(diff_Agg_PCA_gnl_1M))), len(diff_Agg_PCA_gnl_1M)-1))\n",
    "print('3M Agg PCA vs Ori GnL : p-value', t.cdf(np.mean(diff_Agg_PCA_gnl_3M)/(np.std(diff_Agg_PCA_gnl_3M)/np.sqrt(len(diff_Agg_PCA_gnl_3M))), len(diff_Agg_PCA_gnl_3M)-1))\n",
    "print('1M Fea PCA vs Ori GnL : p-value', t.cdf(np.mean(diff_Fea_PCA_gnl_1M)/(np.std(diff_Fea_PCA_gnl_1M)/np.sqrt(len(diff_Fea_PCA_gnl_1M))), len(diff_Fea_PCA_gnl_1M)-1))\n",
    "print('3M Fea PCA vs Ori GnL : p-value', t.cdf(np.mean(diff_Fea_PCA_gnl_3M)/(np.std(diff_Fea_PCA_gnl_3M)/np.sqrt(len(diff_Fea_PCA_gnl_3M))), len(diff_Fea_PCA_gnl_3M)-1))\n"
   ]
  }
 ],
 "metadata": {
  "kernelspec": {
   "display_name": "Python 3 (ipykernel)",
   "language": "python",
   "name": "python3"
  },
  "language_info": {
   "codemirror_mode": {
    "name": "ipython",
    "version": 3
   },
   "file_extension": ".py",
   "mimetype": "text/x-python",
   "name": "python",
   "nbconvert_exporter": "python",
   "pygments_lexer": "ipython3",
   "version": "3.9.13"
  }
 },
 "nbformat": 4,
 "nbformat_minor": 5
}
